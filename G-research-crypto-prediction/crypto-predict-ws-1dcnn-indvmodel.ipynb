{
 "cells": [
  {
   "cell_type": "code",
   "execution_count": 1,
   "id": "963dc569",
   "metadata": {
    "_cell_guid": "b1076dfc-b9ad-4769-8c92-a6c4dae69d19",
    "_uuid": "8f2839f25d086af736a60e9eeb907d3b93b6e0e5",
    "execution": {
     "iopub.execute_input": "2022-01-30T23:46:53.842341Z",
     "iopub.status.busy": "2022-01-30T23:46:53.840852Z",
     "iopub.status.idle": "2022-01-30T23:46:53.860638Z",
     "shell.execute_reply": "2022-01-30T23:46:53.861124Z",
     "shell.execute_reply.started": "2022-01-30T15:53:28.86055Z"
    },
    "papermill": {
     "duration": 0.047401,
     "end_time": "2022-01-30T23:46:53.861380",
     "exception": false,
     "start_time": "2022-01-30T23:46:53.813979",
     "status": "completed"
    },
    "tags": []
   },
   "outputs": [
    {
     "name": "stdout",
     "output_type": "stream",
     "text": [
      "/kaggle/input/g-research-crypto-forecasting/example_sample_submission.csv\n",
      "/kaggle/input/g-research-crypto-forecasting/asset_details.csv\n",
      "/kaggle/input/g-research-crypto-forecasting/example_test.csv\n",
      "/kaggle/input/g-research-crypto-forecasting/train.csv\n",
      "/kaggle/input/g-research-crypto-forecasting/supplemental_train.csv\n",
      "/kaggle/input/g-research-crypto-forecasting/gresearch_crypto/competition.cpython-37m-x86_64-linux-gnu.so\n",
      "/kaggle/input/g-research-crypto-forecasting/gresearch_crypto/__init__.py\n"
     ]
    }
   ],
   "source": [
    "# This Python 3 environment comes with many helpful analytics libraries installed\n",
    "# It is defined by the kaggle/python Docker image: https://github.com/kaggle/docker-python\n",
    "# For example, here's several helpful packages to load\n",
    "\n",
    "import numpy as np # linear algebra\n",
    "import pandas as pd # data processing, CSV file I/O (e.g. pd.read_csv)\n",
    "\n",
    "# Input data files are available in the read-only \"../input/\" directory\n",
    "# For example, running this (by clicking run or pressing Shift+Enter) will list all files under the input directory\n",
    "\n",
    "import os\n",
    "for dirname, _, filenames in os.walk('/kaggle/input'):\n",
    "    for filename in filenames:\n",
    "        print(os.path.join(dirname, filename))\n",
    "\n",
    "# You can write up to 20GB to the current directory (/kaggle/working/) that gets preserved as output when you create a version using \"Save & Run All\" \n",
    "# You can also write temporary files to /kaggle/temp/, but they won't be saved outside of the current session"
   ]
  },
  {
   "cell_type": "code",
   "execution_count": 2,
   "id": "8a586947",
   "metadata": {
    "execution": {
     "iopub.execute_input": "2022-01-30T23:46:53.916644Z",
     "iopub.status.busy": "2022-01-30T23:46:53.912529Z",
     "iopub.status.idle": "2022-01-30T23:46:59.810727Z",
     "shell.execute_reply": "2022-01-30T23:46:59.810255Z",
     "shell.execute_reply.started": "2022-01-30T15:54:45.485353Z"
    },
    "papermill": {
     "duration": 5.926642,
     "end_time": "2022-01-30T23:46:59.810895",
     "exception": false,
     "start_time": "2022-01-30T23:46:53.884253",
     "status": "completed"
    },
    "tags": []
   },
   "outputs": [],
   "source": [
    "# import packages\n",
    "import gresearch_crypto\n",
    "from tensorflow.keras import layers\n",
    "from IPython import display\n",
    "\n",
    "import glob\n",
    "import imageio\n",
    "import os\n",
    "import PIL\n",
    "import time\n",
    "\n",
    "import numpy as np\n",
    "import matplotlib.pyplot as plt\n",
    "import tensorflow as tf\n",
    "import pandas as pd\n",
    "\n",
    "\n",
    "\n",
    "import random\n",
    "\n",
    "import pickle\n",
    " \n",
    "from tensorflow.keras import backend as K\n",
    "from tensorflow.keras.layers import Dense, Dropout, Flatten, Conv2D, MaxPool2D, Input\n",
    "from tensorflow.keras.models import Sequential, load_model\n",
    "from tensorflow.keras.callbacks import ModelCheckpoint\n",
    "from sklearn.preprocessing import StandardScaler, MinMaxScaler, RobustScaler\n",
    "from sklearn.metrics import accuracy_score, f1_score, mean_absolute_error"
   ]
  },
  {
   "cell_type": "code",
   "execution_count": 3,
   "id": "a560c740",
   "metadata": {
    "execution": {
     "iopub.execute_input": "2022-01-30T23:46:59.856793Z",
     "iopub.status.busy": "2022-01-30T23:46:59.855959Z",
     "iopub.status.idle": "2022-01-30T23:48:02.711171Z",
     "shell.execute_reply": "2022-01-30T23:48:02.711602Z",
     "shell.execute_reply.started": "2022-01-30T15:57:01.441791Z"
    },
    "papermill": {
     "duration": 62.881821,
     "end_time": "2022-01-30T23:48:02.711764",
     "exception": false,
     "start_time": "2022-01-30T23:46:59.829943",
     "status": "completed"
    },
    "tags": []
   },
   "outputs": [
    {
     "name": "stdout",
     "output_type": "stream",
     "text": [
      "elapsed time for loading train_df: 62.83318519592285\n"
     ]
    }
   ],
   "source": [
    "# train data - before 2021-06-13\n",
    "t0 = time.time()\n",
    "DATA_DIR = '/kaggle/input/g-research-crypto-forecasting/'\n",
    "def read_csv_strict(file_name='train.csv'):\n",
    "    df = pd.read_csv(file_name)\n",
    "    df['datetime'] = pd.to_datetime(df['timestamp'], unit='s')\n",
    "#     df = df[df['datetime'] < '2021-06-13 00:00:00']\n",
    "    return df\n",
    "\n",
    "\n",
    "\n",
    "def read_test_csv(file_name='train.csv'):\n",
    "    df = pd.read_csv(file_name)\n",
    "    df['datetime'] = pd.to_datetime(df['timestamp'], unit='s')\n",
    "    df = df[df['datetime'] >= '2021-06-13 00:00:00']\n",
    "    return df\n",
    "\n",
    "train_df = pd.concat([read_csv_strict(DATA_DIR+'train.csv'),\n",
    "                            read_csv_strict(DATA_DIR+'supplemental_train.csv')])\n",
    "# train_df = read_csv_strict('/kaggle/input/g-research-crypto-forecasting/train.csv') #train.csv\n",
    "# test_df = read_test_csv('/kaggle/input/g-research-crypto-forecasting/train.csv') #train.csv\n",
    "\n",
    "print('elapsed time for loading train_df:', time.time()-t0)"
   ]
  },
  {
   "cell_type": "code",
   "execution_count": 4,
   "id": "f14f8628",
   "metadata": {
    "execution": {
     "iopub.execute_input": "2022-01-30T23:48:02.760782Z",
     "iopub.status.busy": "2022-01-30T23:48:02.760080Z",
     "iopub.status.idle": "2022-01-30T23:48:25.497657Z",
     "shell.execute_reply": "2022-01-30T23:48:25.498173Z",
     "shell.execute_reply.started": "2022-01-30T15:57:44.213168Z"
    },
    "papermill": {
     "duration": 22.767132,
     "end_time": "2022-01-30T23:48:25.498348",
     "exception": false,
     "start_time": "2022-01-30T23:48:02.731216",
     "status": "completed"
    },
    "tags": []
   },
   "outputs": [
    {
     "name": "stdout",
     "output_type": "stream",
     "text": [
      "0 preprocessing...\n",
      "1 preprocessing...\n",
      "2 preprocessing...\n",
      "3 preprocessing...\n",
      "4 preprocessing...\n",
      "5 preprocessing...\n",
      "6 preprocessing...\n",
      "7 preprocessing...\n",
      "8 preprocessing...\n",
      "9 preprocessing...\n",
      "10 preprocessing...\n",
      "11 preprocessing...\n",
      "12 preprocessing...\n",
      "13 preprocessing...\n"
     ]
    },
    {
     "data": {
      "text/html": [
       "<div>\n",
       "<style scoped>\n",
       "    .dataframe tbody tr th:only-of-type {\n",
       "        vertical-align: middle;\n",
       "    }\n",
       "\n",
       "    .dataframe tbody tr th {\n",
       "        vertical-align: top;\n",
       "    }\n",
       "\n",
       "    .dataframe thead th {\n",
       "        text-align: right;\n",
       "    }\n",
       "</style>\n",
       "<table border=\"1\" class=\"dataframe\">\n",
       "  <thead>\n",
       "    <tr style=\"text-align: right;\">\n",
       "      <th></th>\n",
       "      <th>Count</th>\n",
       "      <th>Open</th>\n",
       "      <th>High</th>\n",
       "      <th>Low</th>\n",
       "      <th>Close</th>\n",
       "      <th>Volume</th>\n",
       "      <th>VWAP</th>\n",
       "      <th>Target</th>\n",
       "    </tr>\n",
       "    <tr>\n",
       "      <th>timestamp</th>\n",
       "      <th></th>\n",
       "      <th></th>\n",
       "      <th></th>\n",
       "      <th></th>\n",
       "      <th></th>\n",
       "      <th></th>\n",
       "      <th></th>\n",
       "      <th></th>\n",
       "    </tr>\n",
       "  </thead>\n",
       "  <tbody>\n",
       "    <tr>\n",
       "      <th>1514764860</th>\n",
       "      <td>-0.254237</td>\n",
       "      <td>5.558029</td>\n",
       "      <td>5.615085</td>\n",
       "      <td>5.510651</td>\n",
       "      <td>5.552136</td>\n",
       "      <td>-0.345581</td>\n",
       "      <td>5.548600</td>\n",
       "      <td>-0.004218</td>\n",
       "    </tr>\n",
       "    <tr>\n",
       "      <th>1514764920</th>\n",
       "      <td>-0.144068</td>\n",
       "      <td>5.552338</td>\n",
       "      <td>5.619013</td>\n",
       "      <td>5.502389</td>\n",
       "      <td>5.545669</td>\n",
       "      <td>-0.320019</td>\n",
       "      <td>5.543876</td>\n",
       "      <td>-0.004079</td>\n",
       "    </tr>\n",
       "    <tr>\n",
       "      <th>1514764980</th>\n",
       "      <td>-0.076271</td>\n",
       "      <td>5.544138</td>\n",
       "      <td>5.621819</td>\n",
       "      <td>5.500984</td>\n",
       "      <td>5.545041</td>\n",
       "      <td>-0.221180</td>\n",
       "      <td>5.555133</td>\n",
       "      <td>-0.002892</td>\n",
       "    </tr>\n",
       "    <tr>\n",
       "      <th>1514765040</th>\n",
       "      <td>0.211864</td>\n",
       "      <td>5.556568</td>\n",
       "      <td>5.634445</td>\n",
       "      <td>5.473724</td>\n",
       "      <td>5.540839</td>\n",
       "      <td>-0.246946</td>\n",
       "      <td>5.542926</td>\n",
       "      <td>-0.003718</td>\n",
       "    </tr>\n",
       "    <tr>\n",
       "      <th>1514765100</th>\n",
       "      <td>-0.313559</td>\n",
       "      <td>5.547012</td>\n",
       "      <td>5.629395</td>\n",
       "      <td>5.472038</td>\n",
       "      <td>5.539734</td>\n",
       "      <td>-0.402430</td>\n",
       "      <td>5.540819</td>\n",
       "      <td>-0.002171</td>\n",
       "    </tr>\n",
       "  </tbody>\n",
       "</table>\n",
       "</div>"
      ],
      "text/plain": [
       "               Count      Open      High       Low     Close    Volume  \\\n",
       "timestamp                                                                \n",
       "1514764860 -0.254237  5.558029  5.615085  5.510651  5.552136 -0.345581   \n",
       "1514764920 -0.144068  5.552338  5.619013  5.502389  5.545669 -0.320019   \n",
       "1514764980 -0.076271  5.544138  5.621819  5.500984  5.545041 -0.221180   \n",
       "1514765040  0.211864  5.556568  5.634445  5.473724  5.540839 -0.246946   \n",
       "1514765100 -0.313559  5.547012  5.629395  5.472038  5.539734 -0.402430   \n",
       "\n",
       "                VWAP    Target  \n",
       "timestamp                       \n",
       "1514764860  5.548600 -0.004218  \n",
       "1514764920  5.543876 -0.004079  \n",
       "1514764980  5.555133 -0.002892  \n",
       "1514765040  5.542926 -0.003718  \n",
       "1514765100  5.540819 -0.002171  "
      ]
     },
     "execution_count": 4,
     "metadata": {},
     "output_type": "execute_result"
    }
   ],
   "source": [
    "# 데이터 전처리\n",
    "\n",
    "from sklearn.preprocessing import StandardScaler\n",
    "\n",
    "def preprocess_data(train_df, number):\n",
    "    \n",
    "    # id에 맞는 데이터 불러오기\n",
    "    bitc = train_df[train_df.Asset_ID == number].set_index('timestamp')\n",
    "\n",
    "    # 무한대, 무한소 nan으로 치환 \n",
    "    bitc = bitc.replace([np.inf, -np.inf], np.nan)\n",
    "\n",
    "    # 이미 존재하는 결측치는 제거\n",
    "    bitc = bitc.dropna()\n",
    "\n",
    "    \n",
    "    # 처음과 끝 시간 사이에 60초 간격으로 range 생성\n",
    "    bitc_fill_range = range(bitc.index[0], bitc.index[-1]+60, 60)\n",
    "    \n",
    "    # 새로운 60초 간격의 range에 맞게 padding하여 데이터프레임 생성\n",
    "    bitc = bitc.reindex(bitc_fill_range, method='pad') \n",
    "    \n",
    "    # 인덱스로 시간정보가 들어갔으니 datetime 컬럼 drop\n",
    "    bitc = bitc.drop(columns=['datetime'])\n",
    "\n",
    "    # scale the data\n",
    "#     scaler = StandardScaler()\n",
    "#     scaler = MinMaxScaler()  # test : minmax scale\n",
    "    scaler = RobustScaler()\n",
    "\n",
    "    features = bitc.columns.drop(['Target','Asset_ID'])\n",
    "    bitc_scaled_X = scaler.fit_transform(bitc[features])\n",
    "\n",
    "    bitc_scaled_X_with_y = pd.concat([pd.DataFrame(bitc_scaled_X, columns=features, index=bitc.index),\n",
    "                                            bitc['Target']], axis=1)\n",
    "                                        \n",
    "    \n",
    "    df = pd.DataFrame(bitc_scaled_X_with_y, \n",
    "                          columns=['Asset_ID', 'Count', 'Open', \n",
    "                                   'High', 'Low', 'Close',\n",
    "                                   'Volume', 'VWAP', 'Target']).drop(columns=['Asset_ID'])\n",
    "    return bitc_scaled_X_with_y\n",
    "\n",
    "\n",
    "# preprocess_data(train_df,0)\n",
    "data_prep = []\n",
    "asset_list_df = pd.read_csv('/kaggle/input/g-research-crypto-forecasting/asset_details.csv')  #asset_details.csv\n",
    "\n",
    "for i in range(asset_list_df.Asset_ID.max()+1):\n",
    "    print(f'{i} preprocessing...')\n",
    "    data_prep.append(preprocess_data(train_df, i))\n",
    "    \n",
    "data_prep[2].head(5)"
   ]
  },
  {
   "cell_type": "code",
   "execution_count": 5,
   "id": "41c9ffad",
   "metadata": {
    "execution": {
     "iopub.execute_input": "2022-01-30T23:48:25.554907Z",
     "iopub.status.busy": "2022-01-30T23:48:25.548746Z",
     "iopub.status.idle": "2022-01-30T23:48:25.557141Z",
     "shell.execute_reply": "2022-01-30T23:48:25.556666Z",
     "shell.execute_reply.started": "2022-01-30T15:58:10.562806Z"
    },
    "papermill": {
     "duration": 0.035054,
     "end_time": "2022-01-30T23:48:25.557263",
     "exception": false,
     "start_time": "2022-01-30T23:48:25.522209",
     "status": "completed"
    },
    "tags": []
   },
   "outputs": [],
   "source": [
    "def datagen(data, seq_len, batch_size, kind):\n",
    "#     t0 = time.time()\n",
    "    batch = []\n",
    "    while True:\n",
    "        # only use bitcoin (Asset_ID = 2)\n",
    "        df = random.choice(data)\n",
    "#         df = data[2]\n",
    "        input_cols = [c for c in df.columns if c != 'Target']\n",
    "        index = df.index\n",
    "        split = int(len(index)*TRAIN_VALID_RATIO)\n",
    "\n",
    "        if kind == 'train':\n",
    "            index = index[:split]\n",
    "        elif kind == 'valid':\n",
    "            index = index[split:]\n",
    "            \n",
    "        while True:\n",
    "            t = random.choice(index)\n",
    "            n = np.where(index == t)[0][0] - 1 # 타겟 시각 이전 1개부터 불러옴.\n",
    "            if n-seq_len+1 < 0:\n",
    "                continue # seq_len보다 n이 크지 않으면 다시 choice\n",
    "            frame = df.iloc[n-seq_len+1:n+1]\n",
    "            # 이전 seq_len만큼의 날들의 데이터를 X, 선택한 날의 Target을 y로 지정하여 append.\n",
    "            batch.append([frame[input_cols].values, df.loc[t, 'Target']])\n",
    "            break\n",
    "\n",
    "        if len(batch) == batch_size:\n",
    "            X, y = zip(*batch)\n",
    "            X, y = np.expand_dims(np.array(X), 3), np.array(y)\n",
    "            yield X, y\n",
    "            batch = []\n",
    "\n",
    "            \n",
    "    "
   ]
  },
  {
   "cell_type": "code",
   "execution_count": 6,
   "id": "67031a98",
   "metadata": {
    "execution": {
     "iopub.execute_input": "2022-01-30T23:48:25.608532Z",
     "iopub.status.busy": "2022-01-30T23:48:25.607007Z",
     "iopub.status.idle": "2022-01-30T23:48:25.609130Z",
     "shell.execute_reply": "2022-01-30T23:48:25.609532Z",
     "shell.execute_reply.started": "2022-01-30T15:41:36.137355Z"
    },
    "papermill": {
     "duration": 0.029443,
     "end_time": "2022-01-30T23:48:25.609714",
     "exception": false,
     "start_time": "2022-01-30T23:48:25.580271",
     "status": "completed"
    },
    "tags": []
   },
   "outputs": [],
   "source": [
    "# test datagen\n",
    "# TRAIN_VALID_RATIO = 0.75\n",
    "# for X, y in datagen(data_prep, 60, 16, \"train\"):\n",
    "# #     print(X, y)\n",
    "#     break"
   ]
  },
  {
   "cell_type": "code",
   "execution_count": 7,
   "id": "24472544",
   "metadata": {
    "execution": {
     "iopub.execute_input": "2022-01-30T23:48:25.666273Z",
     "iopub.status.busy": "2022-01-30T23:48:25.665655Z",
     "iopub.status.idle": "2022-01-30T23:48:28.203250Z",
     "shell.execute_reply": "2022-01-30T23:48:28.203661Z",
     "shell.execute_reply.started": "2022-01-30T16:09:53.155302Z"
    },
    "papermill": {
     "duration": 2.57091,
     "end_time": "2022-01-30T23:48:28.203821",
     "exception": false,
     "start_time": "2022-01-30T23:48:25.632911",
     "status": "completed"
    },
    "tags": []
   },
   "outputs": [
    {
     "name": "stderr",
     "output_type": "stream",
     "text": [
      "2022-01-30 23:48:25.752205: I tensorflow/stream_executor/cuda/cuda_gpu_executor.cc:937] successful NUMA node read from SysFS had negative value (-1), but there must be at least one NUMA node, so returning NUMA node zero\n",
      "2022-01-30 23:48:25.869183: I tensorflow/stream_executor/cuda/cuda_gpu_executor.cc:937] successful NUMA node read from SysFS had negative value (-1), but there must be at least one NUMA node, so returning NUMA node zero\n",
      "2022-01-30 23:48:25.869935: I tensorflow/stream_executor/cuda/cuda_gpu_executor.cc:937] successful NUMA node read from SysFS had negative value (-1), but there must be at least one NUMA node, so returning NUMA node zero\n",
      "2022-01-30 23:48:25.871181: I tensorflow/core/platform/cpu_feature_guard.cc:142] This TensorFlow binary is optimized with oneAPI Deep Neural Network Library (oneDNN) to use the following CPU instructions in performance-critical operations:  AVX2 AVX512F FMA\n",
      "To enable them in other operations, rebuild TensorFlow with the appropriate compiler flags.\n",
      "2022-01-30 23:48:25.872340: I tensorflow/stream_executor/cuda/cuda_gpu_executor.cc:937] successful NUMA node read from SysFS had negative value (-1), but there must be at least one NUMA node, so returning NUMA "
     ]
    },
    {
     "name": "stdout",
     "output_type": "stream",
     "text": [
      "Model: \"sequential\"\n",
      "_________________________________________________________________\n",
      "Layer (type)                 Output Shape              Param #   \n",
      "=================================================================\n",
      "conv2d (Conv2D)              (None, 46, 7, 1)          16        \n",
      "_________________________________________________________________\n",
      "max_pooling2d (MaxPooling2D) (None, 23, 7, 1)          0         \n",
      "_________________________________________________________________\n",
      "flatten (Flatten)            (None, 161)               0         \n",
      "_________________________________________________________________\n",
      "dense (Dense)                (None, 256)               41472     \n",
      "_________________________________________________________________\n",
      "dropout (Dropout)            (None, 256)               0         \n",
      "_________________________________________________________________\n",
      "dense_1 (Dense)              (None, 128)               32896     \n",
      "_________________________________________________________________\n",
      "dropout_1 (Dropout)          (None, 128)               0         \n",
      "_________________________________________________________________\n",
      "dense_2 (Dense)              (None, 64)                8256      \n",
      "_________________________________________________________________\n",
      "dropout_2 (Dropout)          (None, 64)                0         \n",
      "_________________________________________________________________\n",
      "dense_3 (Dense)              (None, 1)                 65        \n",
      "=================================================================\n",
      "Total params: 82,705\n",
      "Trainable params: 82,705\n",
      "Non-trainable params: 0\n",
      "_________________________________________________________________\n"
     ]
    },
    {
     "name": "stderr",
     "output_type": "stream",
     "text": [
      "node zero\n",
      "2022-01-30 23:48:25.873239: I tensorflow/stream_executor/cuda/cuda_gpu_executor.cc:937] successful NUMA node read from SysFS had negative value (-1), but there must be at least one NUMA node, so returning NUMA node zero\n",
      "2022-01-30 23:48:25.873904: I tensorflow/stream_executor/cuda/cuda_gpu_executor.cc:937] successful NUMA node read from SysFS had negative value (-1), but there must be at least one NUMA node, so returning NUMA node zero\n",
      "2022-01-30 23:48:27.811347: I tensorflow/stream_executor/cuda/cuda_gpu_executor.cc:937] successful NUMA node read from SysFS had negative value (-1), but there must be at least one NUMA node, so returning NUMA node zero\n",
      "2022-01-30 23:48:27.812146: I tensorflow/stream_executor/cuda/cuda_gpu_executor.cc:937] successful NUMA node read from SysFS had negative value (-1), but there must be at least one NUMA node, so returning NUMA node zero\n",
      "2022-01-30 23:48:27.812775: I tensorflow/stream_executor/cuda/cuda_gpu_executor.cc:937] successful NUMA node read from SysFS had negative value (-1), but there must be at least one NUMA node, so returning NUMA node zero\n",
      "2022-01-30 23:48:27.813473: I tensorflow/core/common_runtime/gpu/gpu_device.cc:1510] Created device /job:localhost/replica:0/task:0/device:GPU:0 with 15403 MB memory:  -> device: 0, name: Tesla P100-PCIE-16GB, pci bus id: 0000:00:04.0, compute capability: 6.0\n"
     ]
    }
   ],
   "source": [
    "# 2D CNN model\n",
    "\n",
    "# seq_len = 15 # 15분\n",
    "seq_len = 60 # 한시간\n",
    "# seq_len = 60*24 # 하루?\n",
    "# seq_len = 60*24*7 # 일주일\n",
    "# seq_len = 60*24*30 # 한달\n",
    "\n",
    "# cnn2d shape ref: \n",
    "# https://www.researchgate.net/publication/323131323_A_deep_learning_based_stock_trading_model_with_2-D_CNN_trend_detection\n",
    "\n",
    "# kernel ref :\n",
    "# https://arxiv.org/pdf/2104.05413.pdf\n",
    "# 규제\n",
    "# L2 norm, dropout 적용\n",
    "\n",
    "### 2d test ###\n",
    "def cnnpred_2d(seq_len=seq_len, n_features=7, n_filters=(1,1), lambd = 0., droprate = 0.2): #n_filters = (16,32)\n",
    "    \n",
    "    # He normalization applied as we use Relu\n",
    "    init = tf.keras.initializers.HeNormal()\n",
    "    regularizer=tf.keras.regularizers.l2(lambd)\n",
    "\n",
    "\n",
    "    model = Sequential([\n",
    "        Conv2D(n_filters[0], kernel_size=(15, 1), activation='relu', kernel_initializer=init,\n",
    "               input_shape=(seq_len, n_features, 1)),\n",
    "        MaxPool2D(pool_size=(2,1)), # 2,1, strides = (2,1)\n",
    "#         Conv2D(n_filters[1], kernel_size=(int(seq_len*0.2), 1), activation='relu', kernel_initializer=init),\n",
    "#         MaxPool2D(pool_size=(2,1)),\n",
    "#         Conv2D(n_filters, kernel_size=(3, 3), activation='relu', kernel_initializer=init,\n",
    "#                input_shape=(seq_len, n_features, 1)),\n",
    "#         MaxPool2D(pool_size=(2,1)), # 2,1, strides = (2,1)\n",
    "#         Conv2D(n_filters, kernel_size=(4, 1), activation='relu'),\n",
    "#         MaxPool2D(pool_size=(2,1)),\n",
    "#         Dropout(droprate),\n",
    "        Flatten(),\n",
    "        Dense(256, activation='relu',kernel_regularizer=regularizer),\n",
    "        Dropout(droprate),\n",
    "        Dense(128, activation='relu',kernel_regularizer=regularizer), # activation 있고 없고의 실제 차이 궁금?\n",
    "        Dropout(droprate),\n",
    "        Dense(64, activation='relu',kernel_regularizer=regularizer),\n",
    "        Dropout(droprate),\n",
    "        Dense(1, activation='linear')\n",
    "    ])\n",
    "    return model\n",
    "\n",
    "cnnpred_2d().summary()\n",
    "\n",
    "\n",
    "### 1d test ###\n",
    "# def cnnpred_1d(seq_len=seq_len, n_features=7, n_filters=8,\n",
    "#               droprate=0.25):\n",
    "    \n",
    "#     model = Sequential([\n",
    "#         Conv2D(n_filters, kernel_size=(15, 1), activation='relu', \n",
    "#                input_shape=(seq_len, n_features, 1)),\n",
    "#         MaxPool2D(pool_size=(2,1)), # 2,1, strides = (2,1)\n",
    "#         Conv2D(n_filters, kernel_size=(8, 1), activation='relu'),\n",
    "#         MaxPool2D(pool_size=(2,1)),\n",
    "# #         Conv2D(n_filters, kernel_size=(4, 1), activation='relu'),\n",
    "# #         MaxPool2D(pool_size=(2,1)),\n",
    "# #         Dropout(droprate),\n",
    "#         Flatten(),\n",
    "#         Dense(128, activation='relu'), # activation 있고 없고의 실제 차이 궁금?\n",
    "#         Dense(64, activation='relu'),\n",
    "#         Dense(1, activation='linear')\n",
    "#     ])\n",
    "#     return model\n",
    "\n",
    "# cnnpred_1d().summary()\n",
    "\n",
    "\n",
    "##"
   ]
  },
  {
   "cell_type": "code",
   "execution_count": 8,
   "id": "21e68ecd",
   "metadata": {
    "execution": {
     "iopub.execute_input": "2022-01-30T23:48:28.262938Z",
     "iopub.status.busy": "2022-01-30T23:48:28.262353Z",
     "iopub.status.idle": "2022-01-30T23:48:28.265922Z",
     "shell.execute_reply": "2022-01-30T23:48:28.265457Z",
     "shell.execute_reply.started": "2022-01-30T15:58:13.430472Z"
    },
    "papermill": {
     "duration": 0.036587,
     "end_time": "2022-01-30T23:48:28.266100",
     "exception": false,
     "start_time": "2022-01-30T23:48:28.229513",
     "status": "completed"
    },
    "tags": []
   },
   "outputs": [],
   "source": [
    "# pearson coefficient 손실함수, 평가 정의\n",
    "# from tensorflow.keras import backend as K\n",
    " \n",
    "def plcc_loss(y_true, y_pred):  \n",
    "    x = y_true\n",
    "    y = y_pred\n",
    "    mx = K.mean(x)\n",
    "    my = K.mean(y)\n",
    "    xm, ym = x-mx, y-my\n",
    "    r_num = K.sum(tf.multiply(xm,ym))\n",
    "    r_den = K.sqrt(tf.multiply(K.sum(K.square(xm)), K.sum(K.square(ym)))) + 1e-12\n",
    "    r = r_num / r_den\n",
    "    r = K.maximum(K.minimum(r, 1.0), -1.0)\n",
    "    return 1 - K.square(r) \n",
    "\n",
    "\n",
    "# def pearson_r(y_true, y_pred):\n",
    "#     x = y_true\n",
    "#     y = y_pred\n",
    "#     mx = tf.reduce_mean(x, axis=1, keepdims=True)\n",
    "#     my = tf.reduce_mean(y, axis=1, keepdims=True)\n",
    "#     xm, ym = x - mx, y - my\n",
    "#     t1_norm = tf.nn.l2_normalize(xm, axis = 1)\n",
    "#     t2_norm = tf.nn.l2_normalize(ym, axis = 1)\n",
    "#     cosine = tf.keras.losses.CosineSimilarity(-1,t1_norm, t2_norm)\n",
    "#     return cosine\n",
    "\n",
    "def plcc_metric(y_true, y_pred):  \n",
    "    x = y_true\n",
    "    y = y_pred\n",
    "    mx = K.mean(x)\n",
    "    my = K.mean(y)\n",
    "    xm, ym = x-mx, y-my\n",
    "    r_num = K.sum(tf.multiply(xm,ym))\n",
    "    r_den = K.sqrt(tf.multiply(K.sum(K.square(xm)), K.sum(K.square(ym)))) + 1e-12\n",
    "    return r_num / r_den"
   ]
  },
  {
   "cell_type": "markdown",
   "id": "0b510744",
   "metadata": {
    "papermill": {
     "duration": 0.024025,
     "end_time": "2022-01-30T23:48:28.314407",
     "exception": false,
     "start_time": "2022-01-30T23:48:28.290382",
     "status": "completed"
    },
    "tags": []
   },
   "source": [
    "## 문제점?\n",
    "1. 예측해야되는게 3달 간의 자료 (3*30*24*60) 인데, 모델 훈련량이 너무 적다..  \n",
    "한시간 데이터로 계속 먹여주면서 학습인데, epoch 100 / step 50 정도로 충분한지?\n",
    "2. batch_size, lr 만 하이퍼파라미터 튜닝 해볼것"
   ]
  },
  {
   "cell_type": "code",
   "execution_count": 9,
   "id": "716fde31",
   "metadata": {
    "execution": {
     "iopub.execute_input": "2022-01-30T23:48:28.380175Z",
     "iopub.status.busy": "2022-01-30T23:48:28.379287Z",
     "iopub.status.idle": "2022-01-30T23:56:59.195557Z",
     "shell.execute_reply": "2022-01-30T23:56:59.195125Z",
     "shell.execute_reply.started": "2022-01-30T16:13:44.231126Z"
    },
    "papermill": {
     "duration": 510.85729,
     "end_time": "2022-01-30T23:56:59.195690",
     "exception": false,
     "start_time": "2022-01-30T23:48:28.338400",
     "status": "completed"
    },
    "tags": []
   },
   "outputs": [
    {
     "name": "stderr",
     "output_type": "stream",
     "text": [
      "/opt/conda/lib/python3.7/site-packages/keras/optimizer_v2/optimizer_v2.py:356: UserWarning: The `lr` argument is deprecated, use `learning_rate` instead.\n",
      "  \"The `lr` argument is deprecated, use `learning_rate` instead.\")\n",
      "2022-01-30 23:48:28.672143: I tensorflow/compiler/mlir/mlir_graph_optimization_pass.cc:185] None of the MLIR Optimization Passes are enabled (registered 2)\n"
     ]
    },
    {
     "name": "stdout",
     "output_type": "stream",
     "text": [
      "Epoch 1/100\n"
     ]
    },
    {
     "name": "stderr",
     "output_type": "stream",
     "text": [
      "2022-01-30 23:48:30.273923: I tensorflow/stream_executor/cuda/cuda_dnn.cc:369] Loaded cuDNN version 8005\n"
     ]
    },
    {
     "name": "stdout",
     "output_type": "stream",
     "text": [
      "300/300 [==============================] - 45s 127ms/step - loss: 27.3674 - plcc_metric: -0.0083 - val_loss: 14.5843 - val_plcc_metric: 0.0442\n",
      "Epoch 2/100\n",
      "300/300 [==============================] - 41s 136ms/step - loss: 8.9095 - plcc_metric: -0.0291 - val_loss: 5.0667 - val_plcc_metric: 0.0027\n",
      "Epoch 3/100\n",
      "300/300 [==============================] - 38s 127ms/step - loss: 3.3461 - plcc_metric: -0.0267 - val_loss: 2.2120 - val_plcc_metric: -0.0271\n",
      "Epoch 4/100\n",
      "300/300 [==============================] - 38s 129ms/step - loss: 1.6510 - plcc_metric: 0.0080 - val_loss: 1.3469 - val_plcc_metric: -0.0261\n",
      "Epoch 5/100\n",
      "300/300 [==============================] - 38s 129ms/step - loss: 1.1337 - plcc_metric: 0.0535 - val_loss: 1.0972 - val_plcc_metric: -0.0213\n",
      "Epoch 6/100\n",
      "300/300 [==============================] - 38s 128ms/step - loss: 0.9834 - plcc_metric: 0.0414 - val_loss: 1.0124 - val_plcc_metric: -0.0408\n",
      "Epoch 7/100\n",
      "300/300 [==============================] - 39s 131ms/step - loss: 0.9401 - plcc_metric: 0.0492 - val_loss: 0.9962 - val_plcc_metric: -0.0055\n",
      "Epoch 8/100\n",
      "300/300 [==============================] - 39s 129ms/step - loss: 0.9204 - plcc_metric: 0.0812 - val_loss: 0.9927 - val_plcc_metric: -0.0210\n",
      "Epoch 9/100\n",
      "300/300 [==============================] - 39s 129ms/step - loss: 0.9525 - plcc_metric: 0.0409 - val_loss: 1.0109 - val_plcc_metric: 0.0000e+00\n",
      "Epoch 10/100\n",
      "300/300 [==============================] - 39s 130ms/step - loss: 1.0016 - plcc_metric: -0.0043 - val_loss: 1.0033 - val_plcc_metric: 0.0000e+00\n",
      "Epoch 11/100\n",
      "300/300 [==============================] - 39s 130ms/step - loss: 1.0019 - plcc_metric: 0.0000e+00 - val_loss: 1.0010 - val_plcc_metric: 0.0000e+00\n",
      "Epoch 12/100\n",
      "300/300 [==============================] - 39s 130ms/step - loss: 1.0006 - plcc_metric: 0.0000e+00 - val_loss: 1.0003 - val_plcc_metric: 0.0000e+00\n",
      "Epoch 13/100\n",
      "300/300 [==============================] - 38s 128ms/step - loss: 1.0002 - plcc_metric: 0.0000e+00 - val_loss: 1.0001 - val_plcc_metric: 0.0000e+00\n",
      "total time: 510.8174183368683\n"
     ]
    }
   ],
   "source": [
    "# final 1d-cnn with all coins -> \n",
    "batch_size = 32\n",
    "n_epochs = 100  # 100\n",
    "n_features = 7\n",
    "TRAIN_VALID_RATIO = 0.75\n",
    "\n",
    "# define RMSE\n",
    "def RMSE(y_true, y_pred):\n",
    "        return K.sqrt(K.mean(K.square(y_pred - y_true))) \n",
    "\n",
    "# learning rate scheduler\n",
    "first_decay_steps = 1000\n",
    "initial_learning_rate = 0.05\n",
    "lr_decayed_fn = (\n",
    "#   tf.keras.experimental.CosineDecayRestarts(\n",
    "#       initial_learning_rate,\n",
    "#       first_decay_steps))\n",
    "    tf.keras.optimizers.schedules.CosineDecay(\n",
    "    initial_learning_rate, first_decay_steps))\n",
    "\n",
    "\n",
    "\n",
    "# early stopping \n",
    "early_stop = tf.keras.callbacks.EarlyStopping(monitor = 'val_loss', patience = 5)\n",
    "\n",
    "# model checkpoint \n",
    "mc = ModelCheckpoint('best_model_1dcnn_allcoin.h5', monitor='val_loss', mode='min', save_best_only=True)\n",
    "\n",
    "\n",
    "t0 = time.time()\n",
    "model = cnnpred_2d(seq_len=seq_len, n_features=7, n_filters=(1,1),lambd = 0.1, droprate=0.2) #n_filters=(16,32)\n",
    "model.compile(optimizer=tf.keras.optimizers.SGD(lr=0.01), \n",
    "#               tf.keras.optimizers.Adam(learning_rate=lr_decayed_fn),\n",
    "#               optimizer=tf.keras.optimizers.Adagrad(learning_rate=0.01),\n",
    "              loss=plcc_loss, metrics=[plcc_metric])\n",
    "hist = model.fit(datagen(data_prep, seq_len, batch_size, \"train\"),\n",
    "         validation_data = datagen(data_prep, seq_len, batch_size, \"valid\"),\n",
    "          epochs = n_epochs,\n",
    "          validation_steps=50, steps_per_epoch=300, #10, 50\n",
    "          verbose=1, callbacks = [early_stop,mc]\n",
    "         )\n",
    "print('total time:', time.time() - t0)"
   ]
  },
  {
   "cell_type": "code",
   "execution_count": 10,
   "id": "40a6eaf8",
   "metadata": {
    "execution": {
     "iopub.execute_input": "2022-01-30T23:57:01.552373Z",
     "iopub.status.busy": "2022-01-30T23:57:01.551535Z",
     "iopub.status.idle": "2022-01-30T23:57:01.553970Z",
     "shell.execute_reply": "2022-01-30T23:57:01.553534Z",
     "shell.execute_reply.started": "2022-01-29T14:47:03.253017Z"
    },
    "papermill": {
     "duration": 1.04417,
     "end_time": "2022-01-30T23:57:01.554096",
     "exception": false,
     "start_time": "2022-01-30T23:57:00.509926",
     "status": "completed"
    },
    "tags": []
   },
   "outputs": [],
   "source": [
    "# st = StandardScaler()\n",
    "# stf = st.fit_transform(train_df[train_df.Asset_ID == 0].drop(columns=['timestamp','Asset_ID','datetime']))\n",
    "\n",
    "# mm = MinMaxScaler()\n",
    "# mmf = mm.fit_transform(train_df[train_df.Asset_ID == 0].drop(columns=['timestamp','Asset_ID','datetime']))\n",
    "\n",
    "\n",
    "# plt.plot(stf[:,0],alpha=0.5)\n",
    "# plt.plot(mmf[:,0],alpha=0.5)"
   ]
  },
  {
   "cell_type": "code",
   "execution_count": null,
   "id": "f6774c16",
   "metadata": {
    "papermill": {
     "duration": 1.031962,
     "end_time": "2022-01-30T23:57:04.109832",
     "exception": false,
     "start_time": "2022-01-30T23:57:03.077870",
     "status": "completed"
    },
    "tags": []
   },
   "outputs": [],
   "source": []
  },
  {
   "cell_type": "code",
   "execution_count": 11,
   "id": "ed66c9ad",
   "metadata": {
    "execution": {
     "iopub.execute_input": "2022-01-30T23:57:06.227300Z",
     "iopub.status.busy": "2022-01-30T23:57:06.226439Z",
     "iopub.status.idle": "2022-01-30T23:57:06.229346Z",
     "shell.execute_reply": "2022-01-30T23:57:06.228841Z",
     "shell.execute_reply.started": "2022-01-29T14:45:46.186431Z"
    },
    "papermill": {
     "duration": 1.087883,
     "end_time": "2022-01-30T23:57:06.229481",
     "exception": false,
     "start_time": "2022-01-30T23:57:05.141598",
     "status": "completed"
    },
    "tags": []
   },
   "outputs": [],
   "source": [
    "# plt.plot(train_df[train_df.Asset_ID == 0].Count)"
   ]
  },
  {
   "cell_type": "code",
   "execution_count": 12,
   "id": "22d1168b",
   "metadata": {
    "execution": {
     "iopub.execute_input": "2022-01-30T23:57:08.331591Z",
     "iopub.status.busy": "2022-01-30T23:57:08.330722Z",
     "iopub.status.idle": "2022-01-30T23:57:52.708176Z",
     "shell.execute_reply": "2022-01-30T23:57:52.707707Z",
     "shell.execute_reply.started": "2022-01-30T16:21:07.628469Z"
    },
    "papermill": {
     "duration": 45.418636,
     "end_time": "2022-01-30T23:57:52.708295",
     "exception": false,
     "start_time": "2022-01-30T23:57:07.289659",
     "status": "completed"
    },
    "tags": []
   },
   "outputs": [
    {
     "data": {
      "text/plain": [
       "<matplotlib.legend.Legend at 0x7f92404b0490>"
      ]
     },
     "execution_count": 12,
     "metadata": {},
     "output_type": "execute_result"
    },
    {
     "data": {
      "image/png": "[encoded data removed]",
      "text/plain": [
       "<Figure size 432x288 with 1 Axes>"
      ]
     },
     "metadata": {
      "needs_background": "light"
     },
     "output_type": "display_data"
    }
   ],
   "source": [
    "model.load_weights('best_model_1dcnn_allcoin.h5')\n",
    "for X, y in datagen(data_prep, seq_len, batch_size, \"valid\"):\n",
    "    break\n",
    "\n",
    "plt.plot(y,label='actual')\n",
    "plt.plot(model.predict(X),label='prediction')\n",
    "plt.legend()\n",
    "# # # plt.ylim(-0.01,0.01)\n",
    "# # # plt.imshow(X[0,:,:,0])"
   ]
  },
  {
   "cell_type": "code",
   "execution_count": 13,
   "id": "e74dccf4",
   "metadata": {
    "execution": {
     "iopub.execute_input": "2022-01-30T23:57:54.828610Z",
     "iopub.status.busy": "2022-01-30T23:57:54.827749Z",
     "iopub.status.idle": "2022-01-30T23:57:54.829996Z",
     "shell.execute_reply": "2022-01-30T23:57:54.829482Z",
     "shell.execute_reply.started": "2022-01-29T14:19:19.106612Z"
    },
    "papermill": {
     "duration": 1.068035,
     "end_time": "2022-01-30T23:57:54.830113",
     "exception": false,
     "start_time": "2022-01-30T23:57:53.762078",
     "status": "completed"
    },
    "tags": []
   },
   "outputs": [],
   "source": [
    "# load model with custom metrics\n",
    "# model2 = load_model('model_1dcnn_useall_2nd', custom_objects={'RMSE':RMSE,\n",
    "#                                                              'plcc_metric':plcc_metric})"
   ]
  },
  {
   "cell_type": "code",
   "execution_count": null,
   "id": "b74178f9",
   "metadata": {
    "papermill": {
     "duration": 1.08544,
     "end_time": "2022-01-30T23:57:57.223280",
     "exception": false,
     "start_time": "2022-01-30T23:57:56.137840",
     "status": "completed"
    },
    "tags": []
   },
   "outputs": [],
   "source": []
  },
  {
   "cell_type": "markdown",
   "id": "883b1cc1",
   "metadata": {
    "papermill": {
     "duration": 1.039356,
     "end_time": "2022-01-30T23:57:59.304092",
     "exception": false,
     "start_time": "2022-01-30T23:57:58.264736",
     "status": "completed"
    },
    "tags": []
   },
   "source": [
    "## Test model for bitcoin only\n",
    "see the prediction and real "
   ]
  },
  {
   "cell_type": "code",
   "execution_count": 14,
   "id": "8c2a23b4",
   "metadata": {
    "execution": {
     "iopub.execute_input": "2022-01-30T23:58:01.380298Z",
     "iopub.status.busy": "2022-01-30T23:58:01.379491Z",
     "iopub.status.idle": "2022-01-30T23:58:29.154620Z",
     "shell.execute_reply": "2022-01-30T23:58:29.155003Z",
     "shell.execute_reply.started": "2022-01-30T16:21:11.938315Z"
    },
    "papermill": {
     "duration": 28.815288,
     "end_time": "2022-01-30T23:58:29.155158",
     "exception": false,
     "start_time": "2022-01-30T23:58:00.339870",
     "status": "completed"
    },
    "tags": []
   },
   "outputs": [
    {
     "name": "stdout",
     "output_type": "stream",
     "text": [
      "0 preprocessing...\n",
      "1 preprocessing...\n",
      "2 preprocessing...\n",
      "3 preprocessing...\n",
      "4 preprocessing...\n",
      "5 preprocessing...\n",
      "6 preprocessing...\n",
      "7 preprocessing...\n",
      "8 preprocessing...\n",
      "9 preprocessing...\n",
      "10 preprocessing...\n",
      "11 preprocessing...\n",
      "12 preprocessing...\n",
      "13 preprocessing...\n"
     ]
    },
    {
     "data": {
      "text/html": [
       "<div>\n",
       "<style scoped>\n",
       "    .dataframe tbody tr th:only-of-type {\n",
       "        vertical-align: middle;\n",
       "    }\n",
       "\n",
       "    .dataframe tbody tr th {\n",
       "        vertical-align: top;\n",
       "    }\n",
       "\n",
       "    .dataframe thead th {\n",
       "        text-align: right;\n",
       "    }\n",
       "</style>\n",
       "<table border=\"1\" class=\"dataframe\">\n",
       "  <thead>\n",
       "    <tr style=\"text-align: right;\">\n",
       "      <th></th>\n",
       "      <th>timestamp</th>\n",
       "      <th>Count</th>\n",
       "      <th>Open</th>\n",
       "      <th>High</th>\n",
       "      <th>Low</th>\n",
       "      <th>Close</th>\n",
       "      <th>Volume</th>\n",
       "      <th>VWAP</th>\n",
       "      <th>Target</th>\n",
       "    </tr>\n",
       "  </thead>\n",
       "  <tbody>\n",
       "    <tr>\n",
       "      <th>0</th>\n",
       "      <td>1514764860</td>\n",
       "      <td>-0.246154</td>\n",
       "      <td>-0.406261</td>\n",
       "      <td>-0.406301</td>\n",
       "      <td>-0.406030</td>\n",
       "      <td>-0.406241</td>\n",
       "      <td>-0.523286</td>\n",
       "      <td>-0.406174</td>\n",
       "      <td>-0.014399</td>\n",
       "    </tr>\n",
       "    <tr>\n",
       "      <th>1</th>\n",
       "      <td>1514764920</td>\n",
       "      <td>-0.235897</td>\n",
       "      <td>-0.406261</td>\n",
       "      <td>-0.406301</td>\n",
       "      <td>-0.406580</td>\n",
       "      <td>-0.406790</td>\n",
       "      <td>-0.527513</td>\n",
       "      <td>-0.406520</td>\n",
       "      <td>-0.015875</td>\n",
       "    </tr>\n",
       "    <tr>\n",
       "      <th>2</th>\n",
       "      <td>1514764980</td>\n",
       "      <td>-0.041026</td>\n",
       "      <td>-0.407094</td>\n",
       "      <td>-0.406305</td>\n",
       "      <td>-0.407633</td>\n",
       "      <td>-0.407842</td>\n",
       "      <td>0.364695</td>\n",
       "      <td>-0.407187</td>\n",
       "      <td>-0.015410</td>\n",
       "    </tr>\n",
       "    <tr>\n",
       "      <th>3</th>\n",
       "      <td>1514765040</td>\n",
       "      <td>-0.200000</td>\n",
       "      <td>-0.407292</td>\n",
       "      <td>-0.407129</td>\n",
       "      <td>-0.408001</td>\n",
       "      <td>-0.407272</td>\n",
       "      <td>-0.494611</td>\n",
       "      <td>-0.407951</td>\n",
       "      <td>-0.012524</td>\n",
       "    </tr>\n",
       "    <tr>\n",
       "      <th>4</th>\n",
       "      <td>1514765100</td>\n",
       "      <td>-0.246154</td>\n",
       "      <td>-0.407299</td>\n",
       "      <td>-0.407338</td>\n",
       "      <td>-0.408654</td>\n",
       "      <td>-0.408862</td>\n",
       "      <td>-0.495089</td>\n",
       "      <td>-0.408708</td>\n",
       "      <td>-0.005940</td>\n",
       "    </tr>\n",
       "  </tbody>\n",
       "</table>\n",
       "</div>"
      ],
      "text/plain": [
       "    timestamp     Count      Open      High       Low     Close    Volume  \\\n",
       "0  1514764860 -0.246154 -0.406261 -0.406301 -0.406030 -0.406241 -0.523286   \n",
       "1  1514764920 -0.235897 -0.406261 -0.406301 -0.406580 -0.406790 -0.527513   \n",
       "2  1514764980 -0.041026 -0.407094 -0.406305 -0.407633 -0.407842  0.364695   \n",
       "3  1514765040 -0.200000 -0.407292 -0.407129 -0.408001 -0.407272 -0.494611   \n",
       "4  1514765100 -0.246154 -0.407299 -0.407338 -0.408654 -0.408862 -0.495089   \n",
       "\n",
       "       VWAP    Target  \n",
       "0 -0.406174 -0.014399  \n",
       "1 -0.406520 -0.015875  \n",
       "2 -0.407187 -0.015410  \n",
       "3 -0.407951 -0.012524  \n",
       "4 -0.408708 -0.005940  "
      ]
     },
     "execution_count": 14,
     "metadata": {},
     "output_type": "execute_result"
    }
   ],
   "source": [
    "# preprocess test data\n",
    "test_prep = []\n",
    "for i in range(asset_list_df.Asset_ID.max()+1):\n",
    "\n",
    "    print(f'{i} preprocessing...')\n",
    "    test_prep.append(preprocess_data(train_df, i).reset_index())\n",
    "    \n",
    "test_prep[0].head(5)"
   ]
  },
  {
   "cell_type": "code",
   "execution_count": 15,
   "id": "e64be576",
   "metadata": {
    "execution": {
     "iopub.execute_input": "2022-01-30T23:58:31.235330Z",
     "iopub.status.busy": "2022-01-30T23:58:31.234387Z",
     "iopub.status.idle": "2022-01-30T23:58:31.236279Z",
     "shell.execute_reply": "2022-01-30T23:58:31.236691Z",
     "shell.execute_reply.started": "2022-01-30T16:21:39.72094Z"
    },
    "papermill": {
     "duration": 1.04481,
     "end_time": "2022-01-30T23:58:31.236865",
     "exception": false,
     "start_time": "2022-01-30T23:58:30.192055",
     "status": "completed"
    },
    "tags": []
   },
   "outputs": [],
   "source": [
    "def testgen_api(df_test, seq_len):\n",
    "    try:\n",
    "        # 암호화폐 종류 지정\n",
    "        coin = test_prep[int(df_test.Asset_ID)]\n",
    "        \n",
    "        # test_row의 직전 시간 저장\n",
    "        last_ts = int(df_test.timestamp) - 60\n",
    "\n",
    "        # 직전 시간의 데이터 검색\n",
    "        test_input = coin[coin.timestamp == last_ts]\n",
    "        last_index = test_input.index[0]\n",
    "\n",
    "        # 직전 시간부터 그전 seq_len만큼의 길이를 갖는 데이터 반환\n",
    "        data_to_use = coin.iloc[last_index-seq_len:last_index]\n",
    "\n",
    "        df = data_to_use.drop(columns=['timestamp'])  # drop Asset_ID\n",
    "        input_cols = [c for c in df.columns if c != 'Target']\n",
    "\n",
    "        # CNN 에 맞는 차원으로 변경하여 X, y 생성함\n",
    "        X = np.expand_dims(np.expand_dims(df[input_cols].values,0),3)\n",
    "#         y = df['Target'].values\n",
    "\n",
    "        return X #np.expand_dims(np.array(X), 3), np.array(y)\n",
    "    \n",
    "    # 실행 불가 방지를 위해 오류 상황시 zero-matrix로 return 은 하도록 설정.\n",
    "    except Exception as e:\n",
    "        print(e, ' 문제가 생겼습니다. asset_id:', row.Asset_ID)\n",
    "        return np.zeros((1,seq_len,7,1))\n",
    "\n"
   ]
  },
  {
   "cell_type": "markdown",
   "id": "1d074f3c",
   "metadata": {
    "papermill": {
     "duration": 1.045485,
     "end_time": "2022-01-30T23:58:33.372421",
     "exception": false,
     "start_time": "2022-01-30T23:58:32.326936",
     "status": "completed"
    },
    "tags": []
   },
   "source": [
    "0. Test input set 전처리하기 (train + supplementary)\n",
    "1. Test Data 불러오면\n",
    "2. Test Data에 맞는 input 데이터를 Test input set 에서 불러옴\n",
    "\n",
    "3. input 데이터를 tflite 로 생성한 모델에 넣어 predict 수행. (crypto 0~13 반복수행)\n",
    "\n",
    "\n"
   ]
  },
  {
   "cell_type": "markdown",
   "id": "de95dcfd",
   "metadata": {
    "papermill": {
     "duration": 1.037557,
     "end_time": "2022-01-30T23:58:35.462181",
     "exception": false,
     "start_time": "2022-01-30T23:58:34.424624",
     "status": "completed"
    },
    "tags": []
   },
   "source": [
    "## 0. Test input set 전처리\n",
    "\n",
    "여기서는 train때와 달리 모든 데이터를 이용함"
   ]
  },
  {
   "cell_type": "code",
   "execution_count": 16,
   "id": "00f572b9",
   "metadata": {
    "execution": {
     "iopub.execute_input": "2022-01-30T23:58:37.560183Z",
     "iopub.status.busy": "2022-01-30T23:58:37.559057Z",
     "iopub.status.idle": "2022-01-30T23:58:37.560879Z",
     "shell.execute_reply": "2022-01-30T23:58:37.561374Z",
     "shell.execute_reply.started": "2022-01-29T14:19:42.562398Z"
    },
    "papermill": {
     "duration": 1.056895,
     "end_time": "2022-01-30T23:58:37.561514",
     "exception": false,
     "start_time": "2022-01-30T23:58:36.504619",
     "status": "completed"
    },
    "tags": []
   },
   "outputs": [],
   "source": [
    "# # 불러온 df_test에서 Asset_ID와 timestamp 를 추출해야 함.\n",
    "# def testgen_api(df_test, seq_len):\n",
    "#     try:\n",
    "#         # 암호화폐 종류 지정\n",
    "#         coin = test_prep[int(df_test.Asset_ID)]\n",
    "        \n",
    "#         # test_row의 직전 시간 저장\n",
    "#         last_ts = int(df_test.timestamp) - 60\n",
    "\n",
    "#         # 직전 시간의 데이터 검색\n",
    "#         test_input = coin[coin.timestamp == last_ts]\n",
    "#         last_index = test_input.index[0]\n",
    "\n",
    "#         # 직전 시간부터 그전 seq_len만큼의 길이를 갖는 데이터 반환\n",
    "#         data_to_use = coin.iloc[last_index-seq_len:last_index]\n",
    "\n",
    "#         df = data_to_use.drop(columns=['Asset_ID','timestamp'])  # drop Asset_ID\n",
    "#         input_cols = [c for c in df.columns if c != 'Target']\n",
    "\n",
    "#         # CNN 에 맞는 차원으로 변경하여 X, y 생성함\n",
    "#         X = np.expand_dims(np.expand_dims(df[input_cols].values,0),3)\n",
    "# #         y = df['Target'].values\n",
    "\n",
    "#         return X #np.expand_dims(np.array(X), 3), np.array(y)\n",
    "    \n",
    "#     # 실행 불가 방지를 위해 오류 상황시 zero-matrix로 return 은 하도록 설정.\n",
    "#     except Exception as e:\n",
    "#         print(e, ' 문제가 생겼습니다. asset_id:', row.Asset_ID)\n",
    "#         return np.zeros((1,seq_len,7,1))\n",
    "\n",
    "\n",
    "\n",
    "\n",
    "\n",
    "# seq_len = 24*60 # 하루\n",
    "# X = testgen_api(row, seq_len)\n",
    "# X.shape"
   ]
  },
  {
   "cell_type": "markdown",
   "id": "8a5a8210",
   "metadata": {
    "papermill": {
     "duration": 1.228968,
     "end_time": "2022-01-30T23:58:40.422093",
     "exception": false,
     "start_time": "2022-01-30T23:58:39.193125",
     "status": "completed"
    },
    "tags": []
   },
   "source": [
    "3. input 데이터를 tflite 로 생성한 모델에 넣어 predict 수행. (crypto 0~13 반복수행)"
   ]
  },
  {
   "cell_type": "code",
   "execution_count": 17,
   "id": "57e682ae",
   "metadata": {
    "execution": {
     "iopub.execute_input": "2022-01-30T23:58:42.510453Z",
     "iopub.status.busy": "2022-01-30T23:58:42.509641Z",
     "iopub.status.idle": "2022-01-30T23:58:44.284385Z",
     "shell.execute_reply": "2022-01-30T23:58:44.284898Z",
     "shell.execute_reply.started": "2022-01-30T16:21:47.602906Z"
    },
    "papermill": {
     "duration": 2.821916,
     "end_time": "2022-01-30T23:58:44.285045",
     "exception": false,
     "start_time": "2022-01-30T23:58:41.463129",
     "status": "completed"
    },
    "tags": []
   },
   "outputs": [
    {
     "name": "stderr",
     "output_type": "stream",
     "text": [
      "2022-01-30 23:58:43.136735: W tensorflow/python/util/util.cc:348] Sets are not currently considered sequences, but this may change in the future, so consider avoiding using them.\n",
      "2022-01-30 23:58:44.057500: I tensorflow/stream_executor/cuda/cuda_gpu_executor.cc:937] successful NUMA node read from SysFS had negative value (-1), but there must be at least one NUMA node, so returning NUMA node zero\n",
      "2022-01-30 23:58:44.057912: I tensorflow/core/grappler/devices.cc:66] Number of eligible GPUs (core count >= 8, compute capability >= 0.0): 1\n",
      "2022-01-30 23:58:44.058943: I tensorflow/core/grappler/clusters/single_machine.cc:357] Starting new session\n",
      "2022-01-30 23:58:44.060266: I tensorflow/stream_executor/cuda/cuda_gpu_executor.cc:937] successful NUMA node read from SysFS had negative value (-1), but there must be at least one NUMA node, so returning NUMA node zero\n",
      "2022-01-30 23:58:44.060641: I tensorflow/stream_executor/cuda/cuda_gpu_executor.cc:937] successful NUMA node read from SysFS had negative value (-1), but there must be at least one NUMA node, so returning NUMA node zero\n",
      "2022-01-30 23:58:44.061015: I tensorflow/stream_executor/cuda/cuda_gpu_executor.cc:937] successful NUMA node read from SysFS had negative value (-1), but there must be at least one NUMA node, so returning NUMA node zero\n",
      "2022-01-30 23:58:44.061424: I tensorflow/stream_executor/cuda/cuda_gpu_executor.cc:937] successful NUMA node read from SysFS had negative value (-1), but there must be at least one NUMA node, so returning NUMA node zero\n",
      "2022-01-30 23:58:44.061756: I tensorflow/stream_executor/cuda/cuda_gpu_executor.cc:937] successful NUMA node read from SysFS had negative value (-1), but there must be at least one NUMA node, so returning NUMA node zero\n",
      "2022-01-30 23:58:44.062077: I tensorflow/core/common_runtime/gpu/gpu_device.cc:1510] Created device /job:localhost/replica:0/task:0/device:GPU:0 with 15403 MB memory:  -> device: 0, name: Tesla P100-PCIE-16GB, pci bus id: 0000:00:04.0, compute capability: 6.0\n",
      "2022-01-30 23:58:44.065916: I tensorflow/core/grappler/optimizers/meta_optimizer.cc:1137] Optimization results for grappler item: graph_to_optimize\n",
      "  function_optimizer: function_optimizer did nothing. time = 0.018ms.\n",
      "  function_optimizer: function_optimizer did nothing. time = 0.001ms.\n",
      "\n",
      "2022-01-30 23:58:44.132926: W tensorflow/compiler/mlir/lite/python/tf_tfl_flatbuffer_helpers.cc:351] Ignored output_format.\n",
      "2022-01-30 23:58:44.132977: W tensorflow/compiler/mlir/lite/python/tf_tfl_flatbuffer_helpers.cc:354] Ignored drop_control_dependency.\n",
      "2022-01-30 23:58:44.158238: I tensorflow/compiler/mlir/tensorflow/utils/dump_mlir_util.cc:210] disabling MLIR crash reproducer, set env var `MLIR_CRASH_REPRODUCER_DIRECTORY` to enable.\n"
     ]
    }
   ],
   "source": [
    "# model conversion using tflite\n",
    "converter = tf.lite.TFLiteConverter.from_keras_model(model)\n",
    "tflite_model = converter.convert()\n",
    "interpreter = tf.lite.Interpreter(model_content = tflite_model)\n",
    "interpreter.allocate_tensors()\n",
    "input_details = interpreter.get_input_details()\n",
    "output_details = interpreter.get_output_details()"
   ]
  },
  {
   "cell_type": "code",
   "execution_count": 18,
   "id": "341b95b4",
   "metadata": {
    "execution": {
     "iopub.execute_input": "2022-01-30T23:58:46.382876Z",
     "iopub.status.busy": "2022-01-30T23:58:46.382304Z",
     "iopub.status.idle": "2022-01-30T23:58:46.734524Z",
     "shell.execute_reply": "2022-01-30T23:58:46.733725Z",
     "shell.execute_reply.started": "2022-01-30T16:21:58.52047Z"
    },
    "papermill": {
     "duration": 1.411292,
     "end_time": "2022-01-30T23:58:46.734672",
     "exception": false,
     "start_time": "2022-01-30T23:58:45.323380",
     "status": "completed"
    },
    "tags": []
   },
   "outputs": [
    {
     "name": "stdout",
     "output_type": "stream",
     "text": [
      "This version of the API is not optimized and should not be used to estimate the runtime of your code on the hidden test set.\n"
     ]
    }
   ],
   "source": [
    "\n",
    "env = gresearch_crypto.make_env()\n",
    "iter_test = env.iter_test()\n",
    "\n",
    "\n",
    "\n",
    "\n",
    "for i, (df_test, df_pred) in enumerate(iter_test):\n",
    "# measure time for an iteration\n",
    "#     t1 = time.time()\n",
    "    \n",
    "\n",
    "\n",
    "    for j, row in df_test.iterrows():\n",
    "        t0 = time.time()\n",
    "        \n",
    "        X = testgen_api(row, seq_len)\n",
    "        \n",
    "        interpreter.set_tensor(input_details[0]['index'], X.astype('float32'))\n",
    "        interpreter.invoke()\n",
    "        y_pred = interpreter.get_tensor(output_details[0]['index'])\n",
    "\n",
    "        \n",
    "\n",
    "        df_pred.loc[df_pred['row_id'] == row['row_id'], 'Target'] = y_pred\n",
    "#         print('inner cycle: ',time.time() - t0)\n",
    "        \n",
    "        \n",
    "    # Send submissions\n",
    "    env.predict(df_pred)\n",
    "#     print(df_pred)\n",
    "    # measure time\n",
    "#     print('outer cycle time proceeded: ',time.time() - t1)\n",
    "    \n"
   ]
  },
  {
   "cell_type": "code",
   "execution_count": 19,
   "id": "f74ea95a",
   "metadata": {
    "execution": {
     "iopub.execute_input": "2022-01-30T23:58:48.822058Z",
     "iopub.status.busy": "2022-01-30T23:58:48.820473Z",
     "iopub.status.idle": "2022-01-30T23:58:48.822647Z",
     "shell.execute_reply": "2022-01-30T23:58:48.823071Z",
     "shell.execute_reply.started": "2022-01-29T14:19:45.027224Z"
    },
    "papermill": {
     "duration": 1.047595,
     "end_time": "2022-01-30T23:58:48.823213",
     "exception": false,
     "start_time": "2022-01-30T23:58:47.775618",
     "status": "completed"
    },
    "tags": []
   },
   "outputs": [],
   "source": [
    "# for j, row in df_test.iterrows():\n",
    "#         t0 = time.time()\n",
    "        \n",
    "#         X = testgen_api(row, seq_len)\n",
    "#         t1 = time.time()\n",
    "#         print(t1 - t0)\n",
    "#         interpreter.set_tensor(input_details[0]['index'], X.astype('float32'))\n",
    "#         t2 = time.time()\n",
    "#         print(t2 - t1)\n",
    "#         interpreter.invoke()\n",
    "#         t3 = time.time()\n",
    "#         print(t3 - t2)\n",
    "#         y_pred = interpreter.get_tensor(output_details[0]['index'])\n",
    "#         t4 = time.time()\n",
    "#         print(t4 - t3)\n",
    "        \n",
    "\n",
    "#         df_pred.loc[df_pred['row_id'] == row['row_id'], 'Target'] = y_pred\n",
    "#         t5 = time.time()\n",
    "#         print(t5 - t4)\n",
    "#         print('inner cycle: ',time.time() - t0)"
   ]
  },
  {
   "cell_type": "code",
   "execution_count": 20,
   "id": "c88a856a",
   "metadata": {
    "execution": {
     "iopub.execute_input": "2022-01-30T23:58:51.201056Z",
     "iopub.status.busy": "2022-01-30T23:58:51.200232Z",
     "iopub.status.idle": "2022-01-30T23:58:51.202670Z",
     "shell.execute_reply": "2022-01-30T23:58:51.202282Z",
     "shell.execute_reply.started": "2022-01-29T14:19:45.033302Z"
    },
    "papermill": {
     "duration": 1.281641,
     "end_time": "2022-01-30T23:58:51.202794",
     "exception": false,
     "start_time": "2022-01-30T23:58:49.921153",
     "status": "completed"
    },
    "tags": []
   },
   "outputs": [],
   "source": [
    "# for j, row in df_test.iterrows():\n",
    "#         t0 = time.time()\n",
    "        \n",
    "#         X = testgen_api(row, seq_len)\n",
    "#         t1 = time.time()\n",
    "#         print(t1 - t0)\n",
    "        \n",
    "#         y_pred = model.predict(X)\n",
    "        \n",
    "# #         interpreter.set_tensor(input_details[0]['index'], X.astype('float32'))\n",
    "#         t2 = time.time()\n",
    "#         print(t2 - t1)\n",
    "# #         interpreter.invoke()\n",
    "# #         t3 = time.time()\n",
    "# #         print(t3 - t2)\n",
    "# #         y_pred = interpreter.get_tensor(output_details[0]['index'])\n",
    "# #         t4 = time.time()\n",
    "# #         print(t4 - t3)\n",
    "        \n",
    "\n",
    "#         df_pred.loc[df_pred['row_id'] == row['row_id'], 'Target'] = y_pred\n",
    "#         t5 = time.time()\n",
    "#         print(t5 - t2)\n",
    "#         print('inner cycle: ',time.time() - t0)"
   ]
  },
  {
   "cell_type": "code",
   "execution_count": null,
   "id": "b3555cce",
   "metadata": {
    "papermill": {
     "duration": 1.055863,
     "end_time": "2022-01-30T23:58:53.295200",
     "exception": false,
     "start_time": "2022-01-30T23:58:52.239337",
     "status": "completed"
    },
    "tags": []
   },
   "outputs": [],
   "source": []
  }
 ],
 "metadata": {
  "kernelspec": {
   "display_name": "Python 3",
   "language": "python",
   "name": "python3"
  },
  "language_info": {
   "codemirror_mode": {
    "name": "ipython",
    "version": 3
   },
   "file_extension": ".py",
   "mimetype": "text/x-python",
   "name": "python",
   "nbconvert_exporter": "python",
   "pygments_lexer": "ipython3",
   "version": "3.7.12"
  },
  "papermill": {
   "default_parameters": {},
   "duration": 732.467643,
   "end_time": "2022-01-30T23:58:57.845056",
   "environment_variables": {},
   "exception": null,
   "input_path": "__notebook__.ipynb",
   "output_path": "__notebook__.ipynb",
   "parameters": {},
   "start_time": "2022-01-30T23:46:45.377413",
   "version": "2.3.3"
  }
 },
 "nbformat": 4,
 "nbformat_minor": 5
}
