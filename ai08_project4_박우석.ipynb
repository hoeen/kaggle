{
  "nbformat": 4,
  "nbformat_minor": 0,
  "metadata": {
    "colab": {
      "name": "Untitled13.ipynb",
      "provenance": [],
      "authorship_tag": "ABX9TyPl5rMQ4y12OLUOCKIiAT4Z",
      "include_colab_link": true
    },
    "kernelspec": {
      "name": "python3",
      "display_name": "Python 3"
    },
    "language_info": {
      "name": "python"
    },
    "accelerator": "GPU"
  },
  "cells": [
    {
      "cell_type": "markdown",
      "metadata": {
        "id": "view-in-github",
        "colab_type": "text"
      },
      "source": [
        "<a href=\"https://colab.research.google.com/github/hoeen/kaggle/blob/main/ai08_project4_%EB%B0%95%EC%9A%B0%EC%84%9D.ipynb\" target=\"_parent\"><img src=\"https://colab.research.google.com/assets/colab-badge.svg\" alt=\"Open In Colab\"/></a>"
      ]
    },
    {
      "cell_type": "markdown",
      "source": [
        "# Codestates AI Project 4. Deep Learning\n",
        "\n",
        "# 2D-CNN 을 이용한 암호화폐 예측\n",
        "\n",
        "- Kaggle competition [G-Research Crypto Forecasting](https://www.kaggle.com/c/g-research-crypto-forecasting) 에 참여하여 암호화폐의 변동성 예측 \n",
        "- 모델 선정 : 2D CNN\n",
        "    - Time-series 데이터의 예측 문제에서 이전부터 RNN, LSTM 등이 이용되어 왔지만, 여러 논문 search 결과 CNN 또한 기존의 이미지 문제에서뿐만 아니라 시계열 예측에도 좋은 성능을 보인다는 결과가 나왔다.   \n",
        "    (관련 논문:[https://www.sciencedirect.com/science/article/pii/S1877050918307828])\n",
        "    - CNN 모델의 마지막 layer을 sigmoid 등을 이용한 classification이 아닌 Regression으로 바꾸어 적용할 수 있다. "
      ],
      "metadata": {
        "id": "0PUZj0DuVMku"
      }
    },
    {
      "cell_type": "markdown",
      "source": [
        "## Kaggle competition data 다운로드"
      ],
      "metadata": {
        "id": "RSSMucXYXq_1"
      }
    },
    {
      "cell_type": "code",
      "execution_count": 1,
      "metadata": {
        "colab": {
          "resources": {
            "http://localhost:8080/nbextensions/google.colab/files.js": {
              "data": "Ly8gQ29weXJpZ2h0IDIwMTcgR29vZ2xlIExMQwovLwovLyBMaWNlbnNlZCB1bmRlciB0aGUgQXBhY2hlIExpY2Vuc2UsIFZlcnNpb24gMi4wICh0aGUgIkxpY2Vuc2UiKTsKLy8geW91IG1heSBub3QgdXNlIHRoaXMgZmlsZSBleGNlcHQgaW4gY29tcGxpYW5jZSB3aXRoIHRoZSBMaWNlbnNlLgovLyBZb3UgbWF5IG9idGFpbiBhIGNvcHkgb2YgdGhlIExpY2Vuc2UgYXQKLy8KLy8gICAgICBodHRwOi8vd3d3LmFwYWNoZS5vcmcvbGljZW5zZXMvTElDRU5TRS0yLjAKLy8KLy8gVW5sZXNzIHJlcXVpcmVkIGJ5IGFwcGxpY2FibGUgbGF3IG9yIGFncmVlZCB0byBpbiB3cml0aW5nLCBzb2Z0d2FyZQovLyBkaXN0cmlidXRlZCB1bmRlciB0aGUgTGljZW5zZSBpcyBkaXN0cmlidXRlZCBvbiBhbiAiQVMgSVMiIEJBU0lTLAovLyBXSVRIT1VUIFdBUlJBTlRJRVMgT1IgQ09ORElUSU9OUyBPRiBBTlkgS0lORCwgZWl0aGVyIGV4cHJlc3Mgb3IgaW1wbGllZC4KLy8gU2VlIHRoZSBMaWNlbnNlIGZvciB0aGUgc3BlY2lmaWMgbGFuZ3VhZ2UgZ292ZXJuaW5nIHBlcm1pc3Npb25zIGFuZAovLyBsaW1pdGF0aW9ucyB1bmRlciB0aGUgTGljZW5zZS4KCi8qKgogKiBAZmlsZW92ZXJ2aWV3IEhlbHBlcnMgZm9yIGdvb2dsZS5jb2xhYiBQeXRob24gbW9kdWxlLgogKi8KKGZ1bmN0aW9uKHNjb3BlKSB7CmZ1bmN0aW9uIHNwYW4odGV4dCwgc3R5bGVBdHRyaWJ1dGVzID0ge30pIHsKICBjb25zdCBlbGVtZW50ID0gZG9jdW1lbnQuY3JlYXRlRWxlbWVudCgnc3BhbicpOwogIGVsZW1lbnQudGV4dENvbnRlbnQgPSB0ZXh0OwogIGZvciAoY29uc3Qga2V5IG9mIE9iamVjdC5rZXlzKHN0eWxlQXR0cmlidXRlcykpIHsKICAgIGVsZW1lbnQuc3R5bGVba2V5XSA9IHN0eWxlQXR0cmlidXRlc1trZXldOwogIH0KICByZXR1cm4gZWxlbWVudDsKfQoKLy8gTWF4IG51bWJlciBvZiBieXRlcyB3aGljaCB3aWxsIGJlIHVwbG9hZGVkIGF0IGEgdGltZS4KY29uc3QgTUFYX1BBWUxPQURfU0laRSA9IDEwMCAqIDEwMjQ7CgpmdW5jdGlvbiBfdXBsb2FkRmlsZXMoaW5wdXRJZCwgb3V0cHV0SWQpIHsKICBjb25zdCBzdGVwcyA9IHVwbG9hZEZpbGVzU3RlcChpbnB1dElkLCBvdXRwdXRJZCk7CiAgY29uc3Qgb3V0cHV0RWxlbWVudCA9IGRvY3VtZW50LmdldEVsZW1lbnRCeUlkKG91dHB1dElkKTsKICAvLyBDYWNoZSBzdGVwcyBvbiB0aGUgb3V0cHV0RWxlbWVudCB0byBtYWtlIGl0IGF2YWlsYWJsZSBmb3IgdGhlIG5leHQgY2FsbAogIC8vIHRvIHVwbG9hZEZpbGVzQ29udGludWUgZnJvbSBQeXRob24uCiAgb3V0cHV0RWxlbWVudC5zdGVwcyA9IHN0ZXBzOwoKICByZXR1cm4gX3VwbG9hZEZpbGVzQ29udGludWUob3V0cHV0SWQpOwp9CgovLyBUaGlzIGlzIHJvdWdobHkgYW4gYXN5bmMgZ2VuZXJhdG9yIChub3Qgc3VwcG9ydGVkIGluIHRoZSBicm93c2VyIHlldCksCi8vIHdoZXJlIHRoZXJlIGFyZSBtdWx0aXBsZSBhc3luY2hyb25vdXMgc3RlcHMgYW5kIHRoZSBQeXRob24gc2lkZSBpcyBnb2luZwovLyB0byBwb2xsIGZvciBjb21wbGV0aW9uIG9mIGVhY2ggc3RlcC4KLy8gVGhpcyB1c2VzIGEgUHJvbWlzZSB0byBibG9jayB0aGUgcHl0aG9uIHNpZGUgb24gY29tcGxldGlvbiBvZiBlYWNoIHN0ZXAsCi8vIHRoZW4gcGFzc2VzIHRoZSByZXN1bHQgb2YgdGhlIHByZXZpb3VzIHN0ZXAgYXMgdGhlIGlucHV0IHRvIHRoZSBuZXh0IHN0ZXAuCmZ1bmN0aW9uIF91cGxvYWRGaWxlc0NvbnRpbnVlKG91dHB1dElkKSB7CiAgY29uc3Qgb3V0cHV0RWxlbWVudCA9IGRvY3VtZW50LmdldEVsZW1lbnRCeUlkKG91dHB1dElkKTsKICBjb25zdCBzdGVwcyA9IG91dHB1dEVsZW1lbnQuc3RlcHM7CgogIGNvbnN0IG5leHQgPSBzdGVwcy5uZXh0KG91dHB1dEVsZW1lbnQubGFzdFByb21pc2VWYWx1ZSk7CiAgcmV0dXJuIFByb21pc2UucmVzb2x2ZShuZXh0LnZhbHVlLnByb21pc2UpLnRoZW4oKHZhbHVlKSA9PiB7CiAgICAvLyBDYWNoZSB0aGUgbGFzdCBwcm9taXNlIHZhbHVlIHRvIG1ha2UgaXQgYXZhaWxhYmxlIHRvIHRoZSBuZXh0CiAgICAvLyBzdGVwIG9mIHRoZSBnZW5lcmF0b3IuCiAgICBvdXRwdXRFbGVtZW50Lmxhc3RQcm9taXNlVmFsdWUgPSB2YWx1ZTsKICAgIHJldHVybiBuZXh0LnZhbHVlLnJlc3BvbnNlOwogIH0pOwp9CgovKioKICogR2VuZXJhdG9yIGZ1bmN0aW9uIHdoaWNoIGlzIGNhbGxlZCBiZXR3ZWVuIGVhY2ggYXN5bmMgc3RlcCBvZiB0aGUgdXBsb2FkCiAqIHByb2Nlc3MuCiAqIEBwYXJhbSB7c3RyaW5nfSBpbnB1dElkIEVsZW1lbnQgSUQgb2YgdGhlIGlucHV0IGZpbGUgcGlja2VyIGVsZW1lbnQuCiAqIEBwYXJhbSB7c3RyaW5nfSBvdXRwdXRJZCBFbGVtZW50IElEIG9mIHRoZSBvdXRwdXQgZGlzcGxheS4KICogQHJldHVybiB7IUl0ZXJhYmxlPCFPYmplY3Q+fSBJdGVyYWJsZSBvZiBuZXh0IHN0ZXBzLgogKi8KZnVuY3Rpb24qIHVwbG9hZEZpbGVzU3RlcChpbnB1dElkLCBvdXRwdXRJZCkgewogIGNvbnN0IGlucHV0RWxlbWVudCA9IGRvY3VtZW50LmdldEVsZW1lbnRCeUlkKGlucHV0SWQpOwogIGlucHV0RWxlbWVudC5kaXNhYmxlZCA9IGZhbHNlOwoKICBjb25zdCBvdXRwdXRFbGVtZW50ID0gZG9jdW1lbnQuZ2V0RWxlbWVudEJ5SWQob3V0cHV0SWQpOwogIG91dHB1dEVsZW1lbnQuaW5uZXJIVE1MID0gJyc7CgogIGNvbnN0IHBpY2tlZFByb21pc2UgPSBuZXcgUHJvbWlzZSgocmVzb2x2ZSkgPT4gewogICAgaW5wdXRFbGVtZW50LmFkZEV2ZW50TGlzdGVuZXIoJ2NoYW5nZScsIChlKSA9PiB7CiAgICAgIHJlc29sdmUoZS50YXJnZXQuZmlsZXMpOwogICAgfSk7CiAgfSk7CgogIGNvbnN0IGNhbmNlbCA9IGRvY3VtZW50LmNyZWF0ZUVsZW1lbnQoJ2J1dHRvbicpOwogIGlucHV0RWxlbWVudC5wYXJlbnRFbGVtZW50LmFwcGVuZENoaWxkKGNhbmNlbCk7CiAgY2FuY2VsLnRleHRDb250ZW50ID0gJ0NhbmNlbCB1cGxvYWQnOwogIGNvbnN0IGNhbmNlbFByb21pc2UgPSBuZXcgUHJvbWlzZSgocmVzb2x2ZSkgPT4gewogICAgY2FuY2VsLm9uY2xpY2sgPSAoKSA9PiB7CiAgICAgIHJlc29sdmUobnVsbCk7CiAgICB9OwogIH0pOwoKICAvLyBXYWl0IGZvciB0aGUgdXNlciB0byBwaWNrIHRoZSBmaWxlcy4KICBjb25zdCBmaWxlcyA9IHlpZWxkIHsKICAgIHByb21pc2U6IFByb21pc2UucmFjZShbcGlja2VkUHJvbWlzZSwgY2FuY2VsUHJvbWlzZV0pLAogICAgcmVzcG9uc2U6IHsKICAgICAgYWN0aW9uOiAnc3RhcnRpbmcnLAogICAgfQogIH07CgogIGNhbmNlbC5yZW1vdmUoKTsKCiAgLy8gRGlzYWJsZSB0aGUgaW5wdXQgZWxlbWVudCBzaW5jZSBmdXJ0aGVyIHBpY2tzIGFyZSBub3QgYWxsb3dlZC4KICBpbnB1dEVsZW1lbnQuZGlzYWJsZWQgPSB0cnVlOwoKICBpZiAoIWZpbGVzKSB7CiAgICByZXR1cm4gewogICAgICByZXNwb25zZTogewogICAgICAgIGFjdGlvbjogJ2NvbXBsZXRlJywKICAgICAgfQogICAgfTsKICB9CgogIGZvciAoY29uc3QgZmlsZSBvZiBmaWxlcykgewogICAgY29uc3QgbGkgPSBkb2N1bWVudC5jcmVhdGVFbGVtZW50KCdsaScpOwogICAgbGkuYXBwZW5kKHNwYW4oZmlsZS5uYW1lLCB7Zm9udFdlaWdodDogJ2JvbGQnfSkpOwogICAgbGkuYXBwZW5kKHNwYW4oCiAgICAgICAgYCgke2ZpbGUudHlwZSB8fCAnbi9hJ30pIC0gJHtmaWxlLnNpemV9IGJ5dGVzLCBgICsKICAgICAgICBgbGFzdCBtb2RpZmllZDogJHsKICAgICAgICAgICAgZmlsZS5sYXN0TW9kaWZpZWREYXRlID8gZmlsZS5sYXN0TW9kaWZpZWREYXRlLnRvTG9jYWxlRGF0ZVN0cmluZygpIDoKICAgICAgICAgICAgICAgICAgICAgICAgICAgICAgICAgICAgJ24vYSd9IC0gYCkpOwogICAgY29uc3QgcGVyY2VudCA9IHNwYW4oJzAlIGRvbmUnKTsKICAgIGxpLmFwcGVuZENoaWxkKHBlcmNlbnQpOwoKICAgIG91dHB1dEVsZW1lbnQuYXBwZW5kQ2hpbGQobGkpOwoKICAgIGNvbnN0IGZpbGVEYXRhUHJvbWlzZSA9IG5ldyBQcm9taXNlKChyZXNvbHZlKSA9PiB7CiAgICAgIGNvbnN0IHJlYWRlciA9IG5ldyBGaWxlUmVhZGVyKCk7CiAgICAgIHJlYWRlci5vbmxvYWQgPSAoZSkgPT4gewogICAgICAgIHJlc29sdmUoZS50YXJnZXQucmVzdWx0KTsKICAgICAgfTsKICAgICAgcmVhZGVyLnJlYWRBc0FycmF5QnVmZmVyKGZpbGUpOwogICAgfSk7CiAgICAvLyBXYWl0IGZvciB0aGUgZGF0YSB0byBiZSByZWFkeS4KICAgIGxldCBmaWxlRGF0YSA9IHlpZWxkIHsKICAgICAgcHJvbWlzZTogZmlsZURhdGFQcm9taXNlLAogICAgICByZXNwb25zZTogewogICAgICAgIGFjdGlvbjogJ2NvbnRpbnVlJywKICAgICAgfQogICAgfTsKCiAgICAvLyBVc2UgYSBjaHVua2VkIHNlbmRpbmcgdG8gYXZvaWQgbWVzc2FnZSBzaXplIGxpbWl0cy4gU2VlIGIvNjIxMTU2NjAuCiAgICBsZXQgcG9zaXRpb24gPSAwOwogICAgZG8gewogICAgICBjb25zdCBsZW5ndGggPSBNYXRoLm1pbihmaWxlRGF0YS5ieXRlTGVuZ3RoIC0gcG9zaXRpb24sIE1BWF9QQVlMT0FEX1NJWkUpOwogICAgICBjb25zdCBjaHVuayA9IG5ldyBVaW50OEFycmF5KGZpbGVEYXRhLCBwb3NpdGlvbiwgbGVuZ3RoKTsKICAgICAgcG9zaXRpb24gKz0gbGVuZ3RoOwoKICAgICAgY29uc3QgYmFzZTY0ID0gYnRvYShTdHJpbmcuZnJvbUNoYXJDb2RlLmFwcGx5KG51bGwsIGNodW5rKSk7CiAgICAgIHlpZWxkIHsKICAgICAgICByZXNwb25zZTogewogICAgICAgICAgYWN0aW9uOiAnYXBwZW5kJywKICAgICAgICAgIGZpbGU6IGZpbGUubmFtZSwKICAgICAgICAgIGRhdGE6IGJhc2U2NCwKICAgICAgICB9LAogICAgICB9OwoKICAgICAgbGV0IHBlcmNlbnREb25lID0gZmlsZURhdGEuYnl0ZUxlbmd0aCA9PT0gMCA/CiAgICAgICAgICAxMDAgOgogICAgICAgICAgTWF0aC5yb3VuZCgocG9zaXRpb24gLyBmaWxlRGF0YS5ieXRlTGVuZ3RoKSAqIDEwMCk7CiAgICAgIHBlcmNlbnQudGV4dENvbnRlbnQgPSBgJHtwZXJjZW50RG9uZX0lIGRvbmVgOwoKICAgIH0gd2hpbGUgKHBvc2l0aW9uIDwgZmlsZURhdGEuYnl0ZUxlbmd0aCk7CiAgfQoKICAvLyBBbGwgZG9uZS4KICB5aWVsZCB7CiAgICByZXNwb25zZTogewogICAgICBhY3Rpb246ICdjb21wbGV0ZScsCiAgICB9CiAgfTsKfQoKc2NvcGUuZ29vZ2xlID0gc2NvcGUuZ29vZ2xlIHx8IHt9OwpzY29wZS5nb29nbGUuY29sYWIgPSBzY29wZS5nb29nbGUuY29sYWIgfHwge307CnNjb3BlLmdvb2dsZS5jb2xhYi5fZmlsZXMgPSB7CiAgX3VwbG9hZEZpbGVzLAogIF91cGxvYWRGaWxlc0NvbnRpbnVlLAp9Owp9KShzZWxmKTsK",
              "ok": true,
              "headers": [
                [
                  "content-type",
                  "application/javascript"
                ]
              ],
              "status": 200,
              "status_text": ""
            }
          },
          "base_uri": "https://localhost:8080/",
          "height": 90
        },
        "id": "VXnD33dGRx3Q",
        "outputId": "e8bd79d3-3a5e-4db1-d094-9192422a4878"
      },
      "outputs": [
        {
          "output_type": "display_data",
          "data": {
            "text/html": [
              "\n",
              "     <input type=\"file\" id=\"files-acaae55b-bc41-448f-b026-82d236906262\" name=\"files[]\" multiple disabled\n",
              "        style=\"border:none\" />\n",
              "     <output id=\"result-acaae55b-bc41-448f-b026-82d236906262\">\n",
              "      Upload widget is only available when the cell has been executed in the\n",
              "      current browser session. Please rerun this cell to enable.\n",
              "      </output>\n",
              "      <script src=\"/nbextensions/google.colab/files.js\"></script> "
            ],
            "text/plain": [
              "<IPython.core.display.HTML object>"
            ]
          },
          "metadata": {}
        },
        {
          "output_type": "stream",
          "name": "stdout",
          "text": [
            "Saving kaggle.json to kaggle.json\n",
            "User uploaded file \"kaggle.json\" with length 65 bytes\n"
          ]
        }
      ],
      "source": [
        "from google.colab import files\n",
        "\n",
        "uploaded = files.upload()\n",
        "\n",
        "for fn in uploaded.keys():\n",
        "  print('User uploaded file \"{name}\" with length {length} bytes'.format(\n",
        "      name=fn, length=len(uploaded[fn])))\n",
        "  \n",
        "# Then move kaggle.json into the folder where the API expects to find it.\n",
        "!mkdir -p ~/.kaggle/ && mv kaggle.json ~/.kaggle/ && chmod 600 ~/.kaggle/kaggle.json"
      ]
    },
    {
      "cell_type": "code",
      "source": [
        "!kaggle competitions download -c g-research-crypto-forecasting"
      ],
      "metadata": {
        "colab": {
          "base_uri": "https://localhost:8080/"
        },
        "id": "haNnY9OwRy9-",
        "outputId": "edd98c3e-e649-411a-e098-15af07e622e5"
      },
      "execution_count": 2,
      "outputs": [
        {
          "output_type": "stream",
          "name": "stdout",
          "text": [
            "Warning: Looks like you're using an outdated API Version, please consider updating (server 1.5.12 / client 1.5.4)\n",
            "Downloading __init__.py to /content\n",
            "  0% 0.00/59.0 [00:00<?, ?B/s]\n",
            "100% 59.0/59.0 [00:00<00:00, 122kB/s]\n",
            "Downloading competition.cpython-37m-x86_64-linux-gnu.so to /content\n",
            "  0% 0.00/660k [00:00<?, ?B/s]\n",
            "100% 660k/660k [00:00<00:00, 44.1MB/s]\n",
            "Downloading train.csv.zip to /content\n",
            " 99% 1.01G/1.02G [00:24<00:00, 44.7MB/s]\n",
            "100% 1.02G/1.02G [00:25<00:00, 43.7MB/s]\n",
            "Downloading supplemental_train.csv.zip to /content\n",
            " 94% 89.0M/94.2M [00:02<00:00, 30.5MB/s]\n",
            "100% 94.2M/94.2M [00:02<00:00, 36.3MB/s]\n",
            "Downloading example_sample_submission.csv to /content\n",
            "  0% 0.00/406 [00:00<?, ?B/s]\n",
            "100% 406/406 [00:00<00:00, 420kB/s]\n",
            "Downloading example_test.csv to /content\n",
            "  0% 0.00/5.78k [00:00<?, ?B/s]\n",
            "100% 5.78k/5.78k [00:00<00:00, 5.72MB/s]\n",
            "Downloading asset_details.csv to /content\n",
            "  0% 0.00/444 [00:00<?, ?B/s]\n",
            "100% 444/444 [00:00<00:00, 465kB/s]\n"
          ]
        }
      ]
    },
    {
      "cell_type": "code",
      "source": [
        "!unzip train.csv.zip"
      ],
      "metadata": {
        "colab": {
          "base_uri": "https://localhost:8080/"
        },
        "id": "6xnZNsrKSZwB",
        "outputId": "8d16a362-a124-46c9-b0c8-7507b1c1d074"
      },
      "execution_count": 4,
      "outputs": [
        {
          "output_type": "stream",
          "name": "stdout",
          "text": [
            "Archive:  train.csv.zip\n",
            "  inflating: train.csv               \n"
          ]
        }
      ]
    },
    {
      "cell_type": "code",
      "source": [
        "# import packages\n",
        "from tensorflow.keras import layers\n",
        "from IPython import display\n",
        "\n",
        "import glob\n",
        "import imageio\n",
        "import os\n",
        "import PIL\n",
        "import time\n",
        "\n",
        "import numpy as np\n",
        "import matplotlib.pyplot as plt\n",
        "import tensorflow as tf\n",
        "import pandas as pd\n",
        "\n",
        "\n",
        "\n",
        "import random\n",
        " \n",
        "from tensorflow.keras import backend as K\n",
        "from tensorflow.keras.layers import Dense, Dropout, Flatten, Conv2D, MaxPool2D, Input\n",
        "from tensorflow.keras.models import Sequential, load_model\n",
        "from tensorflow.keras.callbacks import ModelCheckpoint\n",
        "from sklearn.preprocessing import StandardScaler\n",
        "from sklearn.metrics import accuracy_score, f1_score, mean_absolute_error"
      ],
      "metadata": {
        "id": "bX4mXdm9SuDP"
      },
      "execution_count": 5,
      "outputs": []
    },
    {
      "cell_type": "code",
      "source": [
        "# train data - before 2021-06-13\n",
        "\n",
        "def read_csv_strict(file_name='train.csv'):\n",
        "    df = pd.read_csv(file_name)\n",
        "    df['datetime'] = pd.to_datetime(df['timestamp'], unit='s')\n",
        "    df = df[df['datetime'] < '2021-06-13 00:00:00']\n",
        "    return df\n",
        "\n",
        "\n",
        "\n",
        "def read_test_csv(file_name='train.csv'):\n",
        "    df = pd.read_csv(file_name)\n",
        "    df['datetime'] = pd.to_datetime(df['timestamp'], unit='s')\n",
        "    df = df[df['datetime'] >= '2021-06-13 00:00:00']\n",
        "    return df\n",
        "\n",
        "\n",
        "train_df = read_csv_strict()\n",
        "test_df = read_test_csv()"
      ],
      "metadata": {
        "id": "-zM8yi-4X6f7"
      },
      "execution_count": null,
      "outputs": []
    },
    {
      "cell_type": "code",
      "source": [
        "train_df.head(5)"
      ],
      "metadata": {
        "colab": {
          "base_uri": "https://localhost:8080/",
          "height": 438
        },
        "id": "AqWtfzeBX-fp",
        "outputId": "a3ffe5df-7827-4a88-c8ed-7c4cefeadebb"
      },
      "execution_count": 26,
      "outputs": [
        {
          "output_type": "execute_result",
          "data": {
            "text/html": [
              "\n",
              "  <div id=\"df-2ce0193c-e935-40c5-98c6-4a9a96e640ab\">\n",
              "    <div class=\"colab-df-container\">\n",
              "      <div>\n",
              "<style scoped>\n",
              "    .dataframe tbody tr th:only-of-type {\n",
              "        vertical-align: middle;\n",
              "    }\n",
              "\n",
              "    .dataframe tbody tr th {\n",
              "        vertical-align: top;\n",
              "    }\n",
              "\n",
              "    .dataframe thead th {\n",
              "        text-align: right;\n",
              "    }\n",
              "</style>\n",
              "<table border=\"1\" class=\"dataframe\">\n",
              "  <thead>\n",
              "    <tr style=\"text-align: right;\">\n",
              "      <th></th>\n",
              "      <th>timestamp</th>\n",
              "      <th>Asset_ID</th>\n",
              "      <th>Count</th>\n",
              "      <th>Open</th>\n",
              "      <th>High</th>\n",
              "      <th>Low</th>\n",
              "      <th>Close</th>\n",
              "      <th>Volume</th>\n",
              "      <th>VWAP</th>\n",
              "      <th>Target</th>\n",
              "      <th>datetime</th>\n",
              "    </tr>\n",
              "  </thead>\n",
              "  <tbody>\n",
              "    <tr>\n",
              "      <th>0</th>\n",
              "      <td>1514764860</td>\n",
              "      <td>2</td>\n",
              "      <td>40.0</td>\n",
              "      <td>2376.5800</td>\n",
              "      <td>2399.5000</td>\n",
              "      <td>2357.1400</td>\n",
              "      <td>2374.5900</td>\n",
              "      <td>19.233005</td>\n",
              "      <td>2373.116392</td>\n",
              "      <td>-0.004218</td>\n",
              "      <td>2018-01-01 00:01:00</td>\n",
              "    </tr>\n",
              "    <tr>\n",
              "      <th>1</th>\n",
              "      <td>1514764860</td>\n",
              "      <td>0</td>\n",
              "      <td>5.0</td>\n",
              "      <td>8.5300</td>\n",
              "      <td>8.5300</td>\n",
              "      <td>8.5300</td>\n",
              "      <td>8.5300</td>\n",
              "      <td>78.380000</td>\n",
              "      <td>8.530000</td>\n",
              "      <td>-0.014399</td>\n",
              "      <td>2018-01-01 00:01:00</td>\n",
              "    </tr>\n",
              "    <tr>\n",
              "      <th>2</th>\n",
              "      <td>1514764860</td>\n",
              "      <td>1</td>\n",
              "      <td>229.0</td>\n",
              "      <td>13835.1940</td>\n",
              "      <td>14013.8000</td>\n",
              "      <td>13666.1100</td>\n",
              "      <td>13850.1760</td>\n",
              "      <td>31.550062</td>\n",
              "      <td>13827.062093</td>\n",
              "      <td>-0.014643</td>\n",
              "      <td>2018-01-01 00:01:00</td>\n",
              "    </tr>\n",
              "    <tr>\n",
              "      <th>3</th>\n",
              "      <td>1514764860</td>\n",
              "      <td>5</td>\n",
              "      <td>32.0</td>\n",
              "      <td>7.6596</td>\n",
              "      <td>7.6596</td>\n",
              "      <td>7.6567</td>\n",
              "      <td>7.6576</td>\n",
              "      <td>6626.713370</td>\n",
              "      <td>7.657713</td>\n",
              "      <td>-0.013922</td>\n",
              "      <td>2018-01-01 00:01:00</td>\n",
              "    </tr>\n",
              "    <tr>\n",
              "      <th>4</th>\n",
              "      <td>1514764860</td>\n",
              "      <td>7</td>\n",
              "      <td>5.0</td>\n",
              "      <td>25.9200</td>\n",
              "      <td>25.9200</td>\n",
              "      <td>25.8740</td>\n",
              "      <td>25.8770</td>\n",
              "      <td>121.087310</td>\n",
              "      <td>25.891363</td>\n",
              "      <td>-0.008264</td>\n",
              "      <td>2018-01-01 00:01:00</td>\n",
              "    </tr>\n",
              "  </tbody>\n",
              "</table>\n",
              "</div>\n",
              "      <button class=\"colab-df-convert\" onclick=\"convertToInteractive('df-2ce0193c-e935-40c5-98c6-4a9a96e640ab')\"\n",
              "              title=\"Convert this dataframe to an interactive table.\"\n",
              "              style=\"display:none;\">\n",
              "        \n",
              "  <svg xmlns=\"http://www.w3.org/2000/svg\" height=\"24px\"viewBox=\"0 0 24 24\"\n",
              "       width=\"24px\">\n",
              "    <path d=\"M0 0h24v24H0V0z\" fill=\"none\"/>\n",
              "    <path d=\"M18.56 5.44l.94 2.06.94-2.06 2.06-.94-2.06-.94-.94-2.06-.94 2.06-2.06.94zm-11 1L8.5 8.5l.94-2.06 2.06-.94-2.06-.94L8.5 2.5l-.94 2.06-2.06.94zm10 10l.94 2.06.94-2.06 2.06-.94-2.06-.94-.94-2.06-.94 2.06-2.06.94z\"/><path d=\"M17.41 7.96l-1.37-1.37c-.4-.4-.92-.59-1.43-.59-.52 0-1.04.2-1.43.59L10.3 9.45l-7.72 7.72c-.78.78-.78 2.05 0 2.83L4 21.41c.39.39.9.59 1.41.59.51 0 1.02-.2 1.41-.59l7.78-7.78 2.81-2.81c.8-.78.8-2.07 0-2.86zM5.41 20L4 18.59l7.72-7.72 1.47 1.35L5.41 20z\"/>\n",
              "  </svg>\n",
              "      </button>\n",
              "      \n",
              "  <style>\n",
              "    .colab-df-container {\n",
              "      display:flex;\n",
              "      flex-wrap:wrap;\n",
              "      gap: 12px;\n",
              "    }\n",
              "\n",
              "    .colab-df-convert {\n",
              "      background-color: #E8F0FE;\n",
              "      border: none;\n",
              "      border-radius: 50%;\n",
              "      cursor: pointer;\n",
              "      display: none;\n",
              "      fill: #1967D2;\n",
              "      height: 32px;\n",
              "      padding: 0 0 0 0;\n",
              "      width: 32px;\n",
              "    }\n",
              "\n",
              "    .colab-df-convert:hover {\n",
              "      background-color: #E2EBFA;\n",
              "      box-shadow: 0px 1px 2px rgba(60, 64, 67, 0.3), 0px 1px 3px 1px rgba(60, 64, 67, 0.15);\n",
              "      fill: #174EA6;\n",
              "    }\n",
              "\n",
              "    [theme=dark] .colab-df-convert {\n",
              "      background-color: #3B4455;\n",
              "      fill: #D2E3FC;\n",
              "    }\n",
              "\n",
              "    [theme=dark] .colab-df-convert:hover {\n",
              "      background-color: #434B5C;\n",
              "      box-shadow: 0px 1px 3px 1px rgba(0, 0, 0, 0.15);\n",
              "      filter: drop-shadow(0px 1px 2px rgba(0, 0, 0, 0.3));\n",
              "      fill: #FFFFFF;\n",
              "    }\n",
              "  </style>\n",
              "\n",
              "      <script>\n",
              "        const buttonEl =\n",
              "          document.querySelector('#df-2ce0193c-e935-40c5-98c6-4a9a96e640ab button.colab-df-convert');\n",
              "        buttonEl.style.display =\n",
              "          google.colab.kernel.accessAllowed ? 'block' : 'none';\n",
              "\n",
              "        async function convertToInteractive(key) {\n",
              "          const element = document.querySelector('#df-2ce0193c-e935-40c5-98c6-4a9a96e640ab');\n",
              "          const dataTable =\n",
              "            await google.colab.kernel.invokeFunction('convertToInteractive',\n",
              "                                                     [key], {});\n",
              "          if (!dataTable) return;\n",
              "\n",
              "          const docLinkHtml = 'Like what you see? Visit the ' +\n",
              "            '<a target=\"_blank\" href=https://colab.research.google.com/notebooks/data_table.ipynb>data table notebook</a>'\n",
              "            + ' to learn more about interactive tables.';\n",
              "          element.innerHTML = '';\n",
              "          dataTable['output_type'] = 'display_data';\n",
              "          await google.colab.output.renderOutput(dataTable, element);\n",
              "          const docLink = document.createElement('div');\n",
              "          docLink.innerHTML = docLinkHtml;\n",
              "          element.appendChild(docLink);\n",
              "        }\n",
              "      </script>\n",
              "    </div>\n",
              "  </div>\n",
              "  "
            ],
            "text/plain": [
              "    timestamp  Asset_ID  Count  ...          VWAP    Target            datetime\n",
              "0  1514764860         2   40.0  ...   2373.116392 -0.004218 2018-01-01 00:01:00\n",
              "1  1514764860         0    5.0  ...      8.530000 -0.014399 2018-01-01 00:01:00\n",
              "2  1514764860         1  229.0  ...  13827.062093 -0.014643 2018-01-01 00:01:00\n",
              "3  1514764860         5   32.0  ...      7.657713 -0.013922 2018-01-01 00:01:00\n",
              "4  1514764860         7    5.0  ...     25.891363 -0.008264 2018-01-01 00:01:00\n",
              "\n",
              "[5 rows x 11 columns]"
            ]
          },
          "metadata": {},
          "execution_count": 26
        }
      ]
    },
    {
      "cell_type": "markdown",
      "source": [
        "## 데이터 살펴보기"
      ],
      "metadata": {
        "id": "R8SYXn-KYi79"
      }
    },
    {
      "cell_type": "code",
      "source": [
        "# 암호화폐 종류에 따라 나누어 리스트에 담기\n",
        "data_list = list()\n",
        "\n",
        "for i in range(max(train_df.Asset_ID)):\n",
        "    data_list.append(train_df[train_df.Asset_ID == i].set_index('datetime'))\n",
        "\n",
        "\n",
        "plt.plot(data_list[0].index, data_list[0].Open)"
      ],
      "metadata": {
        "colab": {
          "base_uri": "https://localhost:8080/",
          "height": 282
        },
        "id": "HnvJ-S55S5vc",
        "outputId": "76a2138b-b3f6-4b8b-acfe-eb533dacbb71"
      },
      "execution_count": null,
      "outputs": [
        {
          "output_type": "execute_result",
          "data": {
            "text/plain": [
              "[<matplotlib.lines.Line2D at 0x7f40bfde1ad0>]"
            ]
          },
          "metadata": {},
          "execution_count": 6
        },
        {
          "output_type": "display_data",
          "data": {
            "image/png": "[encoded data removed]",
            "text/plain": [
              "<Figure size 432x288 with 1 Axes>"
            ]
          },
          "metadata": {
            "needs_background": "light"
          }
        }
      ]
    },
    {
      "cell_type": "code",
      "source": [
        "def plot_crypto(number:int, y:str, x=None, ax=None, **plt_kwargs):\n",
        "    # call crypto name\n",
        "    name = pd.read_csv('asset_details.csv').loc[number, 'Asset_Name']\n",
        "    if ax is None:\n",
        "        ax = plt.gca()\n",
        "    \n",
        "    if x is not None: \n",
        "        ax.plot(data_list[number][x], data_list[number][y], **plt_kwargs)\n",
        "        plt.close()\n",
        "    else:\n",
        "        ax.plot(data_list[number].index, data_list[number][y], **plt_kwargs)\n",
        "        plt.close()\n",
        "        \n",
        "    ax.set_title(str(number)+' : '+name)\n",
        "    # ax.set_xticks(['2018','2019','2020','2021'])\n",
        "    ax.tick_params(axis='x', rotation=45)\n",
        "    return ax\n",
        "\n",
        "def plot_all(y:str, x=None):\n",
        "    fig, ax = plt.subplots(3,5, figsize=(15,10))\n",
        "    if x:\n",
        "        plt.suptitle(f'{x} vs {y}')\n",
        "    else:\n",
        "        plt.suptitle(f'timestamp vs {y}')\n",
        "    row, col = (0,0)\n",
        "    for i in range(13):\n",
        "        plot_crypto(i, y, x, ax = ax[row,col])\n",
        "        if col < 4:\n",
        "            col += 1\n",
        "        else:\n",
        "            row += 1\n",
        "            col = 0\n",
        "\n",
        "    plt.tight_layout()\n",
        "    return fig\n",
        "\n"
      ],
      "metadata": {
        "id": "4Sw4WGelS16_"
      },
      "execution_count": null,
      "outputs": []
    },
    {
      "cell_type": "code",
      "source": [
        "plot_all('Close')"
      ],
      "metadata": {
        "colab": {
          "base_uri": "https://localhost:8080/",
          "height": 680
        },
        "id": "47C8pGZDTEmw",
        "outputId": "a0e1134e-1f47-4266-c1b5-1686ffcdc3ca"
      },
      "execution_count": null,
      "outputs": [
        {
          "output_type": "execute_result",
          "data": {
            "image/png": "[encoded data removed]",
            "text/plain": [
              "<Figure size 1080x720 with 15 Axes>"
            ]
          },
          "metadata": {},
          "execution_count": 8
        },
        {
          "output_type": "display_data",
          "data": {
            "text/plain": [
              "<Figure size 432x288 with 0 Axes>"
            ]
          },
          "metadata": {}
        }
      ]
    },
    {
      "cell_type": "markdown",
      "source": [
        "## 데이터 전처리"
      ],
      "metadata": {
        "id": "sbHhMA9PYbGU"
      }
    },
    {
      "cell_type": "code",
      "source": [
        "# 데이터 전처리\n",
        "from sklearn.preprocessing import StandardScaler\n",
        "\n",
        "def preprocess_data(train_df, number):\n",
        "    \n",
        "    # id에 맞는 데이터 불러오기\n",
        "    bitc = train_df[train_df.Asset_ID == number].set_index('timestamp')\n",
        "\n",
        "    # 무한대, 무한소 nan으로 치환 \n",
        "    bitc = bitc.replace([np.inf, -np.inf], np.nan)\n",
        "\n",
        "    # 이미 존재하는 결측치는 제거\n",
        "    bitc = bitc.dropna()\n",
        "\n",
        "    \n",
        "    # 처음과 끝 시간 사이에 60초 간격으로 range 생성\n",
        "    bitc_fill_range = range(bitc.index[0], bitc.index[-1]+60, 60)\n",
        "    \n",
        "    # 새로운 60초 간격의 range에 맞게 padding하여 데이터프레임 생성\n",
        "    bitc = bitc.reindex(bitc_fill_range, method='pad') \n",
        "    \n",
        "    # datetime 으로 다시 인덱스 재설정\n",
        "    bitc['datetime'] = pd.to_datetime(bitc.index, unit='s')\n",
        "    bitc = bitc.set_index('datetime') \n",
        "    \n",
        "    # scale the data\n",
        "    scaler = StandardScaler()\n",
        "\n",
        "    features = bitc.columns.drop('Target')\n",
        "    bitc_scaled_X = scaler.fit_transform(bitc[features])\n",
        "\n",
        "    bitc_scaled_X_with_y = pd.concat([pd.DataFrame(bitc_scaled_X, columns=features),\n",
        "                                            bitc['Target'].reset_index(drop=True)], axis=1)\n",
        "                                        \n",
        "\n",
        "    return bitc_scaled_X_with_y\n",
        "\n",
        "\n",
        "\n",
        "data_prep = []\n",
        "asset_list_df = pd.read_csv('asset_details.csv')\n",
        "\n",
        "for i in range(asset_list_df.Asset_ID.max()):\n",
        "    print(f'{i} preprocessing...')\n",
        "    data_prep.append(preprocess_data(train_df, i))\n",
        "    \n",
        "data_prep[0].head(5)"
      ],
      "metadata": {
        "colab": {
          "base_uri": "https://localhost:8080/",
          "height": 425
        },
        "id": "Qmnvx4zq7NXR",
        "outputId": "91728e52-201a-444e-fb4c-658d1473fe96"
      },
      "execution_count": 27,
      "outputs": [
        {
          "output_type": "stream",
          "name": "stdout",
          "text": [
            "0 preprocessing...\n",
            "1 preprocessing...\n",
            "2 preprocessing...\n",
            "3 preprocessing...\n",
            "4 preprocessing...\n",
            "5 preprocessing...\n",
            "6 preprocessing...\n",
            "7 preprocessing...\n",
            "8 preprocessing...\n",
            "9 preprocessing...\n",
            "10 preprocessing...\n",
            "11 preprocessing...\n",
            "12 preprocessing...\n"
          ]
        },
        {
          "output_type": "execute_result",
          "data": {
            "text/html": [
              "\n",
              "  <div id=\"df-cc0a8c74-3e40-41be-bfa6-596f061c4f9c\">\n",
              "    <div class=\"colab-df-container\">\n",
              "      <div>\n",
              "<style scoped>\n",
              "    .dataframe tbody tr th:only-of-type {\n",
              "        vertical-align: middle;\n",
              "    }\n",
              "\n",
              "    .dataframe tbody tr th {\n",
              "        vertical-align: top;\n",
              "    }\n",
              "\n",
              "    .dataframe thead th {\n",
              "        text-align: right;\n",
              "    }\n",
              "</style>\n",
              "<table border=\"1\" class=\"dataframe\">\n",
              "  <thead>\n",
              "    <tr style=\"text-align: right;\">\n",
              "      <th></th>\n",
              "      <th>Asset_ID</th>\n",
              "      <th>Count</th>\n",
              "      <th>Open</th>\n",
              "      <th>High</th>\n",
              "      <th>Low</th>\n",
              "      <th>Close</th>\n",
              "      <th>Volume</th>\n",
              "      <th>VWAP</th>\n",
              "      <th>Target</th>\n",
              "    </tr>\n",
              "  </thead>\n",
              "  <tbody>\n",
              "    <tr>\n",
              "      <th>0</th>\n",
              "      <td>0.0</td>\n",
              "      <td>-0.370668</td>\n",
              "      <td>-0.384969</td>\n",
              "      <td>-0.385015</td>\n",
              "      <td>-0.384921</td>\n",
              "      <td>-0.384974</td>\n",
              "      <td>-0.617670</td>\n",
              "      <td>-0.384964</td>\n",
              "      <td>-0.014399</td>\n",
              "    </tr>\n",
              "    <tr>\n",
              "      <th>1</th>\n",
              "      <td>0.0</td>\n",
              "      <td>-0.366007</td>\n",
              "      <td>-0.384969</td>\n",
              "      <td>-0.385015</td>\n",
              "      <td>-0.385054</td>\n",
              "      <td>-0.385106</td>\n",
              "      <td>-0.620022</td>\n",
              "      <td>-0.385048</td>\n",
              "      <td>-0.015875</td>\n",
              "    </tr>\n",
              "    <tr>\n",
              "      <th>2</th>\n",
              "      <td>0.0</td>\n",
              "      <td>-0.277450</td>\n",
              "      <td>-0.385170</td>\n",
              "      <td>-0.385015</td>\n",
              "      <td>-0.385309</td>\n",
              "      <td>-0.385361</td>\n",
              "      <td>-0.123516</td>\n",
              "      <td>-0.385209</td>\n",
              "      <td>-0.015410</td>\n",
              "    </tr>\n",
              "    <tr>\n",
              "      <th>3</th>\n",
              "      <td>0.0</td>\n",
              "      <td>-0.349694</td>\n",
              "      <td>-0.385218</td>\n",
              "      <td>-0.385215</td>\n",
              "      <td>-0.385398</td>\n",
              "      <td>-0.385223</td>\n",
              "      <td>-0.601712</td>\n",
              "      <td>-0.385394</td>\n",
              "      <td>-0.012524</td>\n",
              "    </tr>\n",
              "    <tr>\n",
              "      <th>4</th>\n",
              "      <td>0.0</td>\n",
              "      <td>-0.370668</td>\n",
              "      <td>-0.385220</td>\n",
              "      <td>-0.385265</td>\n",
              "      <td>-0.385556</td>\n",
              "      <td>-0.385608</td>\n",
              "      <td>-0.601978</td>\n",
              "      <td>-0.385577</td>\n",
              "      <td>-0.005940</td>\n",
              "    </tr>\n",
              "  </tbody>\n",
              "</table>\n",
              "</div>\n",
              "      <button class=\"colab-df-convert\" onclick=\"convertToInteractive('df-cc0a8c74-3e40-41be-bfa6-596f061c4f9c')\"\n",
              "              title=\"Convert this dataframe to an interactive table.\"\n",
              "              style=\"display:none;\">\n",
              "        \n",
              "  <svg xmlns=\"http://www.w3.org/2000/svg\" height=\"24px\"viewBox=\"0 0 24 24\"\n",
              "       width=\"24px\">\n",
              "    <path d=\"M0 0h24v24H0V0z\" fill=\"none\"/>\n",
              "    <path d=\"M18.56 5.44l.94 2.06.94-2.06 2.06-.94-2.06-.94-.94-2.06-.94 2.06-2.06.94zm-11 1L8.5 8.5l.94-2.06 2.06-.94-2.06-.94L8.5 2.5l-.94 2.06-2.06.94zm10 10l.94 2.06.94-2.06 2.06-.94-2.06-.94-.94-2.06-.94 2.06-2.06.94z\"/><path d=\"M17.41 7.96l-1.37-1.37c-.4-.4-.92-.59-1.43-.59-.52 0-1.04.2-1.43.59L10.3 9.45l-7.72 7.72c-.78.78-.78 2.05 0 2.83L4 21.41c.39.39.9.59 1.41.59.51 0 1.02-.2 1.41-.59l7.78-7.78 2.81-2.81c.8-.78.8-2.07 0-2.86zM5.41 20L4 18.59l7.72-7.72 1.47 1.35L5.41 20z\"/>\n",
              "  </svg>\n",
              "      </button>\n",
              "      \n",
              "  <style>\n",
              "    .colab-df-container {\n",
              "      display:flex;\n",
              "      flex-wrap:wrap;\n",
              "      gap: 12px;\n",
              "    }\n",
              "\n",
              "    .colab-df-convert {\n",
              "      background-color: #E8F0FE;\n",
              "      border: none;\n",
              "      border-radius: 50%;\n",
              "      cursor: pointer;\n",
              "      display: none;\n",
              "      fill: #1967D2;\n",
              "      height: 32px;\n",
              "      padding: 0 0 0 0;\n",
              "      width: 32px;\n",
              "    }\n",
              "\n",
              "    .colab-df-convert:hover {\n",
              "      background-color: #E2EBFA;\n",
              "      box-shadow: 0px 1px 2px rgba(60, 64, 67, 0.3), 0px 1px 3px 1px rgba(60, 64, 67, 0.15);\n",
              "      fill: #174EA6;\n",
              "    }\n",
              "\n",
              "    [theme=dark] .colab-df-convert {\n",
              "      background-color: #3B4455;\n",
              "      fill: #D2E3FC;\n",
              "    }\n",
              "\n",
              "    [theme=dark] .colab-df-convert:hover {\n",
              "      background-color: #434B5C;\n",
              "      box-shadow: 0px 1px 3px 1px rgba(0, 0, 0, 0.15);\n",
              "      filter: drop-shadow(0px 1px 2px rgba(0, 0, 0, 0.3));\n",
              "      fill: #FFFFFF;\n",
              "    }\n",
              "  </style>\n",
              "\n",
              "      <script>\n",
              "        const buttonEl =\n",
              "          document.querySelector('#df-cc0a8c74-3e40-41be-bfa6-596f061c4f9c button.colab-df-convert');\n",
              "        buttonEl.style.display =\n",
              "          google.colab.kernel.accessAllowed ? 'block' : 'none';\n",
              "\n",
              "        async function convertToInteractive(key) {\n",
              "          const element = document.querySelector('#df-cc0a8c74-3e40-41be-bfa6-596f061c4f9c');\n",
              "          const dataTable =\n",
              "            await google.colab.kernel.invokeFunction('convertToInteractive',\n",
              "                                                     [key], {});\n",
              "          if (!dataTable) return;\n",
              "\n",
              "          const docLinkHtml = 'Like what you see? Visit the ' +\n",
              "            '<a target=\"_blank\" href=https://colab.research.google.com/notebooks/data_table.ipynb>data table notebook</a>'\n",
              "            + ' to learn more about interactive tables.';\n",
              "          element.innerHTML = '';\n",
              "          dataTable['output_type'] = 'display_data';\n",
              "          await google.colab.output.renderOutput(dataTable, element);\n",
              "          const docLink = document.createElement('div');\n",
              "          docLink.innerHTML = docLinkHtml;\n",
              "          element.appendChild(docLink);\n",
              "        }\n",
              "      </script>\n",
              "    </div>\n",
              "  </div>\n",
              "  "
            ],
            "text/plain": [
              "   Asset_ID     Count      Open  ...    Volume      VWAP    Target\n",
              "0       0.0 -0.370668 -0.384969  ... -0.617670 -0.384964 -0.014399\n",
              "1       0.0 -0.366007 -0.384969  ... -0.620022 -0.385048 -0.015875\n",
              "2       0.0 -0.277450 -0.385170  ... -0.123516 -0.385209 -0.015410\n",
              "3       0.0 -0.349694 -0.385218  ... -0.601712 -0.385394 -0.012524\n",
              "4       0.0 -0.370668 -0.385220  ... -0.601978 -0.385577 -0.005940\n",
              "\n",
              "[5 rows x 9 columns]"
            ]
          },
          "metadata": {},
          "execution_count": 27
        }
      ]
    },
    {
      "cell_type": "markdown",
      "source": [
        "## Build Model - use CNN\n",
        "\n",
        "following tutorial of ['Using CNN for financial time series prediction'](https://machinelearningmastery.com/using-cnn-for-financial-time-series-prediction/)"
      ],
      "metadata": {
        "id": "_5W-0LGcTKgC"
      }
    },
    {
      "cell_type": "markdown",
      "source": [
        "### data generator : 한달 기간의 3/4 : train set ,  1/4 : validate set 으로 순서대로 나눈 batch를 구성.\n",
        "\n",
        "### train set 기간 안에서 랜덤한 날짜의 batch를 불러와 모델을 학습시킨다.  "
      ],
      "metadata": {
        "id": "W_f4TIHqYseV"
      }
    },
    {
      "cell_type": "code",
      "source": [
        "def datagen(data, seq_len, batch_size, targetcol, kind):\n",
        "    batch = []\n",
        "    while True:\n",
        "        df = random.choice(data)\n",
        "        df = pd.DataFrame(df, \n",
        "                          columns=['Asset_ID', 'Count', 'Open', \n",
        "                                   'High', 'Low', 'Close',\n",
        "                                   'Volume', 'VWAP', 'Target'])\n",
        "        df = df.drop(columns=['Asset_ID'])  # drop Asset_ID\n",
        "        input_cols = [c for c in df.columns if c != targetcol]\n",
        "        index = df.index\n",
        "        split = int(len(index)*TRAIN_VALID_RATIO)\n",
        "        if kind == 'train':\n",
        "            index = index[:split]\n",
        "        elif kind == 'valid':\n",
        "            index = index[split:]\n",
        "            \n",
        "        while True:\n",
        "            t = random.choice(index)\n",
        "            n = (df.index == t).argmax()\n",
        "            if n-seq_len+1 < 0:\n",
        "                continue # seq_len보다 n이 크지 않으면 다시 choice\n",
        "            frame = df.iloc[n-seq_len+1:n+1]\n",
        "            batch.append([frame[input_cols].values, df.loc[t, targetcol]])\n",
        "            break\n",
        "        \n",
        "        if len(batch) == batch_size:\n",
        "            X, y = zip(*batch)\n",
        "            X, y = np.expand_dims(np.array(X), 3), np.array(y)\n",
        "            yield X, y\n",
        "            batch = []"
      ],
      "metadata": {
        "id": "Ckp8w8M6TbEH"
      },
      "execution_count": 7,
      "outputs": []
    },
    {
      "cell_type": "code",
      "source": [
        "# 2D CNN model\n",
        "\n",
        "seq_len = 60*24*30 #한달\n",
        "def cnnpred_2d(seq_len=seq_len, n_features=7, n_filters=8):\n",
        "    \n",
        "    model = Sequential([\n",
        "        Conv2D(n_filters, kernel_size=(1, n_features), activation='relu', \n",
        "               padding='same', input_shape=(seq_len, n_features, 1)),\n",
        "        # Conv2D(n_filters, kernel_size=(60*24,1), activation='relu'),\n",
        "        MaxPool2D(pool_size=(2,1)),\n",
        "        # Conv2D(n_filters, kernel_size=(60,1), activation='relu'),\n",
        "        # MaxPool2D(pool_size=(2,1)),\n",
        "        Flatten(),\n",
        "        Dense(100),\n",
        "        Dense(10),\n",
        "        # Dropout(droprate),\n",
        "        Dense(1, activation='linear')\n",
        "    ])\n",
        "    return model\n",
        "\n",
        "cnnpred_2d().summary()"
      ],
      "metadata": {
        "colab": {
          "base_uri": "https://localhost:8080/"
        },
        "id": "JXXTeJFyUXaM",
        "outputId": "03cd3f61-dc16-4a70-8eb4-1d817e1b4563"
      },
      "execution_count": 8,
      "outputs": [
        {
          "output_type": "stream",
          "name": "stdout",
          "text": [
            "Model: \"sequential\"\n",
            "_________________________________________________________________\n",
            " Layer (type)                Output Shape              Param #   \n",
            "=================================================================\n",
            " conv2d (Conv2D)             (None, 43200, 7, 8)       64        \n",
            "                                                                 \n",
            " max_pooling2d (MaxPooling2D  (None, 21600, 7, 8)      0         \n",
            " )                                                               \n",
            "                                                                 \n",
            " flatten (Flatten)           (None, 1209600)           0         \n",
            "                                                                 \n",
            " dense (Dense)               (None, 100)               120960100 \n",
            "                                                                 \n",
            " dense_1 (Dense)             (None, 10)                1010      \n",
            "                                                                 \n",
            " dense_2 (Dense)             (None, 1)                 11        \n",
            "                                                                 \n",
            "=================================================================\n",
            "Total params: 120,961,185\n",
            "Trainable params: 120,961,185\n",
            "Non-trainable params: 0\n",
            "_________________________________________________________________\n"
          ]
        }
      ]
    },
    {
      "cell_type": "code",
      "source": [
        "seq_len = 30*24*60  # 한달\n",
        "batch_size = 16\n",
        "n_epochs = 10\n",
        "n_features = 7\n",
        "TRAIN_VALID_RATIO = 0.75\n",
        "\n",
        "model = cnnpred_2d(seq_len, n_features, n_filters=8)\n",
        "model.compile(optimizer='adam', loss='mse')\n",
        "model.fit(datagen(data_prep, seq_len, batch_size, \"Target\", \"train\"),\n",
        "         validation_data = datagen(data_prep, seq_len, batch_size, \"Target\", \"valid\"),\n",
        "          epochs = n_epochs,\n",
        "          validation_steps=10, steps_per_epoch=30,\n",
        "          verbose=1, #callbacks = callbacks\n",
        "         )"
      ],
      "metadata": {
        "colab": {
          "base_uri": "https://localhost:8080/"
        },
        "id": "Yggg--F4T092",
        "outputId": "783eeaca-3691-48f9-b4b4-b167f4ce24ce"
      },
      "execution_count": 9,
      "outputs": [
        {
          "output_type": "stream",
          "name": "stdout",
          "text": [
            "Epoch 1/10\n",
            "30/30 [==============================] - 71s 2s/step - loss: 732658.5625 - val_loss: 4116498.7500\n",
            "Epoch 2/10\n",
            "30/30 [==============================] - 63s 2s/step - loss: 88625.3281 - val_loss: 320412.6875\n",
            "Epoch 3/10\n",
            "30/30 [==============================] - 65s 2s/step - loss: 20493.1836 - val_loss: 21491.2617\n",
            "Epoch 4/10\n",
            "30/30 [==============================] - 65s 2s/step - loss: 3259.0093 - val_loss: 50577.1562\n",
            "Epoch 5/10\n",
            "30/30 [==============================] - 66s 2s/step - loss: 1382.0055 - val_loss: 59437.1641\n",
            "Epoch 6/10\n",
            "30/30 [==============================] - 66s 2s/step - loss: 962.1733 - val_loss: 55760.6172\n",
            "Epoch 7/10\n",
            "30/30 [==============================] - 64s 2s/step - loss: 497.3737 - val_loss: 34439.6797\n",
            "Epoch 8/10\n",
            "30/30 [==============================] - 67s 2s/step - loss: 272.9270 - val_loss: 18609.2617\n",
            "Epoch 9/10\n",
            "30/30 [==============================] - 70s 2s/step - loss: 297.8791 - val_loss: 5445.0674\n",
            "Epoch 10/10\n",
            "30/30 [==============================] - 71s 2s/step - loss: 184.1909 - val_loss: 21345.0938\n"
          ]
        },
        {
          "output_type": "execute_result",
          "data": {
            "text/plain": [
              "<keras.callbacks.History at 0x7f6847468e50>"
            ]
          },
          "metadata": {},
          "execution_count": 9
        }
      ]
    },
    {
      "cell_type": "code",
      "source": [
        "# save model \n",
        "# model.save('cnn2d_5epoch')\n",
        "model.save('cnn2d_10epoch_30steps')"
      ],
      "metadata": {
        "colab": {
          "base_uri": "https://localhost:8080/"
        },
        "id": "ngRl6IhvH2TI",
        "outputId": "c4423b88-b604-4e91-92c1-26b4ddfd606c"
      },
      "execution_count": 10,
      "outputs": [
        {
          "output_type": "stream",
          "name": "stdout",
          "text": [
            "INFO:tensorflow:Assets written to: cnn2d_10epoch_30steps/assets\n"
          ]
        }
      ]
    },
    {
      "cell_type": "markdown",
      "source": [
        "## Test the model - Bitcoin 에 적용"
      ],
      "metadata": {
        "id": "NoQ0QPnVMPVv"
      }
    },
    {
      "cell_type": "code",
      "source": [
        "# model = tf.keras.models.load_model('cnn2d_5epoch')\n",
        "\n",
        "\n",
        "# test trained data on Bitcoin : 2\n",
        "btc_test, btc_test_date = preprocess_data(test_df, 2)\n"
      ],
      "metadata": {
        "id": "G3twzWCqA03i"
      },
      "execution_count": 21,
      "outputs": []
    },
    {
      "cell_type": "code",
      "source": [
        "def testgen(data, seq_len, targetcol):\n",
        "    batch = []\n",
        "    df = data.drop(columns=['Asset_ID'])  # drop Asset_ID\n",
        "    input_cols = [c for c in df.columns if c != targetcol]\n",
        "    index = df.index\n",
        "    for i in range(seq_len, seq_len+1000):\n",
        "        frame = df.iloc[i-seq_len:i]\n",
        "        batch.append([frame[input_cols].values, frame[targetcol].values[-1]])\n",
        "    X, y = zip(*batch)\n",
        "    return np.expand_dims(np.array(X), 3), np.array(y)\n",
        "           \n",
        "       \n",
        "\n",
        "\n",
        "\n"
      ],
      "metadata": {
        "id": "18VhiGb1DHEg"
      },
      "execution_count": 22,
      "outputs": []
    },
    {
      "cell_type": "code",
      "source": [
        "seq_len = 60*24*30\n",
        "test_X, test_y = testgen(btc_test, seq_len, 'Target')"
      ],
      "metadata": {
        "id": "H8uK7vJXGjOU"
      },
      "execution_count": 23,
      "outputs": []
    },
    {
      "cell_type": "code",
      "source": [
        "y_pred = model.predict(test_X)"
      ],
      "metadata": {
        "id": "yBylYL3_Nl7z"
      },
      "execution_count": 24,
      "outputs": []
    },
    {
      "cell_type": "markdown",
      "source": [
        "## 예측값 시각화 - 16분 동안의 변동성 예측"
      ],
      "metadata": {
        "id": "yqyC7JKaZ0lI"
      }
    },
    {
      "cell_type": "code",
      "source": [
        "plt.plot(btc_test_date[:1000], y_pred, label='predicted')\n",
        "plt.plot(btc_test_date[:1000], test_y[:1000], label='actual')\n",
        "plt.legend()"
      ],
      "metadata": {
        "colab": {
          "base_uri": "https://localhost:8080/",
          "height": 282
        },
        "id": "sR2WEEvlKn_g",
        "outputId": "50030e6d-2e35-4568-a0a2-02300d28f4ee"
      },
      "execution_count": 25,
      "outputs": [
        {
          "output_type": "execute_result",
          "data": {
            "text/plain": [
              "<matplotlib.legend.Legend at 0x7f67d1f6c190>"
            ]
          },
          "metadata": {},
          "execution_count": 25
        },
        {
          "output_type": "display_data",
          "data": {
            "image/png": "[encoded data removed]",
            "text/plain": [
              "<Figure size 432x288 with 1 Axes>"
            ]
          },
          "metadata": {
            "needs_background": "light"
          }
        }
      ]
    },
    {
      "cell_type": "markdown",
      "source": [
        "## 결론. 한계점 및 추후 발전 방향\n",
        "- CNN을 이용하여 암호화폐 예측모델을 구성하였고 훈련시키는 데 성공하였다.\n",
        "- 충분치 못한 epoch 그리고 단순한 모델 구조로 인해 정확한 prediction에는 실패.\n",
        "- 암호화폐의 변동성에 대한 여러 원인에 대한 파악 불가.\n",
        "- Epoch을 늘리고 모델을 좀더 복잡한 layer로 구성하면 더 좋은 결과를 낼 수 있을 것이다.\n",
        "- LSTM 등 다른 모델과의 성능 비교 또한 필요함. Ensemble을 이용하여 성능을 좀더 발전시킬 수 있을 것."
      ],
      "metadata": {
        "id": "61TWZagiaE1k"
      }
    }
  ]
}