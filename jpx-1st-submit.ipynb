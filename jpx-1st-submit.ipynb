{
 "cells": [
  {
   "cell_type": "code",
   "execution_count": 1,
   "id": "6c8159fe",
   "metadata": {
    "_cell_guid": "b1076dfc-b9ad-4769-8c92-a6c4dae69d19",
    "_uuid": "8f2839f25d086af736a60e9eeb907d3b93b6e0e5",
    "execution": {
     "iopub.execute_input": "2022-05-25T06:33:56.487716Z",
     "iopub.status.busy": "2022-05-25T06:33:56.487144Z",
     "iopub.status.idle": "2022-05-25T06:33:56.497214Z",
     "shell.execute_reply": "2022-05-25T06:33:56.496650Z"
    },
    "papermill": {
     "duration": 0.032259,
     "end_time": "2022-05-25T06:33:56.499205",
     "exception": false,
     "start_time": "2022-05-25T06:33:56.466946",
     "status": "completed"
    },
    "tags": []
   },
   "outputs": [],
   "source": [
    "# This Python 3 environment comes with many helpful analytics libraries installed\n",
    "# It is defined by the kaggle/python Docker image: https://github.com/kaggle/docker-python\n",
    "# For example, here's several helpful packages to load\n",
    "\n",
    "import numpy as np # linear algebra\n",
    "import pandas as pd # data processing, CSV file I/O (e.g. pd.read_csv)\n",
    "\n",
    "# Input data files are available in the read-only \"../input/\" directory\n",
    "# For example, running this (by clicking run or pressing Shift+Enter) will list all files under the input directory\n",
    "\n",
    "import os\n",
    "# for dirname, _, filenames in os.walk('/kaggle/input'):\n",
    "#     for filename in filenames:\n",
    "#         print(os.path.join(dirname, filename))\n",
    "\n",
    "# You can write up to 20GB to the current directory (/kaggle/working/) that gets preserved as output when you create a version using \"Save & Run All\" \n",
    "# You can also write temporary files to /kaggle/temp/, but they won't be saved outside of the current session"
   ]
  },
  {
   "cell_type": "markdown",
   "id": "0f529beb",
   "metadata": {
    "papermill": {
     "duration": 0.017182,
     "end_time": "2022-05-25T06:33:56.534186",
     "exception": false,
     "start_time": "2022-05-25T06:33:56.517004",
     "status": "completed"
    },
    "tags": []
   },
   "source": [
    "## EDA + 1st submit"
   ]
  },
  {
   "cell_type": "code",
   "execution_count": 2,
   "id": "c14716fc",
   "metadata": {
    "execution": {
     "iopub.execute_input": "2022-05-25T06:33:56.570926Z",
     "iopub.status.busy": "2022-05-25T06:33:56.570457Z",
     "iopub.status.idle": "2022-05-25T06:33:58.537956Z",
     "shell.execute_reply": "2022-05-25T06:33:58.537097Z"
    },
    "papermill": {
     "duration": 1.988717,
     "end_time": "2022-05-25T06:33:58.540630",
     "exception": false,
     "start_time": "2022-05-25T06:33:56.551913",
     "status": "completed"
    },
    "tags": []
   },
   "outputs": [
    {
     "data": {
      "text/html": [
       "<style type='text/css'>\n",
       ".datatable table.frame { margin-bottom: 0; }\n",
       ".datatable table.frame thead { border-bottom: none; }\n",
       ".datatable table.frame tr.coltypes td {  color: #FFFFFF;  line-height: 6px;  padding: 0 0.5em;}\n",
       ".datatable .bool    { background: #DDDD99; }\n",
       ".datatable .object  { background: #565656; }\n",
       ".datatable .int     { background: #5D9E5D; }\n",
       ".datatable .float   { background: #4040CC; }\n",
       ".datatable .str     { background: #CC4040; }\n",
       ".datatable .time    { background: #40CC40; }\n",
       ".datatable .row_index {  background: var(--jp-border-color3);  border-right: 1px solid var(--jp-border-color0);  color: var(--jp-ui-font-color3);  font-size: 9px;}\n",
       ".datatable .frame tbody td { text-align: left; }\n",
       ".datatable .frame tr.coltypes .row_index {  background: var(--jp-border-color0);}\n",
       ".datatable th:nth-child(2) { padding-left: 12px; }\n",
       ".datatable .hellipsis {  color: var(--jp-cell-editor-border-color);}\n",
       ".datatable .vellipsis {  background: var(--jp-layout-color0);  color: var(--jp-cell-editor-border-color);}\n",
       ".datatable .na {  color: var(--jp-cell-editor-border-color);  font-size: 80%;}\n",
       ".datatable .sp {  opacity: 0.25;}\n",
       ".datatable .footer { font-size: 9px; }\n",
       ".datatable .frame_dimensions {  background: var(--jp-border-color3);  border-top: 1px solid var(--jp-border-color0);  color: var(--jp-ui-font-color3);  display: inline-block;  opacity: 0.6;  padding: 1px 10px 1px 5px;}\n",
       "</style>\n"
      ],
      "text/plain": [
       "<IPython.core.display.HTML object>"
      ]
     },
     "metadata": {},
     "output_type": "display_data"
    }
   ],
   "source": [
    "import matplotlib.pyplot as plt\n",
    "from lightgbm import LGBMRegressor\n",
    "from sklearn.preprocessing import StandardScaler, OrdinalEncoder\n",
    "\n"
   ]
  },
  {
   "cell_type": "code",
   "execution_count": 3,
   "id": "47f78933",
   "metadata": {
    "execution": {
     "iopub.execute_input": "2022-05-25T06:33:58.579684Z",
     "iopub.status.busy": "2022-05-25T06:33:58.578904Z",
     "iopub.status.idle": "2022-05-25T06:34:05.351834Z",
     "shell.execute_reply": "2022-05-25T06:34:05.350965Z"
    },
    "papermill": {
     "duration": 6.795461,
     "end_time": "2022-05-25T06:34:05.354829",
     "exception": false,
     "start_time": "2022-05-25T06:33:58.559368",
     "status": "completed"
    },
    "tags": []
   },
   "outputs": [],
   "source": [
    "data = pd.read_csv('/kaggle/input/jpx-tokyo-stock-exchange-prediction/train_files/stock_prices.csv')\n",
    "# display(data)"
   ]
  },
  {
   "cell_type": "code",
   "execution_count": 4,
   "id": "0fbb1a90",
   "metadata": {
    "execution": {
     "iopub.execute_input": "2022-05-25T06:34:05.399362Z",
     "iopub.status.busy": "2022-05-25T06:34:05.398665Z",
     "iopub.status.idle": "2022-05-25T06:34:06.186054Z",
     "shell.execute_reply": "2022-05-25T06:34:06.185292Z"
    },
    "papermill": {
     "duration": 0.809612,
     "end_time": "2022-05-25T06:34:06.188413",
     "exception": false,
     "start_time": "2022-05-25T06:34:05.378801",
     "status": "completed"
    },
    "tags": []
   },
   "outputs": [],
   "source": [
    "# hold-out validation  2021 전후로 나눔\n",
    "train = data[data['Date'] < '2021-01-01']\n",
    "val = data[data['Date'] >= '2021-01-01']\n",
    "# print(train.head(3), val.head(3))"
   ]
  },
  {
   "cell_type": "code",
   "execution_count": 5,
   "id": "c57c2725",
   "metadata": {
    "execution": {
     "iopub.execute_input": "2022-05-25T06:34:06.226532Z",
     "iopub.status.busy": "2022-05-25T06:34:06.225832Z",
     "iopub.status.idle": "2022-05-25T06:34:06.229658Z",
     "shell.execute_reply": "2022-05-25T06:34:06.228922Z"
    },
    "papermill": {
     "duration": 0.024786,
     "end_time": "2022-05-25T06:34:06.231423",
     "exception": false,
     "start_time": "2022-05-25T06:34:06.206637",
     "status": "completed"
    },
    "tags": []
   },
   "outputs": [],
   "source": [
    "# len(train), len(val)"
   ]
  },
  {
   "cell_type": "code",
   "execution_count": 6,
   "id": "cfe1e0d5",
   "metadata": {
    "execution": {
     "iopub.execute_input": "2022-05-25T06:34:06.269375Z",
     "iopub.status.busy": "2022-05-25T06:34:06.268845Z",
     "iopub.status.idle": "2022-05-25T06:34:06.788937Z",
     "shell.execute_reply": "2022-05-25T06:34:06.788094Z"
    },
    "papermill": {
     "duration": 0.54204,
     "end_time": "2022-05-25T06:34:06.791495",
     "exception": false,
     "start_time": "2022-05-25T06:34:06.249455",
     "status": "completed"
    },
    "tags": []
   },
   "outputs": [],
   "source": [
    "def add_features(dfc):\n",
    "    df = dfc.copy()\n",
    "    # shadows\n",
    "    df['upper_shadow'] = df['High'] - np.maximum(df['Open'], df['Close'])\n",
    "    df['lower_shadow'] = np.minimum(df['Open'], df['Close']) - df['Low']\n",
    "    \n",
    "    # lagged features\n",
    "    # 날짜 단위이므로 7일전, 30일전, 180일전, 360일전 \n",
    "    # lagged close, target (target 은 정확히 무엇? return인가)\n",
    "    \n",
    "    # lagged ema\n",
    "    df['Date'] = pd.to_datetime(df['Date'])\n",
    "    return df\n",
    "\n",
    "co_train = add_features(train)\n",
    "# co_train"
   ]
  },
  {
   "cell_type": "code",
   "execution_count": 7,
   "id": "d4c967a9",
   "metadata": {
    "execution": {
     "iopub.execute_input": "2022-05-25T06:34:06.829892Z",
     "iopub.status.busy": "2022-05-25T06:34:06.829618Z",
     "iopub.status.idle": "2022-05-25T06:34:06.833360Z",
     "shell.execute_reply": "2022-05-25T06:34:06.832518Z"
    },
    "papermill": {
     "duration": 0.025526,
     "end_time": "2022-05-25T06:34:06.835350",
     "exception": false,
     "start_time": "2022-05-25T06:34:06.809824",
     "status": "completed"
    },
    "tags": []
   },
   "outputs": [],
   "source": [
    "# 시각화\n",
    "# def code_plot(number, y='Close'):\n",
    "#     ex1 = co_train[co_train.SecuritiesCode == number]\n",
    "#     plt.plot(ex1.Date, ex1[y])\n",
    "#     plt.xlabel('Date')\n",
    "#     plt.ylabel(y)\n",
    "    \n",
    "    \n",
    "# code_plot(1301,'Target')"
   ]
  },
  {
   "cell_type": "code",
   "execution_count": 8,
   "id": "d92bb916",
   "metadata": {
    "execution": {
     "iopub.execute_input": "2022-05-25T06:34:06.874115Z",
     "iopub.status.busy": "2022-05-25T06:34:06.873841Z",
     "iopub.status.idle": "2022-05-25T06:34:06.880021Z",
     "shell.execute_reply": "2022-05-25T06:34:06.879052Z"
    },
    "papermill": {
     "duration": 0.027717,
     "end_time": "2022-05-25T06:34:06.882158",
     "exception": false,
     "start_time": "2022-05-25T06:34:06.854441",
     "status": "completed"
    },
    "tags": []
   },
   "outputs": [
    {
     "data": {
      "text/plain": [
       "'\\nbase model - lgbm (maybe ensemble with nn?)\\nfeatures - close + lagged features + window\\n\\nfeature 추가할것\\n1. Lagged features\\n2. lagged ema\\n3. shadows\\n\\n요일, 월 정도 추가 \\nACF 적용해서 lagged 어느정도 적용하는게 좋은지 판단하기.\\n\\nfeatures should be normalized - StandardScaler\\n'"
      ]
     },
     "execution_count": 8,
     "metadata": {},
     "output_type": "execute_result"
    }
   ],
   "source": [
    "'''\n",
    "base model - lgbm (maybe ensemble with nn?)\n",
    "features - close + lagged features + window\n",
    "\n",
    "feature 추가할것\n",
    "1. Lagged features\n",
    "2. lagged ema\n",
    "3. shadows\n",
    "\n",
    "요일, 월 정도 추가 \n",
    "ACF 적용해서 lagged 어느정도 적용하는게 좋은지 판단하기.\n",
    "\n",
    "features should be normalized - StandardScaler\n",
    "'''"
   ]
  },
  {
   "cell_type": "code",
   "execution_count": 9,
   "id": "1b985622",
   "metadata": {
    "execution": {
     "iopub.execute_input": "2022-05-25T06:34:06.921205Z",
     "iopub.status.busy": "2022-05-25T06:34:06.920369Z",
     "iopub.status.idle": "2022-05-25T06:34:07.968085Z",
     "shell.execute_reply": "2022-05-25T06:34:07.967266Z"
    },
    "papermill": {
     "duration": 1.069606,
     "end_time": "2022-05-25T06:34:07.970258",
     "exception": false,
     "start_time": "2022-05-25T06:34:06.900652",
     "status": "completed"
    },
    "tags": []
   },
   "outputs": [
    {
     "data": {
      "text/plain": [
       "(         SecuritiesCode      Open      High       Low     Close    Volume  \\\n",
       " 0                   0.0  0.061354  0.057631  0.070659  0.063803 -0.163871   \n",
       " 1                   1.0 -0.586481 -0.586660 -0.585218 -0.585526  0.503232   \n",
       " 2                   2.0  0.185777  0.192166  0.194752  0.203778 -0.106156   \n",
       " 3                   4.0 -0.304736 -0.298665 -0.298594 -0.292715 -0.168717   \n",
       " 4                   5.0  0.221668  0.233562  0.234099  0.239669 -0.135086   \n",
       " ...                 ...       ...       ...       ...       ...       ...   \n",
       " 1880526          1995.0 -0.595753 -0.596713 -0.595509 -0.594499 -0.159604   \n",
       " 1880527          1996.0 -0.466844 -0.470752 -0.466573 -0.469179 -0.166644   \n",
       " 1880528          1997.0 -0.240431 -0.240120 -0.235942 -0.233794 -0.169899   \n",
       " 1880529          1998.0 -0.101652 -0.103811 -0.097018 -0.105483 -0.168886   \n",
       " 1880530          1999.0 -0.429756 -0.419895 -0.429951 -0.417137 -0.089738   \n",
       " \n",
       "          upper_shadow  lower_shadow  \n",
       " 0           -0.058746     -0.352781  \n",
       " 1           -0.284972     -0.323350  \n",
       " 2           -0.426364     -0.176196  \n",
       " 3           -0.426364     -0.470504  \n",
       " 4            0.139202     -0.470504  \n",
       " ...               ...           ...  \n",
       " 1880526     -0.398085     -0.235057  \n",
       " 1880527     -0.426364     -0.323350  \n",
       " 1880528     -0.398085     -0.235057  \n",
       " 1880529      0.139202     -0.470504  \n",
       " 1880530     -0.256694      0.000389  \n",
       " \n",
       " [1880531 rows x 8 columns],\n",
       "            Target\n",
       " 0        0.000730\n",
       " 1        0.012324\n",
       " 2        0.006154\n",
       " 3        0.011053\n",
       " 4        0.003026\n",
       " ...           ...\n",
       " 1880526  0.000000\n",
       " 1880527 -0.003128\n",
       " 1880528 -0.001725\n",
       " 1880529  0.010798\n",
       " 1880530 -0.002676\n",
       " \n",
       " [1880531 rows x 1 columns])"
      ]
     },
     "execution_count": 9,
     "metadata": {},
     "output_type": "execute_result"
    }
   ],
   "source": [
    "def preprocess(df, train=True):\n",
    "    dfc = df.copy()\n",
    "    \n",
    "    # remove columns - Date removed temporarily\n",
    "    dfc = dfc.drop(columns=['Date', 'RowId', 'AdjustmentFactor', 'ExpectedDividend', 'SupervisionFlag'])\n",
    "    stdsc = StandardScaler()\n",
    "    ordinal = OrdinalEncoder()\n",
    "\n",
    "    target = ['Target']\n",
    "    ord_features = ['SecuritiesCode']\n",
    "    scaled_features = ['Open', 'High', 'Low', 'Close', 'Volume', 'upper_shadow', 'lower_shadow']\n",
    "\n",
    "    date_code_ord = ordinal.fit_transform(dfc.loc[:,ord_features])\n",
    "    scaled = stdsc.fit_transform(dfc.loc[:,scaled_features])\n",
    "    dfc_scaled = pd.concat([pd.DataFrame(date_code_ord, columns=ord_features),\n",
    "                            pd.DataFrame(scaled, columns=scaled_features)], axis=1)\n",
    "    \n",
    "    if train:\n",
    "        y = dfc.loc[:,target]\n",
    "        return dfc_scaled, y\n",
    "    else:\n",
    "        return dfc_scaled\n",
    "\n",
    "X_scaled, y = preprocess(co_train)\n",
    "\n",
    "X_scaled, y"
   ]
  },
  {
   "cell_type": "code",
   "execution_count": 10,
   "id": "d6f1413a",
   "metadata": {
    "execution": {
     "iopub.execute_input": "2022-05-25T06:34:08.010380Z",
     "iopub.status.busy": "2022-05-25T06:34:08.009614Z",
     "iopub.status.idle": "2022-05-25T06:34:12.495696Z",
     "shell.execute_reply": "2022-05-25T06:34:12.494927Z"
    },
    "papermill": {
     "duration": 4.508713,
     "end_time": "2022-05-25T06:34:12.497975",
     "exception": false,
     "start_time": "2022-05-25T06:34:07.989262",
     "status": "completed"
    },
    "tags": []
   },
   "outputs": [],
   "source": [
    "# base model - lgbm \n",
    "lgb = LGBMRegressor().fit(X_scaled, y)\n"
   ]
  },
  {
   "cell_type": "code",
   "execution_count": 11,
   "id": "e88f1224",
   "metadata": {
    "execution": {
     "iopub.execute_input": "2022-05-25T06:34:12.537599Z",
     "iopub.status.busy": "2022-05-25T06:34:12.537329Z",
     "iopub.status.idle": "2022-05-25T06:34:12.565127Z",
     "shell.execute_reply": "2022-05-25T06:34:12.564330Z"
    },
    "papermill": {
     "duration": 0.050475,
     "end_time": "2022-05-25T06:34:12.567541",
     "exception": false,
     "start_time": "2022-05-25T06:34:12.517066",
     "status": "completed"
    },
    "tags": []
   },
   "outputs": [],
   "source": [
    "import jpx_tokyo_market_prediction\n",
    "env = jpx_tokyo_market_prediction.make_env()\n",
    "iter_test = env.iter_test()"
   ]
  },
  {
   "cell_type": "code",
   "execution_count": 12,
   "id": "f7e9c99d",
   "metadata": {
    "execution": {
     "iopub.execute_input": "2022-05-25T06:34:12.607811Z",
     "iopub.status.busy": "2022-05-25T06:34:12.607534Z",
     "iopub.status.idle": "2022-05-25T06:34:12.876112Z",
     "shell.execute_reply": "2022-05-25T06:34:12.875268Z"
    },
    "papermill": {
     "duration": 0.291685,
     "end_time": "2022-05-25T06:34:12.878454",
     "exception": false,
     "start_time": "2022-05-25T06:34:12.586769",
     "status": "completed"
    },
    "tags": []
   },
   "outputs": [
    {
     "name": "stdout",
     "output_type": "stream",
     "text": [
      "This version of the API is not optimized and should not be used to estimate the runtime of your code on the hidden test set.\n"
     ]
    }
   ],
   "source": [
    "for (prices, options, financials, trades, secondary_prices, sample_prediction) in iter_test:\n",
    "    feat = add_features(prices)\n",
    "    X = preprocess(feat, train=False)\n",
    "\n",
    "    # X, y\n",
    "    X['Target'] = lgb.predict(X)\n",
    "    X['Rank'] = (X['Target'].rank(method='first', ascending=False)-1).astype(int)\n",
    "    sample_prediction['Rank'] = X['Rank']\n",
    "#     display(sample_prediction)\n",
    "    env.predict(sample_prediction)"
   ]
  },
  {
   "cell_type": "code",
   "execution_count": 13,
   "id": "7eca114f",
   "metadata": {
    "execution": {
     "iopub.execute_input": "2022-05-25T06:34:12.920634Z",
     "iopub.status.busy": "2022-05-25T06:34:12.920366Z",
     "iopub.status.idle": "2022-05-25T06:34:12.923681Z",
     "shell.execute_reply": "2022-05-25T06:34:12.922753Z"
    },
    "papermill": {
     "duration": 0.026038,
     "end_time": "2022-05-25T06:34:12.925577",
     "exception": false,
     "start_time": "2022-05-25T06:34:12.899539",
     "status": "completed"
    },
    "tags": []
   },
   "outputs": [],
   "source": [
    "# res = pd.read_csv('/kaggle/working/submission.csv')\n",
    "# len(res.Rank.unique())"
   ]
  },
  {
   "cell_type": "code",
   "execution_count": 14,
   "id": "e1535450",
   "metadata": {
    "execution": {
     "iopub.execute_input": "2022-05-25T06:34:12.965688Z",
     "iopub.status.busy": "2022-05-25T06:34:12.965424Z",
     "iopub.status.idle": "2022-05-25T06:34:12.968695Z",
     "shell.execute_reply": "2022-05-25T06:34:12.967815Z"
    },
    "papermill": {
     "duration": 0.025834,
     "end_time": "2022-05-25T06:34:12.970658",
     "exception": false,
     "start_time": "2022-05-25T06:34:12.944824",
     "status": "completed"
    },
    "tags": []
   },
   "outputs": [],
   "source": [
    "# res"
   ]
  },
  {
   "cell_type": "code",
   "execution_count": 15,
   "id": "5d606ded",
   "metadata": {
    "execution": {
     "iopub.execute_input": "2022-05-25T06:34:13.011383Z",
     "iopub.status.busy": "2022-05-25T06:34:13.011106Z",
     "iopub.status.idle": "2022-05-25T06:34:13.015968Z",
     "shell.execute_reply": "2022-05-25T06:34:13.015175Z"
    },
    "papermill": {
     "duration": 0.027395,
     "end_time": "2022-05-25T06:34:13.018139",
     "exception": false,
     "start_time": "2022-05-25T06:34:12.990744",
     "status": "completed"
    },
    "tags": []
   },
   "outputs": [],
   "source": [
    "# res[res.Date=='2021-12-06']['Rank'].max()"
   ]
  },
  {
   "cell_type": "code",
   "execution_count": null,
   "id": "71e5ffbb",
   "metadata": {
    "papermill": {
     "duration": 0.018928,
     "end_time": "2022-05-25T06:34:13.056476",
     "exception": false,
     "start_time": "2022-05-25T06:34:13.037548",
     "status": "completed"
    },
    "tags": []
   },
   "outputs": [],
   "source": []
  }
 ],
 "metadata": {
  "kernelspec": {
   "display_name": "Python 3",
   "language": "python",
   "name": "python3"
  },
  "language_info": {
   "codemirror_mode": {
    "name": "ipython",
    "version": 3
   },
   "file_extension": ".py",
   "mimetype": "text/x-python",
   "name": "python",
   "nbconvert_exporter": "python",
   "pygments_lexer": "ipython3",
   "version": "3.7.12"
  },
  "papermill": {
   "default_parameters": {},
   "duration": 27.219159,
   "end_time": "2022-05-25T06:34:13.998720",
   "environment_variables": {},
   "exception": null,
   "input_path": "__notebook__.ipynb",
   "output_path": "__notebook__.ipynb",
   "parameters": {},
   "start_time": "2022-05-25T06:33:46.779561",
   "version": "2.3.4"
  }
 },
 "nbformat": 4,
 "nbformat_minor": 5
}
