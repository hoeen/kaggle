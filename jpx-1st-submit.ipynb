{
 "cells": [
  {
   "cell_type": "code",
   "execution_count": 1,
   "id": "063c421c",
   "metadata": {
    "_cell_guid": "b1076dfc-b9ad-4769-8c92-a6c4dae69d19",
    "_uuid": "8f2839f25d086af736a60e9eeb907d3b93b6e0e5",
    "execution": {
     "iopub.execute_input": "2022-05-25T06:37:37.386802Z",
     "iopub.status.busy": "2022-05-25T06:37:37.386190Z",
     "iopub.status.idle": "2022-05-25T06:37:37.396935Z",
     "shell.execute_reply": "2022-05-25T06:37:37.395986Z"
    },
    "papermill": {
     "duration": 0.034525,
     "end_time": "2022-05-25T06:37:37.399424",
     "exception": false,
     "start_time": "2022-05-25T06:37:37.364899",
     "status": "completed"
    },
    "tags": []
   },
   "outputs": [],
   "source": [
    "# This Python 3 environment comes with many helpful analytics libraries installed\n",
    "# It is defined by the kaggle/python Docker image: https://github.com/kaggle/docker-python\n",
    "# For example, here's several helpful packages to load\n",
    "\n",
    "import numpy as np # linear algebra\n",
    "import pandas as pd # data processing, CSV file I/O (e.g. pd.read_csv)\n",
    "\n",
    "# Input data files are available in the read-only \"../input/\" directory\n",
    "# For example, running this (by clicking run or pressing Shift+Enter) will list all files under the input directory\n",
    "\n",
    "import os\n",
    "# for dirname, _, filenames in os.walk('/kaggle/input'):\n",
    "#     for filename in filenames:\n",
    "#         print(os.path.join(dirname, filename))\n",
    "\n",
    "# You can write up to 20GB to the current directory (/kaggle/working/) that gets preserved as output when you create a version using \"Save & Run All\" \n",
    "# You can also write temporary files to /kaggle/temp/, but they won't be saved outside of the current session"
   ]
  },
  {
   "cell_type": "markdown",
   "id": "9f902f67",
   "metadata": {
    "papermill": {
     "duration": 0.017172,
     "end_time": "2022-05-25T06:37:37.435822",
     "exception": false,
     "start_time": "2022-05-25T06:37:37.418650",
     "status": "completed"
    },
    "tags": []
   },
   "source": [
    "## EDA + 1st submit"
   ]
  },
  {
   "cell_type": "code",
   "execution_count": 2,
   "id": "ccfa7bab",
   "metadata": {
    "execution": {
     "iopub.execute_input": "2022-05-25T06:37:37.472315Z",
     "iopub.status.busy": "2022-05-25T06:37:37.472030Z",
     "iopub.status.idle": "2022-05-25T06:37:39.661437Z",
     "shell.execute_reply": "2022-05-25T06:37:39.660291Z"
    },
    "papermill": {
     "duration": 2.211194,
     "end_time": "2022-05-25T06:37:39.664337",
     "exception": false,
     "start_time": "2022-05-25T06:37:37.453143",
     "status": "completed"
    },
    "tags": []
   },
   "outputs": [
    {
     "data": {
      "text/html": [
       "<style type='text/css'>\n",
       ".datatable table.frame { margin-bottom: 0; }\n",
       ".datatable table.frame thead { border-bottom: none; }\n",
       ".datatable table.frame tr.coltypes td {  color: #FFFFFF;  line-height: 6px;  padding: 0 0.5em;}\n",
       ".datatable .bool    { background: #DDDD99; }\n",
       ".datatable .object  { background: #565656; }\n",
       ".datatable .int     { background: #5D9E5D; }\n",
       ".datatable .float   { background: #4040CC; }\n",
       ".datatable .str     { background: #CC4040; }\n",
       ".datatable .time    { background: #40CC40; }\n",
       ".datatable .row_index {  background: var(--jp-border-color3);  border-right: 1px solid var(--jp-border-color0);  color: var(--jp-ui-font-color3);  font-size: 9px;}\n",
       ".datatable .frame tbody td { text-align: left; }\n",
       ".datatable .frame tr.coltypes .row_index {  background: var(--jp-border-color0);}\n",
       ".datatable th:nth-child(2) { padding-left: 12px; }\n",
       ".datatable .hellipsis {  color: var(--jp-cell-editor-border-color);}\n",
       ".datatable .vellipsis {  background: var(--jp-layout-color0);  color: var(--jp-cell-editor-border-color);}\n",
       ".datatable .na {  color: var(--jp-cell-editor-border-color);  font-size: 80%;}\n",
       ".datatable .sp {  opacity: 0.25;}\n",
       ".datatable .footer { font-size: 9px; }\n",
       ".datatable .frame_dimensions {  background: var(--jp-border-color3);  border-top: 1px solid var(--jp-border-color0);  color: var(--jp-ui-font-color3);  display: inline-block;  opacity: 0.6;  padding: 1px 10px 1px 5px;}\n",
       "</style>\n"
      ],
      "text/plain": [
       "<IPython.core.display.HTML object>"
      ]
     },
     "metadata": {},
     "output_type": "display_data"
    }
   ],
   "source": [
    "import matplotlib.pyplot as plt\n",
    "from lightgbm import LGBMRegressor\n",
    "from sklearn.preprocessing import StandardScaler, OrdinalEncoder\n",
    "\n"
   ]
  },
  {
   "cell_type": "code",
   "execution_count": 3,
   "id": "2604841e",
   "metadata": {
    "execution": {
     "iopub.execute_input": "2022-05-25T06:37:39.704628Z",
     "iopub.status.busy": "2022-05-25T06:37:39.703212Z",
     "iopub.status.idle": "2022-05-25T06:37:46.840479Z",
     "shell.execute_reply": "2022-05-25T06:37:46.839459Z"
    },
    "papermill": {
     "duration": 7.159579,
     "end_time": "2022-05-25T06:37:46.843100",
     "exception": false,
     "start_time": "2022-05-25T06:37:39.683521",
     "status": "completed"
    },
    "tags": []
   },
   "outputs": [],
   "source": [
    "data = pd.read_csv('/kaggle/input/jpx-tokyo-stock-exchange-prediction/train_files/stock_prices.csv')\n",
    "# display(data)"
   ]
  },
  {
   "cell_type": "code",
   "execution_count": 4,
   "id": "de6ed468",
   "metadata": {
    "execution": {
     "iopub.execute_input": "2022-05-25T06:37:46.887417Z",
     "iopub.status.busy": "2022-05-25T06:37:46.887046Z",
     "iopub.status.idle": "2022-05-25T06:37:47.010246Z",
     "shell.execute_reply": "2022-05-25T06:37:47.009219Z"
    },
    "papermill": {
     "duration": 0.149456,
     "end_time": "2022-05-25T06:37:47.012834",
     "exception": false,
     "start_time": "2022-05-25T06:37:46.863378",
     "status": "completed"
    },
    "tags": []
   },
   "outputs": [],
   "source": [
    "# hold-out validation  2021 전후로 나눔\n",
    "# train = data[data['Date'] < '2021-01-01']\n",
    "# val = data[data['Date'] >= '2021-01-01']\n",
    "train = data.copy()\n",
    "# print(train.head(3), val.head(3))"
   ]
  },
  {
   "cell_type": "code",
   "execution_count": 5,
   "id": "a2aaa7f7",
   "metadata": {
    "execution": {
     "iopub.execute_input": "2022-05-25T06:37:47.053527Z",
     "iopub.status.busy": "2022-05-25T06:37:47.052790Z",
     "iopub.status.idle": "2022-05-25T06:37:47.057625Z",
     "shell.execute_reply": "2022-05-25T06:37:47.056618Z"
    },
    "papermill": {
     "duration": 0.027436,
     "end_time": "2022-05-25T06:37:47.059939",
     "exception": false,
     "start_time": "2022-05-25T06:37:47.032503",
     "status": "completed"
    },
    "tags": []
   },
   "outputs": [],
   "source": [
    "# len(train), len(val)"
   ]
  },
  {
   "cell_type": "code",
   "execution_count": 6,
   "id": "208f288d",
   "metadata": {
    "execution": {
     "iopub.execute_input": "2022-05-25T06:37:47.098857Z",
     "iopub.status.busy": "2022-05-25T06:37:47.098369Z",
     "iopub.status.idle": "2022-05-25T06:37:47.790639Z",
     "shell.execute_reply": "2022-05-25T06:37:47.789674Z"
    },
    "papermill": {
     "duration": 0.715454,
     "end_time": "2022-05-25T06:37:47.793640",
     "exception": false,
     "start_time": "2022-05-25T06:37:47.078186",
     "status": "completed"
    },
    "tags": []
   },
   "outputs": [],
   "source": [
    "def add_features(dfc):\n",
    "    df = dfc.copy()\n",
    "    # shadows\n",
    "    df['upper_shadow'] = df['High'] - np.maximum(df['Open'], df['Close'])\n",
    "    df['lower_shadow'] = np.minimum(df['Open'], df['Close']) - df['Low']\n",
    "    \n",
    "    # lagged features\n",
    "    # 날짜 단위이므로 7일전, 30일전, 180일전, 360일전 \n",
    "    # lagged close, target (target 은 정확히 무엇? return인가)\n",
    "    \n",
    "    # lagged ema\n",
    "    df['Date'] = pd.to_datetime(df['Date'])\n",
    "    return df\n",
    "\n",
    "co_train = add_features(train)\n",
    "# co_train"
   ]
  },
  {
   "cell_type": "code",
   "execution_count": 7,
   "id": "13fecfde",
   "metadata": {
    "execution": {
     "iopub.execute_input": "2022-05-25T06:37:47.832254Z",
     "iopub.status.busy": "2022-05-25T06:37:47.831676Z",
     "iopub.status.idle": "2022-05-25T06:37:47.836668Z",
     "shell.execute_reply": "2022-05-25T06:37:47.835989Z"
    },
    "papermill": {
     "duration": 0.026769,
     "end_time": "2022-05-25T06:37:47.838893",
     "exception": false,
     "start_time": "2022-05-25T06:37:47.812124",
     "status": "completed"
    },
    "tags": []
   },
   "outputs": [],
   "source": [
    "# 시각화\n",
    "# def code_plot(number, y='Close'):\n",
    "#     ex1 = co_train[co_train.SecuritiesCode == number]\n",
    "#     plt.plot(ex1.Date, ex1[y])\n",
    "#     plt.xlabel('Date')\n",
    "#     plt.ylabel(y)\n",
    "    \n",
    "    \n",
    "# code_plot(1301,'Target')"
   ]
  },
  {
   "cell_type": "markdown",
   "id": "bdd4cc7e",
   "metadata": {
    "papermill": {
     "duration": 0.019478,
     "end_time": "2022-05-25T06:37:47.876734",
     "exception": false,
     "start_time": "2022-05-25T06:37:47.857256",
     "status": "completed"
    },
    "tags": []
   },
   "source": [
    "'''\n",
    "base model - lgbm (maybe ensemble with nn?)\n",
    "features - close + lagged features + window\n",
    "\n",
    "feature 추가할것\n",
    "1. Lagged features\n",
    "2. lagged ema\n",
    "3. shadows\n",
    "\n",
    "요일, 월 정도 추가 \n",
    "ACF 적용해서 lagged 어느정도 적용하는게 좋은지 판단하기.\n",
    "\n",
    "features should be normalized - StandardScaler\n",
    "'''"
   ]
  },
  {
   "cell_type": "code",
   "execution_count": 8,
   "id": "0283a7dc",
   "metadata": {
    "execution": {
     "iopub.execute_input": "2022-05-25T06:37:47.916142Z",
     "iopub.status.busy": "2022-05-25T06:37:47.915623Z",
     "iopub.status.idle": "2022-05-25T06:37:49.267656Z",
     "shell.execute_reply": "2022-05-25T06:37:49.266675Z"
    },
    "papermill": {
     "duration": 1.374415,
     "end_time": "2022-05-25T06:37:49.270360",
     "exception": false,
     "start_time": "2022-05-25T06:37:47.895945",
     "status": "completed"
    },
    "tags": []
   },
   "outputs": [],
   "source": [
    "def preprocess(df, train=True):\n",
    "    dfc = df.copy()\n",
    "    \n",
    "    # remove columns - Date removed temporarily\n",
    "    dfc = dfc.drop(columns=['Date', 'RowId', 'AdjustmentFactor', 'ExpectedDividend', 'SupervisionFlag'])\n",
    "    stdsc = StandardScaler()\n",
    "    ordinal = OrdinalEncoder()\n",
    "\n",
    "    target = ['Target']\n",
    "    ord_features = ['SecuritiesCode']\n",
    "    scaled_features = ['Open', 'High', 'Low', 'Close', 'Volume', 'upper_shadow', 'lower_shadow']\n",
    "\n",
    "    date_code_ord = ordinal.fit_transform(dfc.loc[:,ord_features])\n",
    "    scaled = stdsc.fit_transform(dfc.loc[:,scaled_features])\n",
    "    dfc_scaled = pd.concat([pd.DataFrame(date_code_ord, columns=ord_features),\n",
    "                            pd.DataFrame(scaled, columns=scaled_features)], axis=1)\n",
    "    \n",
    "    if train:\n",
    "        y = dfc.loc[:,target]\n",
    "        return dfc_scaled, y\n",
    "    else:\n",
    "        return dfc_scaled\n",
    "\n",
    "X_scaled, y = preprocess(co_train)\n",
    "\n",
    "# X_scaled, y"
   ]
  },
  {
   "cell_type": "code",
   "execution_count": 9,
   "id": "f8f43f5a",
   "metadata": {
    "execution": {
     "iopub.execute_input": "2022-05-25T06:37:49.310479Z",
     "iopub.status.busy": "2022-05-25T06:37:49.310039Z",
     "iopub.status.idle": "2022-05-25T06:37:55.312341Z",
     "shell.execute_reply": "2022-05-25T06:37:55.311176Z"
    },
    "papermill": {
     "duration": 6.025257,
     "end_time": "2022-05-25T06:37:55.315081",
     "exception": false,
     "start_time": "2022-05-25T06:37:49.289824",
     "status": "completed"
    },
    "tags": []
   },
   "outputs": [],
   "source": [
    "# base model - lgbm \n",
    "lgb = LGBMRegressor().fit(X_scaled, y)\n"
   ]
  },
  {
   "cell_type": "code",
   "execution_count": 10,
   "id": "bd55e06c",
   "metadata": {
    "execution": {
     "iopub.execute_input": "2022-05-25T06:37:55.353453Z",
     "iopub.status.busy": "2022-05-25T06:37:55.353116Z",
     "iopub.status.idle": "2022-05-25T06:37:55.380699Z",
     "shell.execute_reply": "2022-05-25T06:37:55.379682Z"
    },
    "papermill": {
     "duration": 0.049942,
     "end_time": "2022-05-25T06:37:55.383136",
     "exception": false,
     "start_time": "2022-05-25T06:37:55.333194",
     "status": "completed"
    },
    "tags": []
   },
   "outputs": [],
   "source": [
    "import jpx_tokyo_market_prediction\n",
    "env = jpx_tokyo_market_prediction.make_env()\n",
    "iter_test = env.iter_test()"
   ]
  },
  {
   "cell_type": "code",
   "execution_count": 11,
   "id": "abce9ab1",
   "metadata": {
    "execution": {
     "iopub.execute_input": "2022-05-25T06:37:55.421219Z",
     "iopub.status.busy": "2022-05-25T06:37:55.420851Z",
     "iopub.status.idle": "2022-05-25T06:37:55.726109Z",
     "shell.execute_reply": "2022-05-25T06:37:55.725049Z"
    },
    "papermill": {
     "duration": 0.327356,
     "end_time": "2022-05-25T06:37:55.728758",
     "exception": false,
     "start_time": "2022-05-25T06:37:55.401402",
     "status": "completed"
    },
    "tags": []
   },
   "outputs": [
    {
     "name": "stdout",
     "output_type": "stream",
     "text": [
      "This version of the API is not optimized and should not be used to estimate the runtime of your code on the hidden test set.\n"
     ]
    }
   ],
   "source": [
    "for (prices, options, financials, trades, secondary_prices, sample_prediction) in iter_test:\n",
    "    feat = add_features(prices)\n",
    "    X = preprocess(feat, train=False)\n",
    "\n",
    "    # X, y\n",
    "    X['Target'] = lgb.predict(X)\n",
    "    X['Rank'] = (X['Target'].rank(method='first', ascending=False)-1).astype(int)\n",
    "    sample_prediction['Rank'] = X['Rank']\n",
    "#     display(sample_prediction)\n",
    "    env.predict(sample_prediction)"
   ]
  },
  {
   "cell_type": "code",
   "execution_count": 12,
   "id": "099dda3c",
   "metadata": {
    "execution": {
     "iopub.execute_input": "2022-05-25T06:37:55.771149Z",
     "iopub.status.busy": "2022-05-25T06:37:55.770830Z",
     "iopub.status.idle": "2022-05-25T06:37:55.774704Z",
     "shell.execute_reply": "2022-05-25T06:37:55.773661Z"
    },
    "papermill": {
     "duration": 0.026805,
     "end_time": "2022-05-25T06:37:55.776964",
     "exception": false,
     "start_time": "2022-05-25T06:37:55.750159",
     "status": "completed"
    },
    "tags": []
   },
   "outputs": [],
   "source": [
    "# res = pd.read_csv('/kaggle/working/submission.csv')\n",
    "# len(res.Rank.unique())"
   ]
  },
  {
   "cell_type": "code",
   "execution_count": 13,
   "id": "830b053e",
   "metadata": {
    "execution": {
     "iopub.execute_input": "2022-05-25T06:37:55.816398Z",
     "iopub.status.busy": "2022-05-25T06:37:55.816075Z",
     "iopub.status.idle": "2022-05-25T06:37:55.822168Z",
     "shell.execute_reply": "2022-05-25T06:37:55.821069Z"
    },
    "papermill": {
     "duration": 0.028315,
     "end_time": "2022-05-25T06:37:55.824393",
     "exception": false,
     "start_time": "2022-05-25T06:37:55.796078",
     "status": "completed"
    },
    "tags": []
   },
   "outputs": [],
   "source": [
    "# res"
   ]
  },
  {
   "cell_type": "code",
   "execution_count": 14,
   "id": "5eedd855",
   "metadata": {
    "execution": {
     "iopub.execute_input": "2022-05-25T06:37:55.863397Z",
     "iopub.status.busy": "2022-05-25T06:37:55.863132Z",
     "iopub.status.idle": "2022-05-25T06:37:55.868519Z",
     "shell.execute_reply": "2022-05-25T06:37:55.867582Z"
    },
    "papermill": {
     "duration": 0.02739,
     "end_time": "2022-05-25T06:37:55.870652",
     "exception": false,
     "start_time": "2022-05-25T06:37:55.843262",
     "status": "completed"
    },
    "tags": []
   },
   "outputs": [],
   "source": [
    "# res[res.Date=='2021-12-06']['Rank'].max()"
   ]
  },
  {
   "cell_type": "code",
   "execution_count": null,
   "id": "c222c433",
   "metadata": {
    "papermill": {
     "duration": 0.017996,
     "end_time": "2022-05-25T06:37:55.906990",
     "exception": false,
     "start_time": "2022-05-25T06:37:55.888994",
     "status": "completed"
    },
    "tags": []
   },
   "outputs": [],
   "source": []
  }
 ],
 "metadata": {
  "kernelspec": {
   "display_name": "Python 3",
   "language": "python",
   "name": "python3"
  },
  "language_info": {
   "codemirror_mode": {
    "name": "ipython",
    "version": 3
   },
   "file_extension": ".py",
   "mimetype": "text/x-python",
   "name": "python",
   "nbconvert_exporter": "python",
   "pygments_lexer": "ipython3",
   "version": "3.7.12"
  },
  "papermill": {
   "default_parameters": {},
   "duration": 31.094873,
   "end_time": "2022-05-25T06:37:56.848354",
   "environment_variables": {},
   "exception": null,
   "input_path": "__notebook__.ipynb",
   "output_path": "__notebook__.ipynb",
   "parameters": {},
   "start_time": "2022-05-25T06:37:25.753481",
   "version": "2.3.4"
  }
 },
 "nbformat": 4,
 "nbformat_minor": 5
}
