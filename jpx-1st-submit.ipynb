{
 "cells": [
  {
   "cell_type": "code",
   "execution_count": 1,
   "id": "45ff69f8",
   "metadata": {
    "_cell_guid": "b1076dfc-b9ad-4769-8c92-a6c4dae69d19",
    "_uuid": "8f2839f25d086af736a60e9eeb907d3b93b6e0e5",
    "execution": {
     "iopub.execute_input": "2022-05-25T07:11:34.083941Z",
     "iopub.status.busy": "2022-05-25T07:11:34.083369Z",
     "iopub.status.idle": "2022-05-25T07:11:34.094056Z",
     "shell.execute_reply": "2022-05-25T07:11:34.093079Z"
    },
    "papermill": {
     "duration": 0.030451,
     "end_time": "2022-05-25T07:11:34.096405",
     "exception": false,
     "start_time": "2022-05-25T07:11:34.065954",
     "status": "completed"
    },
    "tags": []
   },
   "outputs": [],
   "source": [
    "# This Python 3 environment comes with many helpful analytics libraries installed\n",
    "# It is defined by the kaggle/python Docker image: https://github.com/kaggle/docker-python\n",
    "# For example, here's several helpful packages to load\n",
    "\n",
    "import numpy as np # linear algebra\n",
    "import pandas as pd # data processing, CSV file I/O (e.g. pd.read_csv)\n",
    "\n",
    "# Input data files are available in the read-only \"../input/\" directory\n",
    "# For example, running this (by clicking run or pressing Shift+Enter) will list all files under the input directory\n",
    "\n",
    "import os\n",
    "# for dirname, _, filenames in os.walk('/kaggle/input'):\n",
    "#     for filename in filenames:\n",
    "#         print(os.path.join(dirname, filename))\n",
    "\n",
    "# You can write up to 20GB to the current directory (/kaggle/working/) that gets preserved as output when you create a version using \"Save & Run All\" \n",
    "# You can also write temporary files to /kaggle/temp/, but they won't be saved outside of the current session"
   ]
  },
  {
   "cell_type": "markdown",
   "id": "0050e381",
   "metadata": {
    "papermill": {
     "duration": 0.014627,
     "end_time": "2022-05-25T07:11:34.126472",
     "exception": false,
     "start_time": "2022-05-25T07:11:34.111845",
     "status": "completed"
    },
    "tags": []
   },
   "source": [
    "## EDA + 1st submit"
   ]
  },
  {
   "cell_type": "code",
   "execution_count": 2,
   "id": "48659677",
   "metadata": {
    "execution": {
     "iopub.execute_input": "2022-05-25T07:11:34.156521Z",
     "iopub.status.busy": "2022-05-25T07:11:34.156213Z",
     "iopub.status.idle": "2022-05-25T07:11:36.242176Z",
     "shell.execute_reply": "2022-05-25T07:11:36.241282Z"
    },
    "papermill": {
     "duration": 2.10417,
     "end_time": "2022-05-25T07:11:36.244948",
     "exception": false,
     "start_time": "2022-05-25T07:11:34.140778",
     "status": "completed"
    },
    "tags": []
   },
   "outputs": [
    {
     "data": {
      "text/html": [
       "<style type='text/css'>\n",
       ".datatable table.frame { margin-bottom: 0; }\n",
       ".datatable table.frame thead { border-bottom: none; }\n",
       ".datatable table.frame tr.coltypes td {  color: #FFFFFF;  line-height: 6px;  padding: 0 0.5em;}\n",
       ".datatable .bool    { background: #DDDD99; }\n",
       ".datatable .object  { background: #565656; }\n",
       ".datatable .int     { background: #5D9E5D; }\n",
       ".datatable .float   { background: #4040CC; }\n",
       ".datatable .str     { background: #CC4040; }\n",
       ".datatable .time    { background: #40CC40; }\n",
       ".datatable .row_index {  background: var(--jp-border-color3);  border-right: 1px solid var(--jp-border-color0);  color: var(--jp-ui-font-color3);  font-size: 9px;}\n",
       ".datatable .frame tbody td { text-align: left; }\n",
       ".datatable .frame tr.coltypes .row_index {  background: var(--jp-border-color0);}\n",
       ".datatable th:nth-child(2) { padding-left: 12px; }\n",
       ".datatable .hellipsis {  color: var(--jp-cell-editor-border-color);}\n",
       ".datatable .vellipsis {  background: var(--jp-layout-color0);  color: var(--jp-cell-editor-border-color);}\n",
       ".datatable .na {  color: var(--jp-cell-editor-border-color);  font-size: 80%;}\n",
       ".datatable .sp {  opacity: 0.25;}\n",
       ".datatable .footer { font-size: 9px; }\n",
       ".datatable .frame_dimensions {  background: var(--jp-border-color3);  border-top: 1px solid var(--jp-border-color0);  color: var(--jp-ui-font-color3);  display: inline-block;  opacity: 0.6;  padding: 1px 10px 1px 5px;}\n",
       "</style>\n"
      ],
      "text/plain": [
       "<IPython.core.display.HTML object>"
      ]
     },
     "metadata": {},
     "output_type": "display_data"
    }
   ],
   "source": [
    "import matplotlib.pyplot as plt\n",
    "from lightgbm import LGBMRegressor\n",
    "from sklearn.preprocessing import StandardScaler, OrdinalEncoder\n",
    "\n"
   ]
  },
  {
   "cell_type": "code",
   "execution_count": 3,
   "id": "21b6790a",
   "metadata": {
    "execution": {
     "iopub.execute_input": "2022-05-25T07:11:36.279306Z",
     "iopub.status.busy": "2022-05-25T07:11:36.279007Z",
     "iopub.status.idle": "2022-05-25T07:11:42.825267Z",
     "shell.execute_reply": "2022-05-25T07:11:42.824309Z"
    },
    "papermill": {
     "duration": 6.566265,
     "end_time": "2022-05-25T07:11:42.827850",
     "exception": false,
     "start_time": "2022-05-25T07:11:36.261585",
     "status": "completed"
    },
    "tags": []
   },
   "outputs": [],
   "source": [
    "data = pd.read_csv('/kaggle/input/jpx-tokyo-stock-exchange-prediction/train_files/stock_prices.csv')\n",
    "# display(data)"
   ]
  },
  {
   "cell_type": "code",
   "execution_count": 4,
   "id": "230d1e5b",
   "metadata": {
    "execution": {
     "iopub.execute_input": "2022-05-25T07:11:42.859997Z",
     "iopub.status.busy": "2022-05-25T07:11:42.859709Z",
     "iopub.status.idle": "2022-05-25T07:11:42.969892Z",
     "shell.execute_reply": "2022-05-25T07:11:42.968940Z"
    },
    "papermill": {
     "duration": 0.128967,
     "end_time": "2022-05-25T07:11:42.972141",
     "exception": false,
     "start_time": "2022-05-25T07:11:42.843174",
     "status": "completed"
    },
    "tags": []
   },
   "outputs": [],
   "source": [
    "# hold-out validation  2021 전후로 나눔\n",
    "# train = data[data['Date'] < '2021-01-01']\n",
    "# val = data[data['Date'] >= '2021-01-01']\n",
    "train = data.copy()\n",
    "# print(train.head(3), val.head(3))"
   ]
  },
  {
   "cell_type": "code",
   "execution_count": 5,
   "id": "7de59be4",
   "metadata": {
    "execution": {
     "iopub.execute_input": "2022-05-25T07:11:43.004372Z",
     "iopub.status.busy": "2022-05-25T07:11:43.004022Z",
     "iopub.status.idle": "2022-05-25T07:11:43.008382Z",
     "shell.execute_reply": "2022-05-25T07:11:43.007456Z"
    },
    "papermill": {
     "duration": 0.023064,
     "end_time": "2022-05-25T07:11:43.010341",
     "exception": false,
     "start_time": "2022-05-25T07:11:42.987277",
     "status": "completed"
    },
    "tags": []
   },
   "outputs": [],
   "source": [
    "# len(train), len(val)"
   ]
  },
  {
   "cell_type": "code",
   "execution_count": 6,
   "id": "b152d3e7",
   "metadata": {
    "execution": {
     "iopub.execute_input": "2022-05-25T07:11:43.042296Z",
     "iopub.status.busy": "2022-05-25T07:11:43.041977Z",
     "iopub.status.idle": "2022-05-25T07:11:43.718923Z",
     "shell.execute_reply": "2022-05-25T07:11:43.717947Z"
    },
    "papermill": {
     "duration": 0.696041,
     "end_time": "2022-05-25T07:11:43.721499",
     "exception": false,
     "start_time": "2022-05-25T07:11:43.025458",
     "status": "completed"
    },
    "tags": []
   },
   "outputs": [],
   "source": [
    "def add_features(dfc):\n",
    "    df = dfc.copy()\n",
    "    # shadows\n",
    "    df['upper_shadow'] = df['High'] - np.maximum(df['Open'], df['Close'])\n",
    "    df['lower_shadow'] = np.minimum(df['Open'], df['Close']) - df['Low']\n",
    "    \n",
    "    # lagged features\n",
    "    # 날짜 단위이므로 7일전, 30일전, 180일전, 360일전 \n",
    "    # lagged close, target (target 은 정확히 무엇? return인가)\n",
    "    \n",
    "    # lagged ema\n",
    "    df['Date'] = pd.to_datetime(df['Date'])\n",
    "    return df\n",
    "\n",
    "co_train = add_features(train)\n",
    "# co_train"
   ]
  },
  {
   "cell_type": "code",
   "execution_count": 7,
   "id": "5f03bf32",
   "metadata": {
    "execution": {
     "iopub.execute_input": "2022-05-25T07:11:43.752898Z",
     "iopub.status.busy": "2022-05-25T07:11:43.752614Z",
     "iopub.status.idle": "2022-05-25T07:11:43.756905Z",
     "shell.execute_reply": "2022-05-25T07:11:43.755779Z"
    },
    "papermill": {
     "duration": 0.022528,
     "end_time": "2022-05-25T07:11:43.759011",
     "exception": false,
     "start_time": "2022-05-25T07:11:43.736483",
     "status": "completed"
    },
    "tags": []
   },
   "outputs": [],
   "source": [
    "# 시각화\n",
    "# def code_plot(number, y='Close'):\n",
    "#     ex1 = co_train[co_train.SecuritiesCode == number]\n",
    "#     plt.plot(ex1.Date, ex1[y])\n",
    "#     plt.xlabel('Date')\n",
    "#     plt.ylabel(y)\n",
    "    \n",
    "    \n",
    "# code_plot(1301,'Target')"
   ]
  },
  {
   "cell_type": "markdown",
   "id": "db2de8a3",
   "metadata": {
    "papermill": {
     "duration": 0.014839,
     "end_time": "2022-05-25T07:11:43.788891",
     "exception": false,
     "start_time": "2022-05-25T07:11:43.774052",
     "status": "completed"
    },
    "tags": []
   },
   "source": [
    "'''\n",
    "base model - lgbm (maybe ensemble with nn?)\n",
    "features - close + lagged features + window\n",
    "\n",
    "feature 추가할것\n",
    "1. Lagged features\n",
    "2. lagged ema\n",
    "3. shadows\n",
    "\n",
    "요일, 월 정도 추가 \n",
    "ACF 적용해서 lagged 어느정도 적용하는게 좋은지 판단하기.\n",
    "\n",
    "features should be normalized - StandardScaler\n",
    "'''"
   ]
  },
  {
   "cell_type": "code",
   "execution_count": 8,
   "id": "5464714d",
   "metadata": {
    "execution": {
     "iopub.execute_input": "2022-05-25T07:11:43.821387Z",
     "iopub.status.busy": "2022-05-25T07:11:43.820364Z",
     "iopub.status.idle": "2022-05-25T07:11:45.087506Z",
     "shell.execute_reply": "2022-05-25T07:11:45.086504Z"
    },
    "papermill": {
     "duration": 1.285953,
     "end_time": "2022-05-25T07:11:45.090024",
     "exception": false,
     "start_time": "2022-05-25T07:11:43.804071",
     "status": "completed"
    },
    "tags": []
   },
   "outputs": [],
   "source": [
    "def preprocess(df, train=True):\n",
    "    dfc = df.copy()\n",
    "    \n",
    "    # remove columns - Date removed temporarily\n",
    "    dfc = dfc.drop(columns=['Date', 'RowId', 'AdjustmentFactor', 'ExpectedDividend', 'SupervisionFlag'])\n",
    "    stdsc = StandardScaler()\n",
    "    ordinal = OrdinalEncoder()\n",
    "\n",
    "    target = ['Target']\n",
    "    ord_features = ['SecuritiesCode']\n",
    "    scaled_features = ['Open', 'High', 'Low', 'Close', 'Volume', 'upper_shadow', 'lower_shadow']\n",
    "\n",
    "    date_code_ord = ordinal.fit_transform(dfc.loc[:,ord_features])\n",
    "    scaled = stdsc.fit_transform(dfc.loc[:,scaled_features])\n",
    "    dfc_scaled = pd.concat([pd.DataFrame(date_code_ord, columns=ord_features),\n",
    "                            pd.DataFrame(scaled, columns=scaled_features)], axis=1)\n",
    "    \n",
    "    if train:\n",
    "        y = dfc.loc[:,target]\n",
    "        return dfc_scaled, y\n",
    "    else:\n",
    "        return dfc_scaled\n",
    "\n",
    "X_scaled, y = preprocess(co_train)\n",
    "\n",
    "# X_scaled, y"
   ]
  },
  {
   "cell_type": "code",
   "execution_count": 9,
   "id": "eed3b084",
   "metadata": {
    "execution": {
     "iopub.execute_input": "2022-05-25T07:11:45.121664Z",
     "iopub.status.busy": "2022-05-25T07:11:45.120906Z",
     "iopub.status.idle": "2022-05-25T07:11:51.474434Z",
     "shell.execute_reply": "2022-05-25T07:11:51.473362Z"
    },
    "papermill": {
     "duration": 6.372075,
     "end_time": "2022-05-25T07:11:51.476994",
     "exception": false,
     "start_time": "2022-05-25T07:11:45.104919",
     "status": "completed"
    },
    "tags": []
   },
   "outputs": [],
   "source": [
    "# base model - lgbm \n",
    "lgb = LGBMRegressor().fit(X_scaled, y)\n"
   ]
  },
  {
   "cell_type": "code",
   "execution_count": 10,
   "id": "05587402",
   "metadata": {
    "execution": {
     "iopub.execute_input": "2022-05-25T07:11:51.510079Z",
     "iopub.status.busy": "2022-05-25T07:11:51.509813Z",
     "iopub.status.idle": "2022-05-25T07:11:51.534967Z",
     "shell.execute_reply": "2022-05-25T07:11:51.534336Z"
    },
    "papermill": {
     "duration": 0.044369,
     "end_time": "2022-05-25T07:11:51.537222",
     "exception": false,
     "start_time": "2022-05-25T07:11:51.492853",
     "status": "completed"
    },
    "tags": []
   },
   "outputs": [],
   "source": [
    "import jpx_tokyo_market_prediction\n",
    "env = jpx_tokyo_market_prediction.make_env()\n",
    "iter_test = env.iter_test()"
   ]
  },
  {
   "cell_type": "code",
   "execution_count": 11,
   "id": "96827e36",
   "metadata": {
    "execution": {
     "iopub.execute_input": "2022-05-25T07:11:51.569435Z",
     "iopub.status.busy": "2022-05-25T07:11:51.568849Z",
     "iopub.status.idle": "2022-05-25T07:11:51.845512Z",
     "shell.execute_reply": "2022-05-25T07:11:51.844805Z"
    },
    "papermill": {
     "duration": 0.295334,
     "end_time": "2022-05-25T07:11:51.847826",
     "exception": false,
     "start_time": "2022-05-25T07:11:51.552492",
     "status": "completed"
    },
    "tags": []
   },
   "outputs": [
    {
     "name": "stdout",
     "output_type": "stream",
     "text": [
      "This version of the API is not optimized and should not be used to estimate the runtime of your code on the hidden test set.\n"
     ]
    }
   ],
   "source": [
    "for (prices, options, financials, trades, secondary_prices, sample_prediction) in iter_test:\n",
    "    feat = add_features(prices)\n",
    "    X = preprocess(feat, train=False)\n",
    "\n",
    "    # X, y\n",
    "    X['Target'] = lgb.predict(X)\n",
    "    X['Rank'] = (X['Target'].rank(method='first', ascending=False)-1).astype(int)\n",
    "    sample_prediction['Rank'] = X['Rank'].values\n",
    "#     display(sample_prediction)\n",
    "    env.predict(sample_prediction)"
   ]
  },
  {
   "cell_type": "code",
   "execution_count": null,
   "id": "59e2b9fe",
   "metadata": {
    "papermill": {
     "duration": 0.015873,
     "end_time": "2022-05-25T07:11:51.880618",
     "exception": false,
     "start_time": "2022-05-25T07:11:51.864745",
     "status": "completed"
    },
    "tags": []
   },
   "outputs": [],
   "source": []
  }
 ],
 "metadata": {
  "kernelspec": {
   "display_name": "Python 3",
   "language": "python",
   "name": "python3"
  },
  "language_info": {
   "codemirror_mode": {
    "name": "ipython",
    "version": 3
   },
   "file_extension": ".py",
   "mimetype": "text/x-python",
   "name": "python",
   "nbconvert_exporter": "python",
   "pygments_lexer": "ipython3",
   "version": "3.7.12"
  },
  "papermill": {
   "default_parameters": {},
   "duration": 28.786023,
   "end_time": "2022-05-25T07:11:52.817778",
   "environment_variables": {},
   "exception": null,
   "input_path": "__notebook__.ipynb",
   "output_path": "__notebook__.ipynb",
   "parameters": {},
   "start_time": "2022-05-25T07:11:24.031755",
   "version": "2.3.4"
  }
 },
 "nbformat": 4,
 "nbformat_minor": 5
}
