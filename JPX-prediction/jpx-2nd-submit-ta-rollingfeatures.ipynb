{
 "cells": [
  {
   "cell_type": "code",
   "execution_count": 1,
   "id": "1a2b31d6",
   "metadata": {
    "_cell_guid": "b1076dfc-b9ad-4769-8c92-a6c4dae69d19",
    "_uuid": "8f2839f25d086af736a60e9eeb907d3b93b6e0e5",
    "execution": {
     "iopub.execute_input": "2022-06-09T05:16:17.763697Z",
     "iopub.status.busy": "2022-06-09T05:16:17.762797Z",
     "iopub.status.idle": "2022-06-09T05:16:17.774068Z",
     "shell.execute_reply": "2022-06-09T05:16:17.773288Z"
    },
    "papermill": {
     "duration": 0.02492,
     "end_time": "2022-06-09T05:16:17.776204",
     "exception": false,
     "start_time": "2022-06-09T05:16:17.751284",
     "status": "completed"
    },
    "tags": []
   },
   "outputs": [],
   "source": [
    "# This Python 3 environment comes with many helpful analytics libraries installed\n",
    "# It is defined by the kaggle/python Docker image: https://github.com/kaggle/docker-python\n",
    "# For example, here's several helpful packages to load\n",
    "\n",
    "import numpy as np # linear algebra\n",
    "import pandas as pd # data processing, CSV file I/O (e.g. pd.read_csv)\n",
    "\n",
    "# Input data files are available in the read-only \"../input/\" directory\n",
    "# For example, running this (by clicking run or pressing Shift+Enter) will list all files under the input directory\n",
    "\n",
    "import os\n",
    "# for dirname, _, filenames in os.walk('/kaggle/input'):\n",
    "#     for filename in filenames:\n",
    "#         print(os.path.join(dirname, filename))\n",
    "\n",
    "# You can write up to 20GB to the current directory (/kaggle/working/) that gets preserved as output when you create a version using \"Save & Run All\" \n",
    "# You can also write temporary files to /kaggle/temp/, but they won't be saved outside of the current session"
   ]
  },
  {
   "cell_type": "code",
   "execution_count": 2,
   "id": "421278a4",
   "metadata": {
    "execution": {
     "iopub.execute_input": "2022-06-09T05:16:17.786958Z",
     "iopub.status.busy": "2022-06-09T05:16:17.786327Z",
     "iopub.status.idle": "2022-06-09T05:16:48.593002Z",
     "shell.execute_reply": "2022-06-09T05:16:48.592002Z"
    },
    "papermill": {
     "duration": 30.814232,
     "end_time": "2022-06-09T05:16:48.595071",
     "exception": false,
     "start_time": "2022-06-09T05:16:17.780839",
     "status": "completed"
    },
    "tags": []
   },
   "outputs": [
    {
     "name": "stdout",
     "output_type": "stream",
     "text": [
      "Processing /kaggle/input/talib-package/talib_binary-0.4.19-cp37-cp37m-manylinux1_x86_64.whl\r\n",
      "Requirement already satisfied: numpy in /opt/conda/lib/python3.7/site-packages (from talib-binary==0.4.19) (1.21.6)\r\n",
      "Installing collected packages: talib-binary\r\n",
      "Successfully installed talib-binary-0.4.19\r\n",
      "\u001b[33mWARNING: Running pip as the 'root' user can result in broken permissions and conflicting behaviour with the system package manager. It is recommended to use a virtual environment instead: https://pip.pypa.io/warnings/venv\u001b[0m\u001b[33m\r\n",
      "\u001b[0m\u001b[33mWARNING: There was an error checking the latest version of pip.\u001b[0m\u001b[33m\r\n",
      "\u001b[0m"
     ]
    }
   ],
   "source": [
    "!pip install ../input/talib-package/talib_binary-0.4.19-cp37-cp37m-manylinux1_x86_64.whl\n",
    "import talib as ta "
   ]
  },
  {
   "cell_type": "code",
   "execution_count": 3,
   "id": "0438a401",
   "metadata": {
    "execution": {
     "iopub.execute_input": "2022-06-09T05:16:48.606894Z",
     "iopub.status.busy": "2022-06-09T05:16:48.605983Z",
     "iopub.status.idle": "2022-06-09T05:16:51.442545Z",
     "shell.execute_reply": "2022-06-09T05:16:51.441482Z"
    },
    "papermill": {
     "duration": 2.844838,
     "end_time": "2022-06-09T05:16:51.444817",
     "exception": false,
     "start_time": "2022-06-09T05:16:48.599979",
     "status": "completed"
    },
    "tags": []
   },
   "outputs": [
    {
     "data": {
      "text/html": [
       "<style type='text/css'>\n",
       ".datatable table.frame { margin-bottom: 0; }\n",
       ".datatable table.frame thead { border-bottom: none; }\n",
       ".datatable table.frame tr.coltypes td {  color: #FFFFFF;  line-height: 6px;  padding: 0 0.5em;}\n",
       ".datatable .bool    { background: #DDDD99; }\n",
       ".datatable .object  { background: #565656; }\n",
       ".datatable .int     { background: #5D9E5D; }\n",
       ".datatable .float   { background: #4040CC; }\n",
       ".datatable .str     { background: #CC4040; }\n",
       ".datatable .time    { background: #40CC40; }\n",
       ".datatable .row_index {  background: var(--jp-border-color3);  border-right: 1px solid var(--jp-border-color0);  color: var(--jp-ui-font-color3);  font-size: 9px;}\n",
       ".datatable .frame tbody td { text-align: left; }\n",
       ".datatable .frame tr.coltypes .row_index {  background: var(--jp-border-color0);}\n",
       ".datatable th:nth-child(2) { padding-left: 12px; }\n",
       ".datatable .hellipsis {  color: var(--jp-cell-editor-border-color);}\n",
       ".datatable .vellipsis {  background: var(--jp-layout-color0);  color: var(--jp-cell-editor-border-color);}\n",
       ".datatable .na {  color: var(--jp-cell-editor-border-color);  font-size: 80%;}\n",
       ".datatable .sp {  opacity: 0.25;}\n",
       ".datatable .footer { font-size: 9px; }\n",
       ".datatable .frame_dimensions {  background: var(--jp-border-color3);  border-top: 1px solid var(--jp-border-color0);  color: var(--jp-ui-font-color3);  display: inline-block;  opacity: 0.6;  padding: 1px 10px 1px 5px;}\n",
       "</style>\n"
      ],
      "text/plain": [
       "<IPython.core.display.HTML object>"
      ]
     },
     "metadata": {},
     "output_type": "display_data"
    }
   ],
   "source": [
    "import matplotlib.pyplot as plt\n",
    "from lightgbm import LGBMRegressor\n",
    "from sklearn.preprocessing import StandardScaler, OrdinalEncoder, MinMaxScaler\n",
    "import missingno as msno\n",
    "\n",
    "import statsmodels.api as sm\n",
    "from pylab import rcParams\n",
    "\n",
    "from tqdm import tqdm\n",
    "\n",
    "# import ta\n",
    "from talib import abstract\n",
    "\n",
    "\n",
    "import time\n",
    "\n"
   ]
  },
  {
   "cell_type": "code",
   "execution_count": 4,
   "id": "ccab80b4",
   "metadata": {
    "execution": {
     "iopub.execute_input": "2022-06-09T05:16:51.456305Z",
     "iopub.status.busy": "2022-06-09T05:16:51.455888Z",
     "iopub.status.idle": "2022-06-09T05:16:58.480916Z",
     "shell.execute_reply": "2022-06-09T05:16:58.479922Z"
    },
    "papermill": {
     "duration": 7.033485,
     "end_time": "2022-06-09T05:16:58.483314",
     "exception": false,
     "start_time": "2022-06-09T05:16:51.449829",
     "status": "completed"
    },
    "tags": []
   },
   "outputs": [],
   "source": [
    "data = pd.read_csv('/kaggle/input/jpx-tokyo-stock-exchange-prediction/train_files/stock_prices.csv')\n",
    "# display(data)\n",
    "train = data.copy()\n",
    "\n",
    "# using supplement data as test data\n",
    "supp_data = pd.read_csv('/kaggle/input/jpx-tokyo-stock-exchange-prediction/supplemental_files/stock_prices.csv')\n",
    "\n",
    "train_with_supp = pd.concat([train, supp_data]).reset_index(drop=True)\n",
    "# train_with_supp\n"
   ]
  },
  {
   "cell_type": "code",
   "execution_count": 5,
   "id": "d72555cf",
   "metadata": {
    "execution": {
     "iopub.execute_input": "2022-06-09T05:16:58.494832Z",
     "iopub.status.busy": "2022-06-09T05:16:58.494108Z",
     "iopub.status.idle": "2022-06-09T05:16:58.498016Z",
     "shell.execute_reply": "2022-06-09T05:16:58.497069Z"
    },
    "papermill": {
     "duration": 0.011415,
     "end_time": "2022-06-09T05:16:58.499809",
     "exception": false,
     "start_time": "2022-06-09T05:16:58.488394",
     "status": "completed"
    },
    "tags": []
   },
   "outputs": [],
   "source": [
    "# def time_elapsed(t0):\n",
    "#     t1 = time.time()\n",
    "#     print(time.time() - t0)\n",
    "#     return t1"
   ]
  },
  {
   "cell_type": "markdown",
   "id": "477b7abc",
   "metadata": {
    "papermill": {
     "duration": 0.004332,
     "end_time": "2022-06-09T05:16:58.508917",
     "exception": false,
     "start_time": "2022-06-09T05:16:58.504585",
     "status": "completed"
    },
    "tags": []
   },
   "source": [
    "SecuritiesCode 에 따라 인덱싱하는 것이 시간 소요가 너무 크다.  \n",
    "미리 Data를 종목마다 쪼개서 넣어 놓는게 좋겠다. - > 리스트 활용"
   ]
  },
  {
   "cell_type": "code",
   "execution_count": 6,
   "id": "21f974ff",
   "metadata": {
    "execution": {
     "iopub.execute_input": "2022-06-09T05:16:58.520155Z",
     "iopub.status.busy": "2022-06-09T05:16:58.519073Z",
     "iopub.status.idle": "2022-06-09T05:17:09.449427Z",
     "shell.execute_reply": "2022-06-09T05:17:09.447057Z"
    },
    "papermill": {
     "duration": 10.938564,
     "end_time": "2022-06-09T05:17:09.452068",
     "exception": false,
     "start_time": "2022-06-09T05:16:58.513504",
     "status": "completed"
    },
    "tags": []
   },
   "outputs": [
    {
     "name": "stdout",
     "output_type": "stream",
     "text": [
      "Divide securities individually..\n"
     ]
    },
    {
     "name": "stderr",
     "output_type": "stream",
     "text": [
      "100%|██████████| 2000/2000 [00:10<00:00, 183.64it/s]\n"
     ]
    }
   ],
   "source": [
    "def divideSecurities(df):\n",
    "    sec_list = []\n",
    "    print('Divide securities individually..')\n",
    "    for code in tqdm(np.sort(df.SecuritiesCode.unique())):\n",
    "        sec_list.append(df.loc[df.SecuritiesCode == code, :].reset_index(drop=True))\n",
    "    return sec_list\n",
    "\n",
    "sec_list = divideSecurities(train_with_supp)"
   ]
  },
  {
   "cell_type": "code",
   "execution_count": 7,
   "id": "332bd0dd",
   "metadata": {
    "execution": {
     "iopub.execute_input": "2022-06-09T05:17:09.491074Z",
     "iopub.status.busy": "2022-06-09T05:17:09.490305Z",
     "iopub.status.idle": "2022-06-09T05:17:09.501468Z",
     "shell.execute_reply": "2022-06-09T05:17:09.500651Z"
    },
    "papermill": {
     "duration": 0.032671,
     "end_time": "2022-06-09T05:17:09.504188",
     "exception": false,
     "start_time": "2022-06-09T05:17:09.471517",
     "status": "completed"
    },
    "tags": []
   },
   "outputs": [],
   "source": [
    "t2 = time.time()\n",
    "def add_features_train(input_df, sec_list):\n",
    "    df_list = []\n",
    "    for df in tqdm(sec_list):\n",
    "        \n",
    "        # shadows\n",
    "        df['upper_shadow'] = df['High'] - np.maximum(df['Open'], df['Close'])\n",
    "        df['lower_shadow'] = np.minimum(df['Open'], df['Close']) - df['Low']\n",
    "        \n",
    "\n",
    "        \n",
    "        # lagged features\n",
    "        # 날짜 단위이므로 7일전, 30일전, 180일전, 360일전 \n",
    "        # lagged close, target (target 은 정확히 무엇? return인가)\n",
    "        \n",
    "        # lagged feature 계산하기 전 결측치 채워넣기\n",
    "        df = df.fillna(method='ffill')\n",
    "        \n",
    "\n",
    "        \n",
    "        # TA-lib features - RSI, EMA 7-90\n",
    "        df['RSI'] = ta.RSI(df['Close'])\n",
    "        df['EMA7'] = ta.EMA(df['Close'], 7)\n",
    "        df['EMA15'] = ta.EMA(df['Close'], 15)\n",
    "        df['EMA30'] = ta.EMA(df['Close'], 30)\n",
    "        df['EMA90'] = ta.EMA(df['Close'], 90)\n",
    "        \n",
    "\n",
    "        \n",
    "#         for indicator in ta.get_function_groups()['Pattern Recognition']:\n",
    "#             df[str(indicator)] = getattr(ta,str(indicator))(df.Open, df.High, df.Low, df.Close)\n",
    "\n",
    "\n",
    "        # fill ema features by backward -- 이렇게 채워진 것은 false data 이므로 일단 test 해보고 없애는 것을 검토하자.\n",
    "        df = df.fillna(method='bfill')\n",
    "\n",
    "    \n",
    "        # volatility\n",
    "        \n",
    "        df_list.append(df)\n",
    "\n",
    "        \n",
    "    df_feature_added = pd.concat(df_list)\n",
    "    \n",
    "    return df_feature_added\n"
   ]
  },
  {
   "cell_type": "code",
   "execution_count": 8,
   "id": "b82641d6",
   "metadata": {
    "execution": {
     "iopub.execute_input": "2022-06-09T05:17:09.532389Z",
     "iopub.status.busy": "2022-06-09T05:17:09.532013Z",
     "iopub.status.idle": "2022-06-09T05:17:24.960320Z",
     "shell.execute_reply": "2022-06-09T05:17:24.959309Z"
    },
    "papermill": {
     "duration": 15.443655,
     "end_time": "2022-06-09T05:17:24.964364",
     "exception": false,
     "start_time": "2022-06-09T05:17:09.520709",
     "status": "completed"
    },
    "tags": []
   },
   "outputs": [
    {
     "name": "stderr",
     "output_type": "stream",
     "text": [
      "100%|██████████| 2000/2000 [00:13<00:00, 150.02it/s]\n"
     ]
    }
   ],
   "source": [
    "# add feature to data\n",
    "\n",
    "df_added = add_features_train(train_with_supp, sec_list)\n",
    "# df_added.to_csv('train_with_supp_feature_added.csv', index=False)\n",
    "\n",
    "# load data\n",
    "# df_added = pd.read_csv('/kaggle/input/train-with-supp-feature-added-v1-all-cdl/train_with_supp_feature_added.csv')\n",
    "\n",
    "# df_added"
   ]
  },
  {
   "cell_type": "code",
   "execution_count": 9,
   "id": "ffb60240",
   "metadata": {
    "execution": {
     "iopub.execute_input": "2022-06-09T05:17:24.997616Z",
     "iopub.status.busy": "2022-06-09T05:17:24.996862Z",
     "iopub.status.idle": "2022-06-09T05:17:25.008882Z",
     "shell.execute_reply": "2022-06-09T05:17:25.008113Z"
    },
    "papermill": {
     "duration": 0.030438,
     "end_time": "2022-06-09T05:17:25.010780",
     "exception": false,
     "start_time": "2022-06-09T05:17:24.980342",
     "status": "completed"
    },
    "tags": []
   },
   "outputs": [],
   "source": [
    "def add_features_infer(input_df, close_df): #input df 는 price 데이터\n",
    "    df_list = []\n",
    "    sec_list = divideSecurities(input_df)\n",
    "    close_list = divideSecurities(close_df)\n",
    "    for i in range(len(sec_list)):\n",
    "        close = close_list[i] #.loc[close_df.SecuritiesCode == code, :].fillna(method='ffill')\n",
    "        df = sec_list[i]\n",
    "#         # test data의 open, high, low, close 중 nan 있으면 이전 값에서 가져와 채움\n",
    "        if df.loc[:, ['Open', 'High', 'Low', 'Close']].isna().any().any():\n",
    "#             display(df)\n",
    "#             display(close)\n",
    "# #             print(close.iloc[-2]['Open', 'High', 'Low', 'Close'].values())\n",
    "            df.loc[:, ['Open', 'High', 'Low', 'Close']] = close.loc[close['Date'] == close.iloc[-1]['Date'], ['Open', 'High', 'Low', 'Close']].values \n",
    "            \n",
    "        \n",
    "\n",
    "        \n",
    "        # shadows\n",
    "        df['upper_shadow'] = df['High'] - np.maximum(df['Open'], df['Close'])\n",
    "        df['lower_shadow'] = np.minimum(df['Open'], df['Close']) - df['Low']\n",
    "\n",
    "        # lagged features\n",
    "        # 날짜 단위이므로 7일전, 30일전, 180일전, 360일전 \n",
    "        # lagged close, target (target 은 정확히 무엇? return인가)\n",
    "        \n",
    "        ## Rolling features ##\n",
    "        \n",
    "        \n",
    "        # TA-lib features - RSI, EMA 7-90\n",
    "        df['RSI'] = ta.RSI(close['Close']).iloc[-1]\n",
    "        df['EMA7'] = ta.EMA(close['Close'], 7).iloc[-1]\n",
    "        df['EMA15'] = ta.EMA(close['Close'], 15).iloc[-1]\n",
    "        df['EMA30'] = ta.EMA(close['Close'], 30).iloc[-1]\n",
    "        df['EMA90'] = ta.EMA(close['Close'], 90).iloc[-1]\n",
    "\n",
    "        \n",
    "#         for indicator in ta.get_function_groups()['Pattern Recognition']:\n",
    "#             df[str(indicator)] = getattr(ta,str(indicator))(df.Open, df.High, df.Low, df.Close)\n",
    "\n",
    "\n",
    "        # volatility\n",
    "        \n",
    "        df_list.append(df)\n",
    "        \n",
    "    df_feature_added = pd.concat(df_list)\n",
    "    \n",
    "    return df_feature_added\n",
    "\n"
   ]
  },
  {
   "cell_type": "code",
   "execution_count": 10,
   "id": "2342e008",
   "metadata": {
    "execution": {
     "iopub.execute_input": "2022-06-09T05:17:25.050191Z",
     "iopub.status.busy": "2022-06-09T05:17:25.049166Z",
     "iopub.status.idle": "2022-06-09T05:17:27.459867Z",
     "shell.execute_reply": "2022-06-09T05:17:27.459027Z"
    },
    "papermill": {
     "duration": 2.432373,
     "end_time": "2022-06-09T05:17:27.461908",
     "exception": false,
     "start_time": "2022-06-09T05:17:25.029535",
     "status": "completed"
    },
    "tags": []
   },
   "outputs": [],
   "source": [
    "def preprocess_train(df):\n",
    "    \n",
    "    # remove columns - Date removed temporarily\n",
    "    dfc = df.drop(columns=['RowId', 'AdjustmentFactor', 'ExpectedDividend', 'SupervisionFlag'])\n",
    "    \n",
    "    \n",
    "#     minmax = MinMaxScaler()\n",
    "    stdsc = StandardScaler()\n",
    "    ordinal = OrdinalEncoder()\n",
    "\n",
    "    target = ['Target']\n",
    "#     minmax_features = ['Date']\n",
    "    ord_features = ['Date', 'SecuritiesCode'] \n",
    "    scaled_features = ['Open', 'High', 'Low', 'Close', 'Volume', 'upper_shadow', 'lower_shadow',\n",
    "                      'RSI', 'EMA7', 'EMA15', 'EMA30', 'EMA90'] #+ [c for c in df.columns if c.startswith('CDL')] # pattern recognition features\n",
    "    \n",
    "#     date_scaled = minmax.fit_transform(dfc.loc[:,minmax_features])\n",
    "    date_code_ord = ordinal.fit_transform(dfc.loc[:,ord_features])\n",
    "    scaled = stdsc.fit_transform(dfc.loc[:,scaled_features])\n",
    "    \n",
    "#     display(pd.DataFrame(date_code_ord, columns=ord_features))\n",
    "#     display(pd.DataFrame(scaled, columns=scaled_features))\n",
    "    \n",
    "    \n",
    "    dfc_scaled = pd.concat([# pd.DataFrame(date_scaled, columns=minmax_features),\n",
    "                            pd.DataFrame(date_code_ord, columns=ord_features),\n",
    "                            pd.DataFrame(scaled, columns=scaled_features)], axis=1)\n",
    "\n",
    "    y = dfc.loc[:,target]\n",
    "    return dfc_scaled, y, [ordinal, stdsc]\n",
    "    \n",
    "\n",
    "X_scaled, y, trained_scalers = preprocess_train(df_added)  # 2021-12-06부터 test 시작이므로 그 전까지만 이용한다.\n",
    "\n",
    "# X_scaled"
   ]
  },
  {
   "cell_type": "code",
   "execution_count": 11,
   "id": "67c7dbc2",
   "metadata": {
    "execution": {
     "iopub.execute_input": "2022-06-09T05:17:27.494694Z",
     "iopub.status.busy": "2022-06-09T05:17:27.494271Z",
     "iopub.status.idle": "2022-06-09T05:17:27.501547Z",
     "shell.execute_reply": "2022-06-09T05:17:27.500595Z"
    },
    "papermill": {
     "duration": 0.026114,
     "end_time": "2022-06-09T05:17:27.503630",
     "exception": false,
     "start_time": "2022-06-09T05:17:27.477516",
     "status": "completed"
    },
    "tags": []
   },
   "outputs": [],
   "source": [
    "def preprocess_inference(df, trained_scalers: list):\n",
    "    ordinal = trained_scalers[0]\n",
    "    stdsc = trained_scalers[1]\n",
    "    \n",
    "      \n",
    "    # remove columns - Date removed temporarily\n",
    "    dfc = df.drop(columns=['RowId', 'AdjustmentFactor', 'ExpectedDividend', 'SupervisionFlag'])\n",
    "    \n",
    "    \n",
    "    target = ['Target']\n",
    "    ord_features = ['Date', 'SecuritiesCode'] \n",
    "    scaled_features = ['Open', 'High', 'Low', 'Close', 'Volume', 'upper_shadow', 'lower_shadow',\n",
    "                      'RSI', 'EMA7', 'EMA15', 'EMA30', 'EMA90'] #+ [c for c in df.columns if c.startswith('CDL')] # pattern recognition features\n",
    "    \n",
    "    \n",
    "    date_code_ord = ordinal.transform(dfc.loc[:,ord_features])\n",
    "    scaled = stdsc.transform(dfc.loc[:,scaled_features])\n",
    "    dfc_scaled = pd.concat([pd.DataFrame(date_code_ord, columns=ord_features),\n",
    "                            pd.DataFrame(scaled, columns=scaled_features)], axis=1)\n",
    "\n",
    "    \n",
    "    return dfc_scaled\n",
    "    \n",
    "\n",
    "# X_test_scaled = preprocess_train(df_added, trained_scalers)\n",
    "\n",
    "# X_test_scaled"
   ]
  },
  {
   "cell_type": "code",
   "execution_count": 12,
   "id": "701eea48",
   "metadata": {
    "execution": {
     "iopub.execute_input": "2022-06-09T05:17:27.538182Z",
     "iopub.status.busy": "2022-06-09T05:17:27.537575Z",
     "iopub.status.idle": "2022-06-09T05:17:36.707285Z",
     "shell.execute_reply": "2022-06-09T05:17:36.706304Z"
    },
    "papermill": {
     "duration": 9.190407,
     "end_time": "2022-06-09T05:17:36.709661",
     "exception": false,
     "start_time": "2022-06-09T05:17:27.519254",
     "status": "completed"
    },
    "tags": []
   },
   "outputs": [],
   "source": [
    "# base model - lgbm \n",
    "lgb = LGBMRegressor().fit(X_scaled, y)\n",
    "\n"
   ]
  },
  {
   "cell_type": "code",
   "execution_count": 13,
   "id": "5c9f823f",
   "metadata": {
    "execution": {
     "iopub.execute_input": "2022-06-09T05:17:36.742445Z",
     "iopub.status.busy": "2022-06-09T05:17:36.742030Z",
     "iopub.status.idle": "2022-06-09T05:17:36.771473Z",
     "shell.execute_reply": "2022-06-09T05:17:36.769495Z"
    },
    "papermill": {
     "duration": 0.048923,
     "end_time": "2022-06-09T05:17:36.774248",
     "exception": false,
     "start_time": "2022-06-09T05:17:36.725325",
     "status": "completed"
    },
    "tags": []
   },
   "outputs": [],
   "source": [
    "import jpx_tokyo_market_prediction\n",
    "env = jpx_tokyo_market_prediction.make_env()\n",
    "iter_test = env.iter_test()"
   ]
  },
  {
   "cell_type": "code",
   "execution_count": null,
   "id": "ae91bbe9",
   "metadata": {
    "papermill": {
     "duration": 0.016035,
     "end_time": "2022-06-09T05:17:36.806984",
     "exception": false,
     "start_time": "2022-06-09T05:17:36.790949",
     "status": "completed"
    },
    "tags": []
   },
   "outputs": [],
   "source": []
  },
  {
   "cell_type": "markdown",
   "id": "4c5b57ce",
   "metadata": {
    "papermill": {
     "duration": 0.01508,
     "end_time": "2022-06-09T05:17:36.837726",
     "exception": false,
     "start_time": "2022-06-09T05:17:36.822646",
     "status": "completed"
    },
    "tags": []
   },
   "source": [
    "pd.to_datetime 최소한도로 쓸것. 연산 cost가 너무 큼. 특히 inference 단계에서는 쓰지 않기."
   ]
  },
  {
   "cell_type": "code",
   "execution_count": 14,
   "id": "436dabaf",
   "metadata": {
    "execution": {
     "iopub.execute_input": "2022-06-09T05:17:36.869950Z",
     "iopub.status.busy": "2022-06-09T05:17:36.869562Z",
     "iopub.status.idle": "2022-06-09T05:17:36.873949Z",
     "shell.execute_reply": "2022-06-09T05:17:36.873037Z"
    },
    "papermill": {
     "duration": 0.022774,
     "end_time": "2022-06-09T05:17:36.875865",
     "exception": false,
     "start_time": "2022-06-09T05:17:36.853091",
     "status": "completed"
    },
    "tags": []
   },
   "outputs": [],
   "source": [
    "# 2000개 종목 리스트에서 날짜 하나씩 빼고 뒷날짜 추가 구현?\n"
   ]
  },
  {
   "cell_type": "code",
   "execution_count": 15,
   "id": "0ce55849",
   "metadata": {
    "execution": {
     "iopub.execute_input": "2022-06-09T05:17:36.908455Z",
     "iopub.status.busy": "2022-06-09T05:17:36.908045Z",
     "iopub.status.idle": "2022-06-09T05:18:04.457262Z",
     "shell.execute_reply": "2022-06-09T05:18:04.456541Z"
    },
    "papermill": {
     "duration": 27.568127,
     "end_time": "2022-06-09T05:18:04.459340",
     "exception": false,
     "start_time": "2022-06-09T05:17:36.891213",
     "status": "completed"
    },
    "tags": []
   },
   "outputs": [
    {
     "name": "stdout",
     "output_type": "stream",
     "text": [
      "This version of the API is not optimized and should not be used to estimate the runtime of your code on the hidden test set.\n",
      "Divide securities individually..\n"
     ]
    },
    {
     "name": "stderr",
     "output_type": "stream",
     "text": [
      "100%|██████████| 2000/2000 [00:00<00:00, 2035.15it/s]\n"
     ]
    },
    {
     "name": "stdout",
     "output_type": "stream",
     "text": [
      "Divide securities individually..\n"
     ]
    },
    {
     "name": "stderr",
     "output_type": "stream",
     "text": [
      "100%|██████████| 2000/2000 [00:01<00:00, 1426.78it/s]\n"
     ]
    },
    {
     "name": "stdout",
     "output_type": "stream",
     "text": [
      "Divide securities individually..\n"
     ]
    },
    {
     "name": "stderr",
     "output_type": "stream",
     "text": [
      "100%|██████████| 2000/2000 [00:00<00:00, 2033.32it/s]\n"
     ]
    },
    {
     "name": "stdout",
     "output_type": "stream",
     "text": [
      "Divide securities individually..\n"
     ]
    },
    {
     "name": "stderr",
     "output_type": "stream",
     "text": [
      "100%|██████████| 2000/2000 [00:01<00:00, 1428.23it/s]\n"
     ]
    }
   ],
   "source": [
    "for i, (prices, options, financials, trades, secondary_prices, sample_prediction) in enumerate(iter_test):\n",
    "#     t0 = time.time()\n",
    "    \n",
    "    # 이전 데이터와 합치고 최근 140일치만 이용한다\n",
    "    today = prices.Date[0]\n",
    "    lastday = str(pd.to_datetime(today) - pd.DateOffset(140))\n",
    "    \n",
    "    if i == 0:\n",
    "        close_df = pd.concat([\n",
    "            train_with_supp.loc[\n",
    "                (train_with_supp['Date'] > lastday) & (train_with_supp['Date'] < today), \n",
    "                    ['Date', 'SecuritiesCode', 'Open', 'High', 'Low', 'Close']],\n",
    "                prices.loc[:, ['Date', 'SecuritiesCode', 'Open', 'High', 'Low', 'Close']]\n",
    "            ]).reset_index(drop=True)\n",
    "        \n",
    "    else:\n",
    "        close_df = pd.concat([\n",
    "            close_df.loc[\n",
    "                (close_df['Date'] > lastday) & (close_df['Date'] < today), \n",
    "                    ['Date', 'SecuritiesCode', 'Open', 'High', 'Low', 'Close']],\n",
    "                prices.loc[:, ['Date', 'SecuritiesCode', 'Open', 'High', 'Low', 'Close']]\n",
    "            ]).reset_index(drop=True)\n",
    "        \n",
    "\n",
    "    feat = add_features_infer(prices, close_df)\n",
    "    X = preprocess_inference(feat, trained_scalers)\n",
    "\n",
    "    # X, y\n",
    "    X['Target'] = lgb.predict(X)\n",
    "    X['Rank'] = (X['Target'].rank(method='average', ascending=False)-1).astype(int)\n",
    "    sample_prediction['Rank'] = X['Rank'].values\n",
    "#     display(sample_prediction)\n",
    "    env.predict(sample_prediction)\n",
    "#     print(time.time() - t0)"
   ]
  },
  {
   "cell_type": "code",
   "execution_count": null,
   "id": "63a70b65",
   "metadata": {
    "papermill": {
     "duration": 0.018149,
     "end_time": "2022-06-09T05:18:04.497067",
     "exception": false,
     "start_time": "2022-06-09T05:18:04.478918",
     "status": "completed"
    },
    "tags": []
   },
   "outputs": [],
   "source": []
  }
 ],
 "metadata": {
  "kernelspec": {
   "display_name": "Python 3",
   "language": "python",
   "name": "python3"
  },
  "language_info": {
   "codemirror_mode": {
    "name": "ipython",
    "version": 3
   },
   "file_extension": ".py",
   "mimetype": "text/x-python",
   "name": "python",
   "nbconvert_exporter": "python",
   "pygments_lexer": "ipython3",
   "version": "3.7.12"
  },
  "papermill": {
   "default_parameters": {},
   "duration": 116.659578,
   "end_time": "2022-06-09T05:18:05.740425",
   "environment_variables": {},
   "exception": null,
   "input_path": "__notebook__.ipynb",
   "output_path": "__notebook__.ipynb",
   "parameters": {},
   "start_time": "2022-06-09T05:16:09.080847",
   "version": "2.3.4"
  }
 },
 "nbformat": 4,
 "nbformat_minor": 5
}
