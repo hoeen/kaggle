{
 "cells": [
  {
   "cell_type": "code",
   "execution_count": 1,
   "id": "c8f4905e",
   "metadata": {
    "_cell_guid": "b1076dfc-b9ad-4769-8c92-a6c4dae69d19",
    "_uuid": "8f2839f25d086af736a60e9eeb907d3b93b6e0e5",
    "execution": {
     "iopub.execute_input": "2022-06-09T05:23:44.402740Z",
     "iopub.status.busy": "2022-06-09T05:23:44.402091Z",
     "iopub.status.idle": "2022-06-09T05:23:44.410653Z",
     "shell.execute_reply": "2022-06-09T05:23:44.409894Z"
    },
    "papermill": {
     "duration": 0.019827,
     "end_time": "2022-06-09T05:23:44.412501",
     "exception": false,
     "start_time": "2022-06-09T05:23:44.392674",
     "status": "completed"
    },
    "tags": []
   },
   "outputs": [],
   "source": [
    "# This Python 3 environment comes with many helpful analytics libraries installed\n",
    "# It is defined by the kaggle/python Docker image: https://github.com/kaggle/docker-python\n",
    "# For example, here's several helpful packages to load\n",
    "\n",
    "import numpy as np # linear algebra\n",
    "import pandas as pd # data processing, CSV file I/O (e.g. pd.read_csv)\n",
    "\n",
    "# Input data files are available in the read-only \"../input/\" directory\n",
    "# For example, running this (by clicking run or pressing Shift+Enter) will list all files under the input directory\n",
    "\n",
    "import os\n",
    "# for dirname, _, filenames in os.walk('/kaggle/input'):\n",
    "#     for filename in filenames:\n",
    "#         print(os.path.join(dirname, filename))\n",
    "\n",
    "# You can write up to 20GB to the current directory (/kaggle/working/) that gets preserved as output when you create a version using \"Save & Run All\" \n",
    "# You can also write temporary files to /kaggle/temp/, but they won't be saved outside of the current session"
   ]
  },
  {
   "cell_type": "code",
   "execution_count": 2,
   "id": "bb96e361",
   "metadata": {
    "execution": {
     "iopub.execute_input": "2022-06-09T05:23:44.422461Z",
     "iopub.status.busy": "2022-06-09T05:23:44.422095Z",
     "iopub.status.idle": "2022-06-09T05:24:14.956531Z",
     "shell.execute_reply": "2022-06-09T05:24:14.955607Z"
    },
    "papermill": {
     "duration": 30.541721,
     "end_time": "2022-06-09T05:24:14.958677",
     "exception": false,
     "start_time": "2022-06-09T05:23:44.416956",
     "status": "completed"
    },
    "tags": []
   },
   "outputs": [
    {
     "name": "stdout",
     "output_type": "stream",
     "text": [
      "Processing /kaggle/input/talib-package/talib_binary-0.4.19-cp37-cp37m-manylinux1_x86_64.whl\r\n",
      "Requirement already satisfied: numpy in /opt/conda/lib/python3.7/site-packages (from talib-binary==0.4.19) (1.21.6)\r\n",
      "Installing collected packages: talib-binary\r\n",
      "Successfully installed talib-binary-0.4.19\r\n",
      "\u001b[33mWARNING: Running pip as the 'root' user can result in broken permissions and conflicting behaviour with the system package manager. It is recommended to use a virtual environment instead: https://pip.pypa.io/warnings/venv\u001b[0m\u001b[33m\r\n",
      "\u001b[0m\u001b[33mWARNING: There was an error checking the latest version of pip.\u001b[0m\u001b[33m\r\n",
      "\u001b[0m"
     ]
    }
   ],
   "source": [
    "!pip install ../input/talib-package/talib_binary-0.4.19-cp37-cp37m-manylinux1_x86_64.whl\n",
    "import talib as ta "
   ]
  },
  {
   "cell_type": "code",
   "execution_count": 3,
   "id": "08525b34",
   "metadata": {
    "execution": {
     "iopub.execute_input": "2022-06-09T05:24:14.969615Z",
     "iopub.status.busy": "2022-06-09T05:24:14.968737Z",
     "iopub.status.idle": "2022-06-09T05:24:17.785470Z",
     "shell.execute_reply": "2022-06-09T05:24:17.784638Z"
    },
    "papermill": {
     "duration": 2.824689,
     "end_time": "2022-06-09T05:24:17.787862",
     "exception": false,
     "start_time": "2022-06-09T05:24:14.963173",
     "status": "completed"
    },
    "tags": []
   },
   "outputs": [
    {
     "data": {
      "text/html": [
       "<style type='text/css'>\n",
       ".datatable table.frame { margin-bottom: 0; }\n",
       ".datatable table.frame thead { border-bottom: none; }\n",
       ".datatable table.frame tr.coltypes td {  color: #FFFFFF;  line-height: 6px;  padding: 0 0.5em;}\n",
       ".datatable .bool    { background: #DDDD99; }\n",
       ".datatable .object  { background: #565656; }\n",
       ".datatable .int     { background: #5D9E5D; }\n",
       ".datatable .float   { background: #4040CC; }\n",
       ".datatable .str     { background: #CC4040; }\n",
       ".datatable .time    { background: #40CC40; }\n",
       ".datatable .row_index {  background: var(--jp-border-color3);  border-right: 1px solid var(--jp-border-color0);  color: var(--jp-ui-font-color3);  font-size: 9px;}\n",
       ".datatable .frame tbody td { text-align: left; }\n",
       ".datatable .frame tr.coltypes .row_index {  background: var(--jp-border-color0);}\n",
       ".datatable th:nth-child(2) { padding-left: 12px; }\n",
       ".datatable .hellipsis {  color: var(--jp-cell-editor-border-color);}\n",
       ".datatable .vellipsis {  background: var(--jp-layout-color0);  color: var(--jp-cell-editor-border-color);}\n",
       ".datatable .na {  color: var(--jp-cell-editor-border-color);  font-size: 80%;}\n",
       ".datatable .sp {  opacity: 0.25;}\n",
       ".datatable .footer { font-size: 9px; }\n",
       ".datatable .frame_dimensions {  background: var(--jp-border-color3);  border-top: 1px solid var(--jp-border-color0);  color: var(--jp-ui-font-color3);  display: inline-block;  opacity: 0.6;  padding: 1px 10px 1px 5px;}\n",
       "</style>\n"
      ],
      "text/plain": [
       "<IPython.core.display.HTML object>"
      ]
     },
     "metadata": {},
     "output_type": "display_data"
    }
   ],
   "source": [
    "import matplotlib.pyplot as plt\n",
    "from lightgbm import LGBMRegressor\n",
    "from sklearn.preprocessing import StandardScaler, OrdinalEncoder, MinMaxScaler\n",
    "import missingno as msno\n",
    "\n",
    "import statsmodels.api as sm\n",
    "from pylab import rcParams\n",
    "\n",
    "# from tqdm import tqdm\n",
    "\n",
    "# import ta\n",
    "from talib import abstract\n",
    "\n",
    "\n",
    "import time\n",
    "\n"
   ]
  },
  {
   "cell_type": "code",
   "execution_count": 4,
   "id": "1d53e858",
   "metadata": {
    "execution": {
     "iopub.execute_input": "2022-06-09T05:24:17.798723Z",
     "iopub.status.busy": "2022-06-09T05:24:17.798335Z",
     "iopub.status.idle": "2022-06-09T05:24:24.775321Z",
     "shell.execute_reply": "2022-06-09T05:24:24.774459Z"
    },
    "papermill": {
     "duration": 6.984737,
     "end_time": "2022-06-09T05:24:24.777382",
     "exception": false,
     "start_time": "2022-06-09T05:24:17.792645",
     "status": "completed"
    },
    "tags": []
   },
   "outputs": [],
   "source": [
    "data = pd.read_csv('/kaggle/input/jpx-tokyo-stock-exchange-prediction/train_files/stock_prices.csv')\n",
    "# display(data)\n",
    "train = data.copy()\n",
    "\n",
    "# using supplement data as test data\n",
    "supp_data = pd.read_csv('/kaggle/input/jpx-tokyo-stock-exchange-prediction/supplemental_files/stock_prices.csv')\n",
    "\n",
    "train_with_supp = pd.concat([train, supp_data]).reset_index(drop=True)\n",
    "# train_with_supp\n"
   ]
  },
  {
   "cell_type": "code",
   "execution_count": 5,
   "id": "fb6e9730",
   "metadata": {
    "execution": {
     "iopub.execute_input": "2022-06-09T05:24:24.788539Z",
     "iopub.status.busy": "2022-06-09T05:24:24.787951Z",
     "iopub.status.idle": "2022-06-09T05:24:24.791932Z",
     "shell.execute_reply": "2022-06-09T05:24:24.791025Z"
    },
    "papermill": {
     "duration": 0.011594,
     "end_time": "2022-06-09T05:24:24.793737",
     "exception": false,
     "start_time": "2022-06-09T05:24:24.782143",
     "status": "completed"
    },
    "tags": []
   },
   "outputs": [],
   "source": [
    "# def time_elapsed(t0):\n",
    "#     t1 = time.time()\n",
    "#     print(time.time() - t0)\n",
    "#     return t1"
   ]
  },
  {
   "cell_type": "markdown",
   "id": "1b884297",
   "metadata": {
    "papermill": {
     "duration": 0.00434,
     "end_time": "2022-06-09T05:24:24.802971",
     "exception": false,
     "start_time": "2022-06-09T05:24:24.798631",
     "status": "completed"
    },
    "tags": []
   },
   "source": [
    "SecuritiesCode 에 따라 인덱싱하는 것이 시간 소요가 너무 크다.  \n",
    "미리 Data를 종목마다 쪼개서 넣어 놓는게 좋겠다. - > 리스트 활용"
   ]
  },
  {
   "cell_type": "code",
   "execution_count": 6,
   "id": "aced9ce7",
   "metadata": {
    "execution": {
     "iopub.execute_input": "2022-06-09T05:24:24.813815Z",
     "iopub.status.busy": "2022-06-09T05:24:24.813331Z",
     "iopub.status.idle": "2022-06-09T05:24:33.307083Z",
     "shell.execute_reply": "2022-06-09T05:24:33.306131Z"
    },
    "papermill": {
     "duration": 8.50171,
     "end_time": "2022-06-09T05:24:33.309221",
     "exception": false,
     "start_time": "2022-06-09T05:24:24.807511",
     "status": "completed"
    },
    "tags": []
   },
   "outputs": [
    {
     "name": "stdout",
     "output_type": "stream",
     "text": [
      "Divide securities individually..\n"
     ]
    }
   ],
   "source": [
    "def divideSecurities(df):\n",
    "    sec_list = []\n",
    "    print('Divide securities individually..')\n",
    "    for code in np.sort(df.SecuritiesCode.unique()):\n",
    "        sec_list.append(df.loc[df.SecuritiesCode == code, :].reset_index(drop=True))\n",
    "    return sec_list\n",
    "\n",
    "sec_list = divideSecurities(train_with_supp)"
   ]
  },
  {
   "cell_type": "code",
   "execution_count": 7,
   "id": "70cf89fa",
   "metadata": {
    "execution": {
     "iopub.execute_input": "2022-06-09T05:24:33.320039Z",
     "iopub.status.busy": "2022-06-09T05:24:33.319651Z",
     "iopub.status.idle": "2022-06-09T05:24:33.327814Z",
     "shell.execute_reply": "2022-06-09T05:24:33.327038Z"
    },
    "papermill": {
     "duration": 0.01565,
     "end_time": "2022-06-09T05:24:33.329668",
     "exception": false,
     "start_time": "2022-06-09T05:24:33.314018",
     "status": "completed"
    },
    "tags": []
   },
   "outputs": [],
   "source": [
    "t2 = time.time()\n",
    "def add_features_train(input_df, sec_list):\n",
    "    df_list = []\n",
    "    for df in sec_list:\n",
    "        \n",
    "        # shadows\n",
    "        df['upper_shadow'] = df['High'] - np.maximum(df['Open'], df['Close'])\n",
    "        df['lower_shadow'] = np.minimum(df['Open'], df['Close']) - df['Low']\n",
    "        \n",
    "\n",
    "        \n",
    "        # lagged features\n",
    "        # 날짜 단위이므로 7일전, 30일전, 180일전, 360일전 \n",
    "        # lagged close, target (target 은 정확히 무엇? return인가)\n",
    "        \n",
    "        # lagged feature 계산하기 전 결측치 채워넣기\n",
    "        df = df.fillna(method='ffill')\n",
    "        \n",
    "\n",
    "        \n",
    "        # TA-lib features - RSI, EMA 7-90\n",
    "        df['RSI'] = ta.RSI(df['Close'])\n",
    "        df['EMA7'] = ta.EMA(df['Close'], 7)\n",
    "        df['EMA15'] = ta.EMA(df['Close'], 15)\n",
    "        df['EMA30'] = ta.EMA(df['Close'], 30)\n",
    "        df['EMA90'] = ta.EMA(df['Close'], 90)\n",
    "        \n",
    "\n",
    "        \n",
    "#         for indicator in ta.get_function_groups()['Pattern Recognition']:\n",
    "#             df[str(indicator)] = getattr(ta,str(indicator))(df.Open, df.High, df.Low, df.Close)\n",
    "\n",
    "\n",
    "        # fill ema features by backward -- 이렇게 채워진 것은 false data 이므로 일단 test 해보고 없애는 것을 검토하자.\n",
    "        df = df.fillna(method='bfill')\n",
    "\n",
    "    \n",
    "        # volatility\n",
    "        \n",
    "        df_list.append(df)\n",
    "\n",
    "        \n",
    "    df_feature_added = pd.concat(df_list)\n",
    "    \n",
    "    return df_feature_added\n"
   ]
  },
  {
   "cell_type": "code",
   "execution_count": 8,
   "id": "e9a929ab",
   "metadata": {
    "execution": {
     "iopub.execute_input": "2022-06-09T05:24:33.340619Z",
     "iopub.status.busy": "2022-06-09T05:24:33.340287Z",
     "iopub.status.idle": "2022-06-09T05:24:46.532002Z",
     "shell.execute_reply": "2022-06-09T05:24:46.531038Z"
    },
    "papermill": {
     "duration": 13.200528,
     "end_time": "2022-06-09T05:24:46.534957",
     "exception": false,
     "start_time": "2022-06-09T05:24:33.334429",
     "status": "completed"
    },
    "tags": []
   },
   "outputs": [],
   "source": [
    "# add feature to data\n",
    "\n",
    "df_added = add_features_train(train_with_supp, sec_list)\n",
    "# df_added.to_csv('train_with_supp_feature_added.csv', index=False)\n",
    "\n",
    "# load data\n",
    "# df_added = pd.read_csv('/kaggle/input/train-with-supp-feature-added-v1-all-cdl/train_with_supp_feature_added.csv')\n",
    "\n",
    "# df_added"
   ]
  },
  {
   "cell_type": "code",
   "execution_count": 9,
   "id": "04a49115",
   "metadata": {
    "execution": {
     "iopub.execute_input": "2022-06-09T05:24:46.546657Z",
     "iopub.status.busy": "2022-06-09T05:24:46.545685Z",
     "iopub.status.idle": "2022-06-09T05:24:46.556295Z",
     "shell.execute_reply": "2022-06-09T05:24:46.555330Z"
    },
    "papermill": {
     "duration": 0.018258,
     "end_time": "2022-06-09T05:24:46.558216",
     "exception": false,
     "start_time": "2022-06-09T05:24:46.539958",
     "status": "completed"
    },
    "tags": []
   },
   "outputs": [],
   "source": [
    "def add_features_infer(input_df, close_df): #input df 는 price 데이터\n",
    "    df_list = []\n",
    "    sec_list = divideSecurities(input_df)\n",
    "    close_list = divideSecurities(close_df)\n",
    "    for i in range(len(sec_list)):\n",
    "        close = close_list[i] #.loc[close_df.SecuritiesCode == code, :].fillna(method='ffill')\n",
    "        df = sec_list[i]\n",
    "#         # test data의 open, high, low, close 중 nan 있으면 이전 값에서 가져와 채움\n",
    "        if df.loc[:, ['Open', 'High', 'Low', 'Close']].isna().any().any():\n",
    "#             display(df)\n",
    "#             display(close)\n",
    "# #             print(close.iloc[-2]['Open', 'High', 'Low', 'Close'].values())\n",
    "            df.loc[:, ['Open', 'High', 'Low', 'Close']] = close.loc[close['Date'] == close.iloc[-1]['Date'], ['Open', 'High', 'Low', 'Close']].values \n",
    "            \n",
    "        \n",
    "\n",
    "        \n",
    "        # shadows\n",
    "        df['upper_shadow'] = df['High'] - np.maximum(df['Open'], df['Close'])\n",
    "        df['lower_shadow'] = np.minimum(df['Open'], df['Close']) - df['Low']\n",
    "\n",
    "        # lagged features\n",
    "        # 날짜 단위이므로 7일전, 30일전, 180일전, 360일전 \n",
    "        # lagged close, target (target 은 정확히 무엇? return인가)\n",
    "        \n",
    "        ## Rolling features ##\n",
    "        \n",
    "        \n",
    "        # TA-lib features - RSI, EMA 7-90\n",
    "        df['RSI'] = ta.RSI(close['Close']).iloc[-1]\n",
    "        df['EMA7'] = ta.EMA(close['Close'], 7).iloc[-1]\n",
    "        df['EMA15'] = ta.EMA(close['Close'], 15).iloc[-1]\n",
    "        df['EMA30'] = ta.EMA(close['Close'], 30).iloc[-1]\n",
    "        df['EMA90'] = ta.EMA(close['Close'], 90).iloc[-1]\n",
    "\n",
    "        \n",
    "#         for indicator in ta.get_function_groups()['Pattern Recognition']:\n",
    "#             df[str(indicator)] = getattr(ta,str(indicator))(df.Open, df.High, df.Low, df.Close)\n",
    "\n",
    "\n",
    "        # volatility\n",
    "        \n",
    "        df_list.append(df)\n",
    "        \n",
    "    df_feature_added = pd.concat(df_list)\n",
    "    \n",
    "    return df_feature_added\n",
    "\n"
   ]
  },
  {
   "cell_type": "code",
   "execution_count": 10,
   "id": "79e82852",
   "metadata": {
    "execution": {
     "iopub.execute_input": "2022-06-09T05:24:46.569545Z",
     "iopub.status.busy": "2022-06-09T05:24:46.569107Z",
     "iopub.status.idle": "2022-06-09T05:24:49.019517Z",
     "shell.execute_reply": "2022-06-09T05:24:49.018645Z"
    },
    "papermill": {
     "duration": 2.458685,
     "end_time": "2022-06-09T05:24:49.021809",
     "exception": false,
     "start_time": "2022-06-09T05:24:46.563124",
     "status": "completed"
    },
    "tags": []
   },
   "outputs": [],
   "source": [
    "def preprocess_train(df):\n",
    "    \n",
    "    # remove columns - Date removed temporarily\n",
    "    dfc = df.drop(columns=['RowId', 'AdjustmentFactor', 'ExpectedDividend', 'SupervisionFlag'])\n",
    "    \n",
    "    \n",
    "#     minmax = MinMaxScaler()\n",
    "    stdsc = StandardScaler()\n",
    "    ordinal = OrdinalEncoder()\n",
    "\n",
    "    target = ['Target']\n",
    "#     minmax_features = ['Date']\n",
    "    ord_features = ['Date', 'SecuritiesCode'] \n",
    "    scaled_features = ['Open', 'High', 'Low', 'Close', 'Volume', 'upper_shadow', 'lower_shadow',\n",
    "                      'RSI', 'EMA7', 'EMA15', 'EMA30', 'EMA90'] #+ [c for c in df.columns if c.startswith('CDL')] # pattern recognition features\n",
    "    \n",
    "#     date_scaled = minmax.fit_transform(dfc.loc[:,minmax_features])\n",
    "    date_code_ord = ordinal.fit_transform(dfc.loc[:,ord_features])\n",
    "    scaled = stdsc.fit_transform(dfc.loc[:,scaled_features])\n",
    "    \n",
    "#     display(pd.DataFrame(date_code_ord, columns=ord_features))\n",
    "#     display(pd.DataFrame(scaled, columns=scaled_features))\n",
    "    \n",
    "    \n",
    "    dfc_scaled = pd.concat([# pd.DataFrame(date_scaled, columns=minmax_features),\n",
    "                            pd.DataFrame(date_code_ord, columns=ord_features),\n",
    "                            pd.DataFrame(scaled, columns=scaled_features)], axis=1)\n",
    "\n",
    "    y = dfc.loc[:,target]\n",
    "    return dfc_scaled, y, [ordinal, stdsc]\n",
    "    \n",
    "\n",
    "X_scaled, y, trained_scalers = preprocess_train(df_added)  # 2021-12-06부터 test 시작이므로 그 전까지만 이용한다.\n",
    "\n",
    "# X_scaled"
   ]
  },
  {
   "cell_type": "code",
   "execution_count": 11,
   "id": "80a53100",
   "metadata": {
    "execution": {
     "iopub.execute_input": "2022-06-09T05:24:49.033989Z",
     "iopub.status.busy": "2022-06-09T05:24:49.033572Z",
     "iopub.status.idle": "2022-06-09T05:24:49.041301Z",
     "shell.execute_reply": "2022-06-09T05:24:49.040411Z"
    },
    "papermill": {
     "duration": 0.016021,
     "end_time": "2022-06-09T05:24:49.043188",
     "exception": false,
     "start_time": "2022-06-09T05:24:49.027167",
     "status": "completed"
    },
    "tags": []
   },
   "outputs": [],
   "source": [
    "def preprocess_inference(df, trained_scalers: list):\n",
    "    ordinal = trained_scalers[0]\n",
    "    stdsc = trained_scalers[1]\n",
    "    \n",
    "      \n",
    "    # remove columns - Date removed temporarily\n",
    "    dfc = df.drop(columns=['RowId', 'AdjustmentFactor', 'ExpectedDividend', 'SupervisionFlag'])\n",
    "    \n",
    "    \n",
    "    target = ['Target']\n",
    "    ord_features = ['Date', 'SecuritiesCode'] \n",
    "    scaled_features = ['Open', 'High', 'Low', 'Close', 'Volume', 'upper_shadow', 'lower_shadow',\n",
    "                      'RSI', 'EMA7', 'EMA15', 'EMA30', 'EMA90'] #+ [c for c in df.columns if c.startswith('CDL')] # pattern recognition features\n",
    "    \n",
    "    \n",
    "    date_code_ord = ordinal.transform(dfc.loc[:,ord_features])\n",
    "    scaled = stdsc.transform(dfc.loc[:,scaled_features])\n",
    "    dfc_scaled = pd.concat([pd.DataFrame(date_code_ord, columns=ord_features),\n",
    "                            pd.DataFrame(scaled, columns=scaled_features)], axis=1)\n",
    "\n",
    "    \n",
    "    return dfc_scaled\n",
    "    \n",
    "\n",
    "# X_test_scaled = preprocess_train(df_added, trained_scalers)\n",
    "\n",
    "# X_test_scaled"
   ]
  },
  {
   "cell_type": "code",
   "execution_count": 12,
   "id": "0959fcba",
   "metadata": {
    "execution": {
     "iopub.execute_input": "2022-06-09T05:24:49.054969Z",
     "iopub.status.busy": "2022-06-09T05:24:49.054097Z",
     "iopub.status.idle": "2022-06-09T05:24:59.242409Z",
     "shell.execute_reply": "2022-06-09T05:24:59.241649Z"
    },
    "papermill": {
     "duration": 10.196609,
     "end_time": "2022-06-09T05:24:59.244731",
     "exception": false,
     "start_time": "2022-06-09T05:24:49.048122",
     "status": "completed"
    },
    "tags": []
   },
   "outputs": [],
   "source": [
    "# base model - lgbm \n",
    "lgb = LGBMRegressor().fit(X_scaled, y)\n",
    "\n"
   ]
  },
  {
   "cell_type": "code",
   "execution_count": 13,
   "id": "c20230dd",
   "metadata": {
    "execution": {
     "iopub.execute_input": "2022-06-09T05:24:59.256287Z",
     "iopub.status.busy": "2022-06-09T05:24:59.255910Z",
     "iopub.status.idle": "2022-06-09T05:24:59.280560Z",
     "shell.execute_reply": "2022-06-09T05:24:59.279894Z"
    },
    "papermill": {
     "duration": 0.032432,
     "end_time": "2022-06-09T05:24:59.282633",
     "exception": false,
     "start_time": "2022-06-09T05:24:59.250201",
     "status": "completed"
    },
    "tags": []
   },
   "outputs": [],
   "source": [
    "import jpx_tokyo_market_prediction\n",
    "env = jpx_tokyo_market_prediction.make_env()\n",
    "iter_test = env.iter_test()"
   ]
  },
  {
   "cell_type": "code",
   "execution_count": null,
   "id": "41743c31",
   "metadata": {
    "papermill": {
     "duration": 0.004512,
     "end_time": "2022-06-09T05:24:59.292005",
     "exception": false,
     "start_time": "2022-06-09T05:24:59.287493",
     "status": "completed"
    },
    "tags": []
   },
   "outputs": [],
   "source": []
  },
  {
   "cell_type": "markdown",
   "id": "12daed62",
   "metadata": {
    "papermill": {
     "duration": 0.004273,
     "end_time": "2022-06-09T05:24:59.300887",
     "exception": false,
     "start_time": "2022-06-09T05:24:59.296614",
     "status": "completed"
    },
    "tags": []
   },
   "source": [
    "pd.to_datetime 최소한도로 쓸것. 연산 cost가 너무 큼. 특히 inference 단계에서는 쓰지 않기."
   ]
  },
  {
   "cell_type": "code",
   "execution_count": 14,
   "id": "44466ade",
   "metadata": {
    "execution": {
     "iopub.execute_input": "2022-06-09T05:24:59.311899Z",
     "iopub.status.busy": "2022-06-09T05:24:59.311259Z",
     "iopub.status.idle": "2022-06-09T05:24:59.315635Z",
     "shell.execute_reply": "2022-06-09T05:24:59.315038Z"
    },
    "papermill": {
     "duration": 0.011966,
     "end_time": "2022-06-09T05:24:59.317445",
     "exception": false,
     "start_time": "2022-06-09T05:24:59.305479",
     "status": "completed"
    },
    "tags": []
   },
   "outputs": [],
   "source": [
    "# 2000개 종목 리스트에서 날짜 하나씩 빼고 뒷날짜 추가 구현?\n"
   ]
  },
  {
   "cell_type": "code",
   "execution_count": 15,
   "id": "caadf472",
   "metadata": {
    "execution": {
     "iopub.execute_input": "2022-06-09T05:24:59.328176Z",
     "iopub.status.busy": "2022-06-09T05:24:59.327790Z",
     "iopub.status.idle": "2022-06-09T05:25:25.808755Z",
     "shell.execute_reply": "2022-06-09T05:25:25.807893Z"
    },
    "papermill": {
     "duration": 26.488926,
     "end_time": "2022-06-09T05:25:25.811077",
     "exception": false,
     "start_time": "2022-06-09T05:24:59.322151",
     "status": "completed"
    },
    "tags": []
   },
   "outputs": [
    {
     "name": "stdout",
     "output_type": "stream",
     "text": [
      "This version of the API is not optimized and should not be used to estimate the runtime of your code on the hidden test set.\n",
      "Divide securities individually..\n",
      "Divide securities individually..\n",
      "Divide securities individually..\n",
      "Divide securities individually..\n"
     ]
    }
   ],
   "source": [
    "for i, (prices, options, financials, trades, secondary_prices, sample_prediction) in enumerate(iter_test):\n",
    "#     t0 = time.time()\n",
    "    \n",
    "    # 이전 데이터와 합치고 최근 140일치만 이용한다\n",
    "    today = prices.Date[0]\n",
    "    lastday = str(pd.to_datetime(today) - pd.DateOffset(140))\n",
    "    \n",
    "    if i == 0:\n",
    "        close_df = pd.concat([\n",
    "            train_with_supp.loc[\n",
    "                (train_with_supp['Date'] > lastday) & (train_with_supp['Date'] < today), \n",
    "                    ['Date', 'SecuritiesCode', 'Open', 'High', 'Low', 'Close']],\n",
    "                prices.loc[:, ['Date', 'SecuritiesCode', 'Open', 'High', 'Low', 'Close']]\n",
    "            ]).reset_index(drop=True)\n",
    "        \n",
    "    else:\n",
    "        close_df = pd.concat([\n",
    "            close_df.loc[\n",
    "                (close_df['Date'] > lastday) & (close_df['Date'] < today), \n",
    "                    ['Date', 'SecuritiesCode', 'Open', 'High', 'Low', 'Close']],\n",
    "                prices.loc[:, ['Date', 'SecuritiesCode', 'Open', 'High', 'Low', 'Close']]\n",
    "            ]).reset_index(drop=True)\n",
    "        \n",
    "\n",
    "    feat = add_features_infer(prices, close_df)\n",
    "    X = preprocess_inference(feat, trained_scalers)\n",
    "\n",
    "    # X, y\n",
    "    X['Target'] = lgb.predict(X)\n",
    "    X['Rank'] = (X['Target'].rank(method='average', ascending=False)-1).astype(int)\n",
    "    sample_prediction['Rank'] = X['Rank'].values\n",
    "#     display(sample_prediction)\n",
    "    env.predict(sample_prediction)\n",
    "#     print(time.time() - t0)"
   ]
  },
  {
   "cell_type": "code",
   "execution_count": null,
   "id": "585a303b",
   "metadata": {
    "papermill": {
     "duration": 0.004666,
     "end_time": "2022-06-09T05:25:25.821308",
     "exception": false,
     "start_time": "2022-06-09T05:25:25.816642",
     "status": "completed"
    },
    "tags": []
   },
   "outputs": [],
   "source": []
  }
 ],
 "metadata": {
  "kernelspec": {
   "display_name": "Python 3",
   "language": "python",
   "name": "python3"
  },
  "language_info": {
   "codemirror_mode": {
    "name": "ipython",
    "version": 3
   },
   "file_extension": ".py",
   "mimetype": "text/x-python",
   "name": "python",
   "nbconvert_exporter": "python",
   "pygments_lexer": "ipython3",
   "version": "3.7.12"
  },
  "papermill": {
   "default_parameters": {},
   "duration": 111.229306,
   "end_time": "2022-06-09T05:25:27.051475",
   "environment_variables": {},
   "exception": null,
   "input_path": "__notebook__.ipynb",
   "output_path": "__notebook__.ipynb",
   "parameters": {},
   "start_time": "2022-06-09T05:23:35.822169",
   "version": "2.3.4"
  }
 },
 "nbformat": 4,
 "nbformat_minor": 5
}
