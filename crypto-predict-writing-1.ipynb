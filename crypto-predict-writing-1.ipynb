{
 "cells": [
  {
   "cell_type": "code",
   "execution_count": 1,
   "id": "ed5511fc",
   "metadata": {
    "_cell_guid": "b1076dfc-b9ad-4769-8c92-a6c4dae69d19",
    "_uuid": "8f2839f25d086af736a60e9eeb907d3b93b6e0e5",
    "execution": {
     "iopub.execute_input": "2022-01-07T05:48:00.968479Z",
     "iopub.status.busy": "2022-01-07T05:48:00.967518Z",
     "iopub.status.idle": "2022-01-07T05:48:00.982785Z",
     "shell.execute_reply": "2022-01-07T05:48:00.983584Z",
     "shell.execute_reply.started": "2022-01-07T05:21:54.802966Z"
    },
    "papermill": {
     "duration": 0.044984,
     "end_time": "2022-01-07T05:48:00.983961",
     "exception": false,
     "start_time": "2022-01-07T05:48:00.938977",
     "status": "completed"
    },
    "tags": []
   },
   "outputs": [
    {
     "name": "stdout",
     "output_type": "stream",
     "text": [
      "/kaggle/input/g-research-crypto-forecasting/example_sample_submission.csv\n",
      "/kaggle/input/g-research-crypto-forecasting/asset_details.csv\n",
      "/kaggle/input/g-research-crypto-forecasting/example_test.csv\n",
      "/kaggle/input/g-research-crypto-forecasting/train.csv\n",
      "/kaggle/input/g-research-crypto-forecasting/supplemental_train.csv\n",
      "/kaggle/input/g-research-crypto-forecasting/gresearch_crypto/competition.cpython-37m-x86_64-linux-gnu.so\n",
      "/kaggle/input/g-research-crypto-forecasting/gresearch_crypto/__init__.py\n"
     ]
    }
   ],
   "source": [
    "# This Python 3 environment comes with many helpful analytics libraries installed\n",
    "# It is defined by the kaggle/python Docker image: https://github.com/kaggle/docker-python\n",
    "# For example, here's several helpful packages to load\n",
    "\n",
    "import numpy as np # linear algebra\n",
    "import pandas as pd # data processing, CSV file I/O (e.g. pd.read_csv)\n",
    "\n",
    "# Input data files are available in the read-only \"../input/\" directory\n",
    "# For example, running this (by clicking run or pressing Shift+Enter) will list all files under the input directory\n",
    "\n",
    "import os\n",
    "for dirname, _, filenames in os.walk('/kaggle/input'):\n",
    "    for filename in filenames:\n",
    "        print(os.path.join(dirname, filename))\n",
    "\n",
    "# You can write up to 20GB to the current directory (/kaggle/working/) that gets preserved as output when you create a version using \"Save & Run All\" \n",
    "# You can also write temporary files to /kaggle/temp/, but they won't be saved outside of the current session"
   ]
  },
  {
   "cell_type": "markdown",
   "id": "321f289f",
   "metadata": {
    "papermill": {
     "duration": 0.016658,
     "end_time": "2022-01-07T05:48:01.019178",
     "exception": false,
     "start_time": "2022-01-07T05:48:01.002520",
     "status": "completed"
    },
    "tags": []
   },
   "source": [
    "(필사)\n",
    "# 🪙💲 Proposal for a meaningful LB + Strict LGBM\n",
    "https://www.kaggle.com/julian3833/proposal-for-a-meaningful-lb-strict-lgbm/notebook?scriptVersionId=80421622\n"
   ]
  },
  {
   "cell_type": "markdown",
   "id": "2d217e44",
   "metadata": {
    "papermill": {
     "duration": 0.016909,
     "end_time": "2022-01-07T05:48:01.053512",
     "exception": false,
     "start_time": "2022-01-07T05:48:01.036603",
     "status": "completed"
    },
    "tags": []
   },
   "source": [
    "## Import and load dfs"
   ]
  },
  {
   "cell_type": "code",
   "execution_count": 2,
   "id": "0c963573",
   "metadata": {
    "execution": {
     "iopub.execute_input": "2022-01-07T05:48:01.090907Z",
     "iopub.status.busy": "2022-01-07T05:48:01.089976Z",
     "iopub.status.idle": "2022-01-07T05:48:03.141662Z",
     "shell.execute_reply": "2022-01-07T05:48:03.142170Z",
     "shell.execute_reply.started": "2022-01-07T05:22:07.648480Z"
    },
    "papermill": {
     "duration": 2.071928,
     "end_time": "2022-01-07T05:48:03.142351",
     "exception": false,
     "start_time": "2022-01-07T05:48:01.070423",
     "status": "completed"
    },
    "tags": []
   },
   "outputs": [
    {
     "data": {
      "text/html": [
       "<style type='text/css'>\n",
       ".datatable table.frame { margin-bottom: 0; }\n",
       ".datatable table.frame thead { border-bottom: none; }\n",
       ".datatable table.frame tr.coltypes td {  color: #FFFFFF;  line-height: 6px;  padding: 0 0.5em;}\n",
       ".datatable .bool    { background: #DDDD99; }\n",
       ".datatable .object  { background: #565656; }\n",
       ".datatable .int     { background: #5D9E5D; }\n",
       ".datatable .float   { background: #4040CC; }\n",
       ".datatable .str     { background: #CC4040; }\n",
       ".datatable .time    { background: #40CC40; }\n",
       ".datatable .row_index {  background: var(--jp-border-color3);  border-right: 1px solid var(--jp-border-color0);  color: var(--jp-ui-font-color3);  font-size: 9px;}\n",
       ".datatable .frame tbody td { text-align: left; }\n",
       ".datatable .frame tr.coltypes .row_index {  background: var(--jp-border-color0);}\n",
       ".datatable th:nth-child(2) { padding-left: 12px; }\n",
       ".datatable .hellipsis {  color: var(--jp-cell-editor-border-color);}\n",
       ".datatable .vellipsis {  background: var(--jp-layout-color0);  color: var(--jp-cell-editor-border-color);}\n",
       ".datatable .na {  color: var(--jp-cell-editor-border-color);  font-size: 80%;}\n",
       ".datatable .sp {  opacity: 0.25;}\n",
       ".datatable .footer { font-size: 9px; }\n",
       ".datatable .frame_dimensions {  background: var(--jp-border-color3);  border-top: 1px solid var(--jp-border-color0);  color: var(--jp-ui-font-color3);  display: inline-block;  opacity: 0.6;  padding: 1px 10px 1px 5px;}\n",
       "</style>\n"
      ],
      "text/plain": [
       "<IPython.core.display.HTML object>"
      ]
     },
     "metadata": {},
     "output_type": "display_data"
    }
   ],
   "source": [
    "import pandas as pd\n",
    "import numpy as np\n",
    "from lightgbm import LGBMRegressor\n",
    "from sklearn.linear_model import LinearRegression\n",
    "import gresearch_crypto"
   ]
  },
  {
   "cell_type": "code",
   "execution_count": 3,
   "id": "ec173ddd",
   "metadata": {
    "execution": {
     "iopub.execute_input": "2022-01-07T05:48:03.183022Z",
     "iopub.status.busy": "2022-01-07T05:48:03.182414Z",
     "iopub.status.idle": "2022-01-07T05:48:03.188531Z",
     "shell.execute_reply": "2022-01-07T05:48:03.189042Z",
     "shell.execute_reply.started": "2022-01-07T05:23:14.394522Z"
    },
    "papermill": {
     "duration": 0.027178,
     "end_time": "2022-01-07T05:48:03.189216",
     "exception": false,
     "start_time": "2022-01-07T05:48:03.162038",
     "status": "completed"
    },
    "tags": []
   },
   "outputs": [],
   "source": [
    "TRAIN_CSV = '../input/g-research-crypto-forecasting/train.csv'\n",
    "ASSET_DETAILS_CSV = '../input/g-research-crypto-forecasting/asset_details.csv'\n",
    "\n",
    "def read_csv_strict(file_name='../input/g-research-crypto-forecasting/train.csv'):\n",
    "    df = pd.read_csv(file_name)\n",
    "    df['datetime'] = pd.to_datetime(df['timestamp'], unit='s')\n",
    "    df = df[df['datetime'] < '2021-06-13 00:00:00']\n",
    "    return df"
   ]
  },
  {
   "cell_type": "code",
   "execution_count": 4,
   "id": "35d2d6c5",
   "metadata": {
    "execution": {
     "iopub.execute_input": "2022-01-07T05:48:03.227336Z",
     "iopub.status.busy": "2022-01-07T05:48:03.226725Z",
     "iopub.status.idle": "2022-01-07T05:49:06.215579Z",
     "shell.execute_reply": "2022-01-07T05:49:06.214409Z",
     "shell.execute_reply.started": "2022-01-07T05:23:25.322825Z"
    },
    "papermill": {
     "duration": 63.008873,
     "end_time": "2022-01-07T05:49:06.215748",
     "exception": false,
     "start_time": "2022-01-07T05:48:03.206875",
     "status": "completed"
    },
    "tags": []
   },
   "outputs": [],
   "source": [
    "df_train = read_csv_strict()"
   ]
  },
  {
   "cell_type": "code",
   "execution_count": 5,
   "id": "8e7d06e8",
   "metadata": {
    "execution": {
     "iopub.execute_input": "2022-01-07T05:49:06.255922Z",
     "iopub.status.busy": "2022-01-07T05:49:06.255235Z",
     "iopub.status.idle": "2022-01-07T05:49:06.275880Z",
     "shell.execute_reply": "2022-01-07T05:49:06.275387Z",
     "shell.execute_reply.started": "2022-01-07T05:24:31.082399Z"
    },
    "papermill": {
     "duration": 0.041162,
     "end_time": "2022-01-07T05:49:06.276013",
     "exception": false,
     "start_time": "2022-01-07T05:49:06.234851",
     "status": "completed"
    },
    "tags": []
   },
   "outputs": [
    {
     "data": {
      "text/html": [
       "<div>\n",
       "<style scoped>\n",
       "    .dataframe tbody tr th:only-of-type {\n",
       "        vertical-align: middle;\n",
       "    }\n",
       "\n",
       "    .dataframe tbody tr th {\n",
       "        vertical-align: top;\n",
       "    }\n",
       "\n",
       "    .dataframe thead th {\n",
       "        text-align: right;\n",
       "    }\n",
       "</style>\n",
       "<table border=\"1\" class=\"dataframe\">\n",
       "  <thead>\n",
       "    <tr style=\"text-align: right;\">\n",
       "      <th></th>\n",
       "      <th>timestamp</th>\n",
       "      <th>Asset_ID</th>\n",
       "      <th>Count</th>\n",
       "      <th>Open</th>\n",
       "      <th>High</th>\n",
       "      <th>Low</th>\n",
       "      <th>Close</th>\n",
       "      <th>Volume</th>\n",
       "      <th>VWAP</th>\n",
       "      <th>Target</th>\n",
       "      <th>datetime</th>\n",
       "    </tr>\n",
       "  </thead>\n",
       "  <tbody>\n",
       "    <tr>\n",
       "      <th>0</th>\n",
       "      <td>1514764860</td>\n",
       "      <td>2</td>\n",
       "      <td>40.0</td>\n",
       "      <td>2376.5800</td>\n",
       "      <td>2399.5000</td>\n",
       "      <td>2357.1400</td>\n",
       "      <td>2374.5900</td>\n",
       "      <td>19.233005</td>\n",
       "      <td>2373.116392</td>\n",
       "      <td>-0.004218</td>\n",
       "      <td>2018-01-01 00:01:00</td>\n",
       "    </tr>\n",
       "    <tr>\n",
       "      <th>1</th>\n",
       "      <td>1514764860</td>\n",
       "      <td>0</td>\n",
       "      <td>5.0</td>\n",
       "      <td>8.5300</td>\n",
       "      <td>8.5300</td>\n",
       "      <td>8.5300</td>\n",
       "      <td>8.5300</td>\n",
       "      <td>78.380000</td>\n",
       "      <td>8.530000</td>\n",
       "      <td>-0.014399</td>\n",
       "      <td>2018-01-01 00:01:00</td>\n",
       "    </tr>\n",
       "    <tr>\n",
       "      <th>2</th>\n",
       "      <td>1514764860</td>\n",
       "      <td>1</td>\n",
       "      <td>229.0</td>\n",
       "      <td>13835.1940</td>\n",
       "      <td>14013.8000</td>\n",
       "      <td>13666.1100</td>\n",
       "      <td>13850.1760</td>\n",
       "      <td>31.550062</td>\n",
       "      <td>13827.062093</td>\n",
       "      <td>-0.014643</td>\n",
       "      <td>2018-01-01 00:01:00</td>\n",
       "    </tr>\n",
       "    <tr>\n",
       "      <th>3</th>\n",
       "      <td>1514764860</td>\n",
       "      <td>5</td>\n",
       "      <td>32.0</td>\n",
       "      <td>7.6596</td>\n",
       "      <td>7.6596</td>\n",
       "      <td>7.6567</td>\n",
       "      <td>7.6576</td>\n",
       "      <td>6626.713370</td>\n",
       "      <td>7.657713</td>\n",
       "      <td>-0.013922</td>\n",
       "      <td>2018-01-01 00:01:00</td>\n",
       "    </tr>\n",
       "    <tr>\n",
       "      <th>4</th>\n",
       "      <td>1514764860</td>\n",
       "      <td>7</td>\n",
       "      <td>5.0</td>\n",
       "      <td>25.9200</td>\n",
       "      <td>25.9200</td>\n",
       "      <td>25.8740</td>\n",
       "      <td>25.8770</td>\n",
       "      <td>121.087310</td>\n",
       "      <td>25.891363</td>\n",
       "      <td>-0.008264</td>\n",
       "      <td>2018-01-01 00:01:00</td>\n",
       "    </tr>\n",
       "  </tbody>\n",
       "</table>\n",
       "</div>"
      ],
      "text/plain": [
       "    timestamp  Asset_ID  Count        Open        High         Low  \\\n",
       "0  1514764860         2   40.0   2376.5800   2399.5000   2357.1400   \n",
       "1  1514764860         0    5.0      8.5300      8.5300      8.5300   \n",
       "2  1514764860         1  229.0  13835.1940  14013.8000  13666.1100   \n",
       "3  1514764860         5   32.0      7.6596      7.6596      7.6567   \n",
       "4  1514764860         7    5.0     25.9200     25.9200     25.8740   \n",
       "\n",
       "        Close       Volume          VWAP    Target            datetime  \n",
       "0   2374.5900    19.233005   2373.116392 -0.004218 2018-01-01 00:01:00  \n",
       "1      8.5300    78.380000      8.530000 -0.014399 2018-01-01 00:01:00  \n",
       "2  13850.1760    31.550062  13827.062093 -0.014643 2018-01-01 00:01:00  \n",
       "3      7.6576  6626.713370      7.657713 -0.013922 2018-01-01 00:01:00  \n",
       "4     25.8770   121.087310     25.891363 -0.008264 2018-01-01 00:01:00  "
      ]
     },
     "execution_count": 5,
     "metadata": {},
     "output_type": "execute_result"
    }
   ],
   "source": [
    "df_train.head()"
   ]
  },
  {
   "cell_type": "code",
   "execution_count": 6,
   "id": "560457e0",
   "metadata": {
    "execution": {
     "iopub.execute_input": "2022-01-07T05:49:06.316852Z",
     "iopub.status.busy": "2022-01-07T05:49:06.316104Z",
     "iopub.status.idle": "2022-01-07T05:49:06.334389Z",
     "shell.execute_reply": "2022-01-07T05:49:06.334984Z",
     "shell.execute_reply.started": "2022-01-07T05:25:10.399418Z"
    },
    "papermill": {
     "duration": 0.040877,
     "end_time": "2022-01-07T05:49:06.335179",
     "exception": false,
     "start_time": "2022-01-07T05:49:06.294302",
     "status": "completed"
    },
    "tags": []
   },
   "outputs": [
    {
     "data": {
      "text/html": [
       "<div>\n",
       "<style scoped>\n",
       "    .dataframe tbody tr th:only-of-type {\n",
       "        vertical-align: middle;\n",
       "    }\n",
       "\n",
       "    .dataframe tbody tr th {\n",
       "        vertical-align: top;\n",
       "    }\n",
       "\n",
       "    .dataframe thead th {\n",
       "        text-align: right;\n",
       "    }\n",
       "</style>\n",
       "<table border=\"1\" class=\"dataframe\">\n",
       "  <thead>\n",
       "    <tr style=\"text-align: right;\">\n",
       "      <th></th>\n",
       "      <th>Asset_ID</th>\n",
       "      <th>Weight</th>\n",
       "      <th>Asset_Name</th>\n",
       "    </tr>\n",
       "  </thead>\n",
       "  <tbody>\n",
       "    <tr>\n",
       "      <th>1</th>\n",
       "      <td>0</td>\n",
       "      <td>4.304065</td>\n",
       "      <td>Binance Coin</td>\n",
       "    </tr>\n",
       "    <tr>\n",
       "      <th>2</th>\n",
       "      <td>1</td>\n",
       "      <td>6.779922</td>\n",
       "      <td>Bitcoin</td>\n",
       "    </tr>\n",
       "    <tr>\n",
       "      <th>0</th>\n",
       "      <td>2</td>\n",
       "      <td>2.397895</td>\n",
       "      <td>Bitcoin Cash</td>\n",
       "    </tr>\n",
       "    <tr>\n",
       "      <th>10</th>\n",
       "      <td>3</td>\n",
       "      <td>4.406719</td>\n",
       "      <td>Cardano</td>\n",
       "    </tr>\n",
       "    <tr>\n",
       "      <th>13</th>\n",
       "      <td>4</td>\n",
       "      <td>3.555348</td>\n",
       "      <td>Dogecoin</td>\n",
       "    </tr>\n",
       "    <tr>\n",
       "      <th>3</th>\n",
       "      <td>5</td>\n",
       "      <td>1.386294</td>\n",
       "      <td>EOS.IO</td>\n",
       "    </tr>\n",
       "    <tr>\n",
       "      <th>5</th>\n",
       "      <td>6</td>\n",
       "      <td>5.894403</td>\n",
       "      <td>Ethereum</td>\n",
       "    </tr>\n",
       "    <tr>\n",
       "      <th>4</th>\n",
       "      <td>7</td>\n",
       "      <td>2.079442</td>\n",
       "      <td>Ethereum Classic</td>\n",
       "    </tr>\n",
       "    <tr>\n",
       "      <th>11</th>\n",
       "      <td>8</td>\n",
       "      <td>1.098612</td>\n",
       "      <td>IOTA</td>\n",
       "    </tr>\n",
       "    <tr>\n",
       "      <th>6</th>\n",
       "      <td>9</td>\n",
       "      <td>2.397895</td>\n",
       "      <td>Litecoin</td>\n",
       "    </tr>\n",
       "    <tr>\n",
       "      <th>12</th>\n",
       "      <td>10</td>\n",
       "      <td>1.098612</td>\n",
       "      <td>Maker</td>\n",
       "    </tr>\n",
       "    <tr>\n",
       "      <th>7</th>\n",
       "      <td>11</td>\n",
       "      <td>1.609438</td>\n",
       "      <td>Monero</td>\n",
       "    </tr>\n",
       "    <tr>\n",
       "      <th>9</th>\n",
       "      <td>12</td>\n",
       "      <td>2.079442</td>\n",
       "      <td>Stellar</td>\n",
       "    </tr>\n",
       "    <tr>\n",
       "      <th>8</th>\n",
       "      <td>13</td>\n",
       "      <td>1.791759</td>\n",
       "      <td>TRON</td>\n",
       "    </tr>\n",
       "  </tbody>\n",
       "</table>\n",
       "</div>"
      ],
      "text/plain": [
       "    Asset_ID    Weight        Asset_Name\n",
       "1          0  4.304065      Binance Coin\n",
       "2          1  6.779922           Bitcoin\n",
       "0          2  2.397895      Bitcoin Cash\n",
       "10         3  4.406719           Cardano\n",
       "13         4  3.555348          Dogecoin\n",
       "3          5  1.386294            EOS.IO\n",
       "5          6  5.894403          Ethereum\n",
       "4          7  2.079442  Ethereum Classic\n",
       "11         8  1.098612              IOTA\n",
       "6          9  2.397895          Litecoin\n",
       "12        10  1.098612             Maker\n",
       "7         11  1.609438            Monero\n",
       "9         12  2.079442           Stellar\n",
       "8         13  1.791759              TRON"
      ]
     },
     "execution_count": 6,
     "metadata": {},
     "output_type": "execute_result"
    }
   ],
   "source": [
    "df_asset_details = pd.read_csv(ASSET_DETAILS_CSV).sort_values(\"Asset_ID\")\n",
    "df_asset_details"
   ]
  },
  {
   "cell_type": "markdown",
   "id": "cf15102a",
   "metadata": {
    "papermill": {
     "duration": 0.018372,
     "end_time": "2022-01-07T05:49:06.372378",
     "exception": false,
     "start_time": "2022-01-07T05:49:06.354006",
     "status": "completed"
    },
    "tags": []
   },
   "source": [
    "## Training"
   ]
  },
  {
   "cell_type": "markdown",
   "id": "1c40f303",
   "metadata": {
    "papermill": {
     "duration": 0.018395,
     "end_time": "2022-01-07T05:49:06.409539",
     "exception": false,
     "start_time": "2022-01-07T05:49:06.391144",
     "status": "completed"
    },
    "tags": []
   },
   "source": [
    "Utility functions to train a model for one asset  \n",
    "Features from G-Research - Starter [0.361 LB]  \n",
    "\n",
    "And [GResearch] Simple LGB Starter"
   ]
  },
  {
   "cell_type": "code",
   "execution_count": 7,
   "id": "10b2f662",
   "metadata": {
    "execution": {
     "iopub.execute_input": "2022-01-07T05:49:06.449923Z",
     "iopub.status.busy": "2022-01-07T05:49:06.449297Z",
     "iopub.status.idle": "2022-01-07T05:49:06.459248Z",
     "shell.execute_reply": "2022-01-07T05:49:06.458613Z",
     "shell.execute_reply.started": "2022-01-07T05:31:49.152209Z"
    },
    "papermill": {
     "duration": 0.031119,
     "end_time": "2022-01-07T05:49:06.459385",
     "exception": false,
     "start_time": "2022-01-07T05:49:06.428266",
     "status": "completed"
    },
    "tags": []
   },
   "outputs": [],
   "source": [
    "# Two new features from the competition tutorial\n",
    "def upper_shadow(df):\n",
    "    return df['High'] - np.maximum(df['Close'], df['Open'])\n",
    "\n",
    "def lower_shadow(df):\n",
    "    return np.minimum(df['Close'], df['Open']) - df['Low']\n",
    "\n",
    "\n",
    "# A utility function to build features from the original df\n",
    "def get_features(df):\n",
    "    df_feat = df[['Count', 'Open', 'High', 'Low', 'Close', 'Volume', 'VWAP']].copy()\n",
    "    df_feat['Upper_Shadow'] = upper_shadow(df_feat)\n",
    "    df_feat['Lower_Shadow'] = lower_shadow(df_feat)\n",
    "    return df_feat\n",
    "\n",
    "def get_Xy_and_model_for_asset(df_train, asset_id):\n",
    "    df = df_train[df_train['Asset_ID'] == asset_id]\n",
    "    \n",
    "    # TODO : Try different features here!\n",
    "    df_proc = get_features(df)\n",
    "    df_proc['y'] = df['Target']\n",
    "    df_proc = df_proc.replace([np.inf, -np.inf], np.nan).dropna(how='any')\n",
    "    \n",
    "    X = df_proc.drop('y', axis=1)\n",
    "    y = df_proc['y']\n",
    "    \n",
    "    # TODO : Try different models here!\n",
    "    model = LGBMRegressor(n_estimators=10)\n",
    "    model.fit(X,y)\n",
    "    return X, y, model"
   ]
  },
  {
   "cell_type": "markdown",
   "id": "6d662ce5",
   "metadata": {
    "papermill": {
     "duration": 0.018332,
     "end_time": "2022-01-07T05:49:06.496439",
     "exception": false,
     "start_time": "2022-01-07T05:49:06.478107",
     "status": "completed"
    },
    "tags": []
   },
   "source": [
    "## Loop over all assets"
   ]
  },
  {
   "cell_type": "code",
   "execution_count": 8,
   "id": "1aa278ca",
   "metadata": {
    "execution": {
     "iopub.execute_input": "2022-01-07T05:49:06.541217Z",
     "iopub.status.busy": "2022-01-07T05:49:06.540568Z",
     "iopub.status.idle": "2022-01-07T05:49:27.962565Z",
     "shell.execute_reply": "2022-01-07T05:49:27.963211Z",
     "shell.execute_reply.started": "2022-01-07T05:31:50.021045Z"
    },
    "papermill": {
     "duration": 21.448234,
     "end_time": "2022-01-07T05:49:27.963431",
     "exception": false,
     "start_time": "2022-01-07T05:49:06.515197",
     "status": "completed"
    },
    "tags": []
   },
   "outputs": [
    {
     "name": "stdout",
     "output_type": "stream",
     "text": [
      "Training model for Binance Coin     (ID=0 )\n",
      "Training model for Bitcoin          (ID=1 )\n",
      "Training model for Bitcoin Cash     (ID=2 )\n",
      "Training model for Cardano          (ID=3 )\n",
      "Training model for Dogecoin         (ID=4 )\n",
      "Training model for EOS.IO           (ID=5 )\n",
      "Training model for Ethereum         (ID=6 )\n",
      "Training model for Ethereum Classic (ID=7 )\n",
      "Training model for IOTA             (ID=8 )\n",
      "Training model for Litecoin         (ID=9 )\n",
      "Training model for Maker            (ID=10)\n",
      "Training model for Monero           (ID=11)\n",
      "Training model for Stellar          (ID=12)\n",
      "Training model for TRON             (ID=13)\n"
     ]
    }
   ],
   "source": [
    "Xs = {}\n",
    "ys = {}\n",
    "models = {}\n",
    "\n",
    "for asset_id, asset_name in zip(df_asset_details['Asset_ID'], \n",
    "                               df_asset_details['Asset_Name']):\n",
    "    print(f\"Training model for {asset_name:<16} (ID={asset_id:<2})\")\n",
    "    X, y, model = get_Xy_and_model_for_asset(df_train, asset_id)\n",
    "    Xs[asset_id], ys[asset_id], models[asset_id] = X, y, model"
   ]
  },
  {
   "cell_type": "code",
   "execution_count": 9,
   "id": "905dcea7",
   "metadata": {
    "execution": {
     "iopub.execute_input": "2022-01-07T05:49:28.021694Z",
     "iopub.status.busy": "2022-01-07T05:49:28.020941Z",
     "iopub.status.idle": "2022-01-07T05:49:28.027636Z",
     "shell.execute_reply": "2022-01-07T05:49:28.028540Z",
     "shell.execute_reply.started": "2022-01-07T05:32:59.186023Z"
    },
    "papermill": {
     "duration": 0.038747,
     "end_time": "2022-01-07T05:49:28.028738",
     "exception": false,
     "start_time": "2022-01-07T05:49:27.989991",
     "status": "completed"
    },
    "tags": []
   },
   "outputs": [
    {
     "data": {
      "text/plain": [
       "9.477576309595709e-06"
      ]
     },
     "execution_count": 9,
     "metadata": {},
     "output_type": "execute_result"
    }
   ],
   "source": [
    "# Check the model interface\n",
    "x = get_features(df_train.iloc[1])\n",
    "y_pred = models[0].predict([x])\n",
    "y_pred[0]"
   ]
  },
  {
   "cell_type": "markdown",
   "id": "bdb76aaa",
   "metadata": {
    "papermill": {
     "duration": 0.022492,
     "end_time": "2022-01-07T05:49:28.076448",
     "exception": false,
     "start_time": "2022-01-07T05:49:28.053956",
     "status": "completed"
    },
    "tags": []
   },
   "source": [
    "## Predict & Submit"
   ]
  },
  {
   "cell_type": "markdown",
   "id": "9dd79ace",
   "metadata": {
    "papermill": {
     "duration": 0.028721,
     "end_time": "2022-01-07T05:49:28.129640",
     "exception": false,
     "start_time": "2022-01-07T05:49:28.100919",
     "status": "completed"
    },
    "tags": []
   },
   "source": [
    "References: Detailed API Introduction\n",
    "\n",
    "Something that helped me understand this iterator was adding a pdb checkpoint inside of the for loop:"
   ]
  },
  {
   "cell_type": "code",
   "execution_count": 10,
   "id": "183def72",
   "metadata": {
    "execution": {
     "iopub.execute_input": "2022-01-07T05:49:28.191016Z",
     "iopub.status.busy": "2022-01-07T05:49:28.190397Z",
     "iopub.status.idle": "2022-01-07T05:49:28.194134Z",
     "shell.execute_reply": "2022-01-07T05:49:28.193465Z",
     "shell.execute_reply.started": "2022-01-07T05:40:57.636034Z"
    },
    "papermill": {
     "duration": 0.034539,
     "end_time": "2022-01-07T05:49:28.194325",
     "exception": false,
     "start_time": "2022-01-07T05:49:28.159786",
     "status": "completed"
    },
    "tags": []
   },
   "outputs": [],
   "source": [
    "# import pdb; pdb.set_trace()"
   ]
  },
  {
   "cell_type": "markdown",
   "id": "0496a67c",
   "metadata": {
    "papermill": {
     "duration": 0.022633,
     "end_time": "2022-01-07T05:49:28.242813",
     "exception": false,
     "start_time": "2022-01-07T05:49:28.220180",
     "status": "completed"
    },
    "tags": []
   },
   "source": [
    "See [Python Debugging With Pdb](https://realpython.com/python-debugging-pdb/) if you want to use it and you don't know how to."
   ]
  },
  {
   "cell_type": "code",
   "execution_count": 11,
   "id": "0b9c605a",
   "metadata": {
    "execution": {
     "iopub.execute_input": "2022-01-07T05:49:28.296176Z",
     "iopub.status.busy": "2022-01-07T05:49:28.291245Z",
     "iopub.status.idle": "2022-01-07T05:49:28.485592Z",
     "shell.execute_reply": "2022-01-07T05:49:28.486230Z",
     "shell.execute_reply.started": "2022-01-07T05:37:04.991666Z"
    },
    "papermill": {
     "duration": 0.220612,
     "end_time": "2022-01-07T05:49:28.486424",
     "exception": false,
     "start_time": "2022-01-07T05:49:28.265812",
     "status": "completed"
    },
    "tags": []
   },
   "outputs": [
    {
     "name": "stdout",
     "output_type": "stream",
     "text": [
      "This version of the API is not optimized and should not be used to estimate the runtime of your code on the hidden test set.\n"
     ]
    },
    {
     "data": {
      "text/plain": [
       "Count             1201.000000\n",
       "Open                 1.478556\n",
       "High                 1.486030\n",
       "Low                  1.478000\n",
       "Close                1.483681\n",
       "Volume          654799.561103\n",
       "VWAP                 1.481439\n",
       "Upper_Shadow         0.002349\n",
       "Lower_Shadow         0.000556\n",
       "Name: 0, dtype: float64"
      ]
     },
     "metadata": {},
     "output_type": "display_data"
    },
    {
     "data": {
      "text/html": [
       "<div>\n",
       "<style scoped>\n",
       "    .dataframe tbody tr th:only-of-type {\n",
       "        vertical-align: middle;\n",
       "    }\n",
       "\n",
       "    .dataframe tbody tr th {\n",
       "        vertical-align: top;\n",
       "    }\n",
       "\n",
       "    .dataframe thead th {\n",
       "        text-align: right;\n",
       "    }\n",
       "</style>\n",
       "<table border=\"1\" class=\"dataframe\">\n",
       "  <thead>\n",
       "    <tr style=\"text-align: right;\">\n",
       "      <th></th>\n",
       "      <th>row_id</th>\n",
       "      <th>Target</th>\n",
       "    </tr>\n",
       "  </thead>\n",
       "  <tbody>\n",
       "    <tr>\n",
       "      <th>0</th>\n",
       "      <td>0</td>\n",
       "      <td>-0.000031</td>\n",
       "    </tr>\n",
       "    <tr>\n",
       "      <th>1</th>\n",
       "      <td>1</td>\n",
       "      <td>-0.000002</td>\n",
       "    </tr>\n",
       "    <tr>\n",
       "      <th>2</th>\n",
       "      <td>2</td>\n",
       "      <td>0.000020</td>\n",
       "    </tr>\n",
       "    <tr>\n",
       "      <th>3</th>\n",
       "      <td>3</td>\n",
       "      <td>0.000013</td>\n",
       "    </tr>\n",
       "    <tr>\n",
       "      <th>4</th>\n",
       "      <td>4</td>\n",
       "      <td>0.000032</td>\n",
       "    </tr>\n",
       "    <tr>\n",
       "      <th>5</th>\n",
       "      <td>5</td>\n",
       "      <td>-0.000004</td>\n",
       "    </tr>\n",
       "    <tr>\n",
       "      <th>6</th>\n",
       "      <td>6</td>\n",
       "      <td>0.000072</td>\n",
       "    </tr>\n",
       "    <tr>\n",
       "      <th>7</th>\n",
       "      <td>7</td>\n",
       "      <td>-0.000007</td>\n",
       "    </tr>\n",
       "    <tr>\n",
       "      <th>8</th>\n",
       "      <td>8</td>\n",
       "      <td>-0.000007</td>\n",
       "    </tr>\n",
       "    <tr>\n",
       "      <th>9</th>\n",
       "      <td>9</td>\n",
       "      <td>-0.000017</td>\n",
       "    </tr>\n",
       "    <tr>\n",
       "      <th>10</th>\n",
       "      <td>10</td>\n",
       "      <td>-0.000029</td>\n",
       "    </tr>\n",
       "    <tr>\n",
       "      <th>11</th>\n",
       "      <td>11</td>\n",
       "      <td>0.000029</td>\n",
       "    </tr>\n",
       "    <tr>\n",
       "      <th>12</th>\n",
       "      <td>12</td>\n",
       "      <td>-0.000037</td>\n",
       "    </tr>\n",
       "    <tr>\n",
       "      <th>13</th>\n",
       "      <td>13</td>\n",
       "      <td>-0.000002</td>\n",
       "    </tr>\n",
       "  </tbody>\n",
       "</table>\n",
       "</div>"
      ],
      "text/plain": [
       "    row_id    Target\n",
       "0        0 -0.000031\n",
       "1        1 -0.000002\n",
       "2        2  0.000020\n",
       "3        3  0.000013\n",
       "4        4  0.000032\n",
       "5        5 -0.000004\n",
       "6        6  0.000072\n",
       "7        7 -0.000007\n",
       "8        8 -0.000007\n",
       "9        9 -0.000017\n",
       "10      10 -0.000029\n",
       "11      11  0.000029\n",
       "12      12 -0.000037\n",
       "13      13 -0.000002"
      ]
     },
     "metadata": {},
     "output_type": "display_data"
    }
   ],
   "source": [
    "env = gresearch_crypto.make_env()\n",
    "iter_test = env.iter_test()\n",
    "\n",
    "for i, (df_test, df_pred) in enumerate(iter_test):\n",
    "    for j, row in df_test.iterrows():\n",
    "        \n",
    "        model = models[row['Asset_ID']]\n",
    "        x_test = get_features(row)\n",
    "        y_pred = model.predict([x_test])[0]\n",
    "        \n",
    "        df_pred.loc[df_pred['row_id'] == row['row_id'], 'Target'] = y_pred\n",
    "        \n",
    "        # Print just one sample row to get a feeling of what it looks like\n",
    "        if i == 0 and j == 0:\n",
    "            display(x_test)\n",
    "            \n",
    "    # Display the first prediction dataframe\n",
    "    if i == 0:\n",
    "        display(df_pred)\n",
    "        \n",
    "        \n",
    "    # Send submissions\n",
    "    env.predict(df_pred)"
   ]
  },
  {
   "cell_type": "markdown",
   "id": "3f43f50c",
   "metadata": {
    "papermill": {
     "duration": 0.02438,
     "end_time": "2022-01-07T05:49:28.536602",
     "exception": false,
     "start_time": "2022-01-07T05:49:28.512222",
     "status": "completed"
    },
    "tags": []
   },
   "source": []
  },
  {
   "cell_type": "code",
   "execution_count": null,
   "id": "d6e7cf0a",
   "metadata": {
    "papermill": {
     "duration": 0.024606,
     "end_time": "2022-01-07T05:49:28.585643",
     "exception": false,
     "start_time": "2022-01-07T05:49:28.561037",
     "status": "completed"
    },
    "tags": []
   },
   "outputs": [],
   "source": []
  },
  {
   "cell_type": "code",
   "execution_count": null,
   "id": "442c4671",
   "metadata": {
    "papermill": {
     "duration": 0.024324,
     "end_time": "2022-01-07T05:49:28.634412",
     "exception": false,
     "start_time": "2022-01-07T05:49:28.610088",
     "status": "completed"
    },
    "tags": []
   },
   "outputs": [],
   "source": []
  },
  {
   "cell_type": "code",
   "execution_count": null,
   "id": "739b4959",
   "metadata": {
    "papermill": {
     "duration": 0.024045,
     "end_time": "2022-01-07T05:49:28.682906",
     "exception": false,
     "start_time": "2022-01-07T05:49:28.658861",
     "status": "completed"
    },
    "tags": []
   },
   "outputs": [],
   "source": []
  },
  {
   "cell_type": "markdown",
   "id": "62db94c1",
   "metadata": {
    "papermill": {
     "duration": 0.025147,
     "end_time": "2022-01-07T05:49:28.732569",
     "exception": false,
     "start_time": "2022-01-07T05:49:28.707422",
     "status": "completed"
    },
    "tags": []
   },
   "source": []
  }
 ],
 "metadata": {
  "kernelspec": {
   "display_name": "Python 3",
   "language": "python",
   "name": "python3"
  },
  "language_info": {
   "codemirror_mode": {
    "name": "ipython",
    "version": 3
   },
   "file_extension": ".py",
   "mimetype": "text/x-python",
   "name": "python",
   "nbconvert_exporter": "python",
   "pygments_lexer": "ipython3",
   "version": "3.7.12"
  },
  "papermill": {
   "default_parameters": {},
   "duration": 98.609735,
   "end_time": "2022-01-07T05:49:29.570515",
   "environment_variables": {},
   "exception": null,
   "input_path": "__notebook__.ipynb",
   "output_path": "__notebook__.ipynb",
   "parameters": {},
   "start_time": "2022-01-07T05:47:50.960780",
   "version": "2.3.3"
  }
 },
 "nbformat": 4,
 "nbformat_minor": 5
}
